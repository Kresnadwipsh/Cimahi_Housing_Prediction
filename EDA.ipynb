{
 "cells": [
  {
   "cell_type": "markdown",
   "metadata": {},
   "source": [
    "# Part 2 : Exploratory Data Analysis"
   ]
  },
  {
   "cell_type": "markdown",
   "metadata": {},
   "source": [
    "Welcome to the second stage, in this section we will use the cleaned scrape dataset to explore and understand the data, and then draw some insights. "
   ]
  },
  {
   "cell_type": "markdown",
   "metadata": {},
   "source": [
    "## Importing Library"
   ]
  },
  {
   "cell_type": "code",
   "execution_count": 1,
   "metadata": {},
   "outputs": [],
   "source": [
    "import pandas as pd\n",
    "import numpy as np\n",
    "\n",
    "import seaborn as sns\n",
    "import matplotlib.pyplot as plt\n",
    "import pylab\n",
    "from scipy import stats"
   ]
  },
  {
   "cell_type": "markdown",
   "metadata": {},
   "source": [
    "## Importing Dataset"
   ]
  },
  {
   "cell_type": "code",
   "execution_count": 2,
   "metadata": {},
   "outputs": [
    {
     "data": {
      "text/html": [
       "<div>\n",
       "<style scoped>\n",
       "    .dataframe tbody tr th:only-of-type {\n",
       "        vertical-align: middle;\n",
       "    }\n",
       "\n",
       "    .dataframe tbody tr th {\n",
       "        vertical-align: top;\n",
       "    }\n",
       "\n",
       "    .dataframe thead th {\n",
       "        text-align: right;\n",
       "    }\n",
       "</style>\n",
       "<table border=\"1\" class=\"dataframe\">\n",
       "  <thead>\n",
       "    <tr style=\"text-align: right;\">\n",
       "      <th></th>\n",
       "      <th>url</th>\n",
       "      <th>address</th>\n",
       "      <th>building_area</th>\n",
       "      <th>surface_area</th>\n",
       "      <th>bedroom</th>\n",
       "      <th>bathroom</th>\n",
       "      <th>parking_area</th>\n",
       "      <th>tenure</th>\n",
       "      <th>price</th>\n",
       "    </tr>\n",
       "  </thead>\n",
       "  <tbody>\n",
       "    <tr>\n",
       "      <th>0</th>\n",
       "      <td>https://www.rumah123.com/properti/cimahi/hos62...</td>\n",
       "      <td>Cimahi Utara, Cimahi</td>\n",
       "      <td>170.0</td>\n",
       "      <td>205.0</td>\n",
       "      <td>2</td>\n",
       "      <td>1</td>\n",
       "      <td>0</td>\n",
       "      <td>SHM - Sertifikat Hak Milik</td>\n",
       "      <td>2.500000e+09</td>\n",
       "    </tr>\n",
       "    <tr>\n",
       "      <th>1</th>\n",
       "      <td>https://www.rumah123.com/properti/bandung/hos9...</td>\n",
       "      <td>Lembang, Bandung Barat</td>\n",
       "      <td>50.0</td>\n",
       "      <td>85.0</td>\n",
       "      <td>3</td>\n",
       "      <td>2</td>\n",
       "      <td>1</td>\n",
       "      <td>SHM - Sertifikat Hak Milik</td>\n",
       "      <td>9.980000e+08</td>\n",
       "    </tr>\n",
       "    <tr>\n",
       "      <th>2</th>\n",
       "      <td>https://www.rumah123.com/properti/cimahi/hos91...</td>\n",
       "      <td>Cimahi Utara, Cimahi</td>\n",
       "      <td>65.0</td>\n",
       "      <td>120.0</td>\n",
       "      <td>3</td>\n",
       "      <td>2</td>\n",
       "      <td>2</td>\n",
       "      <td>SHM - Sertifikat Hak Milik</td>\n",
       "      <td>1.040000e+09</td>\n",
       "    </tr>\n",
       "    <tr>\n",
       "      <th>3</th>\n",
       "      <td>https://www.rumah123.com/properti/cimahi/hos86...</td>\n",
       "      <td>Cimahi Utara, Cimahi</td>\n",
       "      <td>200.0</td>\n",
       "      <td>150.0</td>\n",
       "      <td>4</td>\n",
       "      <td>3</td>\n",
       "      <td>1</td>\n",
       "      <td>SHM - Sertifikat Hak Milik</td>\n",
       "      <td>1.650000e+09</td>\n",
       "    </tr>\n",
       "    <tr>\n",
       "      <th>4</th>\n",
       "      <td>https://www.rumah123.com/properti/cimahi/hos87...</td>\n",
       "      <td>Cimahi Utara, Cimahi</td>\n",
       "      <td>120.0</td>\n",
       "      <td>386.0</td>\n",
       "      <td>4</td>\n",
       "      <td>3</td>\n",
       "      <td>2</td>\n",
       "      <td>SHM - Sertifikat Hak Milik</td>\n",
       "      <td>2.500000e+09</td>\n",
       "    </tr>\n",
       "    <tr>\n",
       "      <th>...</th>\n",
       "      <td>...</td>\n",
       "      <td>...</td>\n",
       "      <td>...</td>\n",
       "      <td>...</td>\n",
       "      <td>...</td>\n",
       "      <td>...</td>\n",
       "      <td>...</td>\n",
       "      <td>...</td>\n",
       "      <td>...</td>\n",
       "    </tr>\n",
       "    <tr>\n",
       "      <th>896</th>\n",
       "      <td>https://www.rumah123.com/properti/cimahi/hos29...</td>\n",
       "      <td>Cimahi Selatan, Cimahi</td>\n",
       "      <td>90.0</td>\n",
       "      <td>104.0</td>\n",
       "      <td>2</td>\n",
       "      <td>2</td>\n",
       "      <td>0</td>\n",
       "      <td>SHM - Sertifikat Hak Milik</td>\n",
       "      <td>1.200000e+09</td>\n",
       "    </tr>\n",
       "    <tr>\n",
       "      <th>897</th>\n",
       "      <td>https://www.rumah123.com/properti/bandung/hos8...</td>\n",
       "      <td>Lembang, Bandung Barat</td>\n",
       "      <td>590.0</td>\n",
       "      <td>756.0</td>\n",
       "      <td>11</td>\n",
       "      <td>6</td>\n",
       "      <td>0</td>\n",
       "      <td>SHM - Sertifikat Hak Milik</td>\n",
       "      <td>5.500000e+09</td>\n",
       "    </tr>\n",
       "    <tr>\n",
       "      <th>898</th>\n",
       "      <td>https://www.rumah123.com/properti/cimahi/hos91...</td>\n",
       "      <td>Cimahi Utara, Cimahi</td>\n",
       "      <td>55.0</td>\n",
       "      <td>80.0</td>\n",
       "      <td>2</td>\n",
       "      <td>2</td>\n",
       "      <td>1</td>\n",
       "      <td>SHM - Sertifikat Hak Milik</td>\n",
       "      <td>7.000000e+08</td>\n",
       "    </tr>\n",
       "    <tr>\n",
       "      <th>899</th>\n",
       "      <td>https://www.rumah123.com/properti/bandung/hos8...</td>\n",
       "      <td>Cihanjuang, Bandung Barat</td>\n",
       "      <td>60.0</td>\n",
       "      <td>90.0</td>\n",
       "      <td>3</td>\n",
       "      <td>1</td>\n",
       "      <td>1</td>\n",
       "      <td>SHM - Sertifikat Hak Milik</td>\n",
       "      <td>7.500000e+08</td>\n",
       "    </tr>\n",
       "    <tr>\n",
       "      <th>900</th>\n",
       "      <td>https://www.rumah123.com/properti/cimahi/hos82...</td>\n",
       "      <td>Cimahi Tengah, Cimahi</td>\n",
       "      <td>100.0</td>\n",
       "      <td>102.0</td>\n",
       "      <td>4</td>\n",
       "      <td>2</td>\n",
       "      <td>0</td>\n",
       "      <td>SHM - Sertifikat Hak Milik</td>\n",
       "      <td>7.600000e+08</td>\n",
       "    </tr>\n",
       "  </tbody>\n",
       "</table>\n",
       "<p>901 rows × 9 columns</p>\n",
       "</div>"
      ],
      "text/plain": [
       "                                                   url  \\\n",
       "0    https://www.rumah123.com/properti/cimahi/hos62...   \n",
       "1    https://www.rumah123.com/properti/bandung/hos9...   \n",
       "2    https://www.rumah123.com/properti/cimahi/hos91...   \n",
       "3    https://www.rumah123.com/properti/cimahi/hos86...   \n",
       "4    https://www.rumah123.com/properti/cimahi/hos87...   \n",
       "..                                                 ...   \n",
       "896  https://www.rumah123.com/properti/cimahi/hos29...   \n",
       "897  https://www.rumah123.com/properti/bandung/hos8...   \n",
       "898  https://www.rumah123.com/properti/cimahi/hos91...   \n",
       "899  https://www.rumah123.com/properti/bandung/hos8...   \n",
       "900  https://www.rumah123.com/properti/cimahi/hos82...   \n",
       "\n",
       "                       address  building_area  surface_area  bedroom  \\\n",
       "0         Cimahi Utara, Cimahi          170.0         205.0        2   \n",
       "1       Lembang, Bandung Barat           50.0          85.0        3   \n",
       "2         Cimahi Utara, Cimahi           65.0         120.0        3   \n",
       "3         Cimahi Utara, Cimahi          200.0         150.0        4   \n",
       "4         Cimahi Utara, Cimahi          120.0         386.0        4   \n",
       "..                         ...            ...           ...      ...   \n",
       "896     Cimahi Selatan, Cimahi           90.0         104.0        2   \n",
       "897     Lembang, Bandung Barat          590.0         756.0       11   \n",
       "898       Cimahi Utara, Cimahi           55.0          80.0        2   \n",
       "899  Cihanjuang, Bandung Barat           60.0          90.0        3   \n",
       "900      Cimahi Tengah, Cimahi          100.0         102.0        4   \n",
       "\n",
       "     bathroom  parking_area                      tenure         price  \n",
       "0           1             0  SHM - Sertifikat Hak Milik  2.500000e+09  \n",
       "1           2             1  SHM - Sertifikat Hak Milik  9.980000e+08  \n",
       "2           2             2  SHM - Sertifikat Hak Milik  1.040000e+09  \n",
       "3           3             1  SHM - Sertifikat Hak Milik  1.650000e+09  \n",
       "4           3             2  SHM - Sertifikat Hak Milik  2.500000e+09  \n",
       "..        ...           ...                         ...           ...  \n",
       "896         2             0  SHM - Sertifikat Hak Milik  1.200000e+09  \n",
       "897         6             0  SHM - Sertifikat Hak Milik  5.500000e+09  \n",
       "898         2             1  SHM - Sertifikat Hak Milik  7.000000e+08  \n",
       "899         1             1  SHM - Sertifikat Hak Milik  7.500000e+08  \n",
       "900         2             0  SHM - Sertifikat Hak Milik  7.600000e+08  \n",
       "\n",
       "[901 rows x 9 columns]"
      ]
     },
     "execution_count": 2,
     "metadata": {},
     "output_type": "execute_result"
    }
   ],
   "source": [
    "df = pd.read_csv(\"house_clean.csv\")\n",
    "df"
   ]
  },
  {
   "cell_type": "markdown",
   "metadata": {},
   "source": [
    "## Data Understanding"
   ]
  },
  {
   "cell_type": "code",
   "execution_count": 3,
   "metadata": {},
   "outputs": [
    {
     "name": "stdout",
     "output_type": "stream",
     "text": [
      "<class 'pandas.core.frame.DataFrame'>\n",
      "RangeIndex: 901 entries, 0 to 900\n",
      "Data columns (total 9 columns):\n",
      " #   Column         Non-Null Count  Dtype  \n",
      "---  ------         --------------  -----  \n",
      " 0   url            901 non-null    object \n",
      " 1   address        901 non-null    object \n",
      " 2   building_area  901 non-null    float64\n",
      " 3   surface_area   901 non-null    float64\n",
      " 4   bedroom        901 non-null    int64  \n",
      " 5   bathroom       901 non-null    int64  \n",
      " 6   parking_area   901 non-null    int64  \n",
      " 7   tenure         901 non-null    object \n",
      " 8   price          901 non-null    float64\n",
      "dtypes: float64(3), int64(3), object(3)\n",
      "memory usage: 63.5+ KB\n"
     ]
    }
   ],
   "source": [
    "df.info()"
   ]
  },
  {
   "cell_type": "code",
   "execution_count": 4,
   "metadata": {},
   "outputs": [
    {
     "data": {
      "text/plain": [
       "(901, 9)"
      ]
     },
     "execution_count": 4,
     "metadata": {},
     "output_type": "execute_result"
    }
   ],
   "source": [
    "df.shape"
   ]
  },
  {
   "cell_type": "markdown",
   "metadata": {},
   "source": [
    "We have 901 rows and 9 columns. The columns represent various characteristics of each unit, and is described as follows.\n",
    "<br>\n",
    "\n",
    "|__No.__|__Features__|__Description__|\n",
    "| - | - | - |\n",
    "|1| url | Url link of each house unit page on the rumah123.com website |\n",
    "|2| Address | District name or area of the house is located |\n",
    "|3| Building Area | Total Building Area in meters squared (m²)|\n",
    "|4| Surface Area | Total Surface Area in meters squared (m²) |\n",
    "|5| Bedroom | Number of Bedroom |\n",
    "|6| Bathroom | Number of Bathroom |\n",
    "|7| Parking Area | Number of Parking Area in Vehicle (Car) Unit |\n",
    "|8| Tenure | Ownership Status or Type of Ownership License |\n",
    "|9| Price | Total Selling Price in Rupiah (IDR)|\n"
   ]
  },
  {
   "cell_type": "code",
   "execution_count": 5,
   "metadata": {},
   "outputs": [
    {
     "data": {
      "text/html": [
       "<div>\n",
       "<style scoped>\n",
       "    .dataframe tbody tr th:only-of-type {\n",
       "        vertical-align: middle;\n",
       "    }\n",
       "\n",
       "    .dataframe tbody tr th {\n",
       "        vertical-align: top;\n",
       "    }\n",
       "\n",
       "    .dataframe thead th {\n",
       "        text-align: right;\n",
       "    }\n",
       "</style>\n",
       "<table border=\"1\" class=\"dataframe\">\n",
       "  <thead>\n",
       "    <tr style=\"text-align: right;\">\n",
       "      <th></th>\n",
       "      <th>building_area</th>\n",
       "      <th>surface_area</th>\n",
       "      <th>bedroom</th>\n",
       "      <th>bathroom</th>\n",
       "      <th>parking_area</th>\n",
       "      <th>price</th>\n",
       "    </tr>\n",
       "  </thead>\n",
       "  <tbody>\n",
       "    <tr>\n",
       "      <th>count</th>\n",
       "      <td>901.000000</td>\n",
       "      <td>901.000000</td>\n",
       "      <td>901.000000</td>\n",
       "      <td>901.000000</td>\n",
       "      <td>901.000000</td>\n",
       "      <td>9.010000e+02</td>\n",
       "    </tr>\n",
       "    <tr>\n",
       "      <th>mean</th>\n",
       "      <td>139.641509</td>\n",
       "      <td>226.735849</td>\n",
       "      <td>3.243063</td>\n",
       "      <td>2.221976</td>\n",
       "      <td>0.803552</td>\n",
       "      <td>1.710226e+09</td>\n",
       "    </tr>\n",
       "    <tr>\n",
       "      <th>std</th>\n",
       "      <td>149.122288</td>\n",
       "      <td>776.352159</td>\n",
       "      <td>2.375750</td>\n",
       "      <td>1.888446</td>\n",
       "      <td>1.742995</td>\n",
       "      <td>2.665649e+09</td>\n",
       "    </tr>\n",
       "    <tr>\n",
       "      <th>min</th>\n",
       "      <td>30.000000</td>\n",
       "      <td>25.000000</td>\n",
       "      <td>0.000000</td>\n",
       "      <td>0.000000</td>\n",
       "      <td>0.000000</td>\n",
       "      <td>6.670000e+06</td>\n",
       "    </tr>\n",
       "    <tr>\n",
       "      <th>25%</th>\n",
       "      <td>55.000000</td>\n",
       "      <td>80.000000</td>\n",
       "      <td>2.000000</td>\n",
       "      <td>1.000000</td>\n",
       "      <td>0.000000</td>\n",
       "      <td>6.500000e+08</td>\n",
       "    </tr>\n",
       "    <tr>\n",
       "      <th>50%</th>\n",
       "      <td>90.000000</td>\n",
       "      <td>114.000000</td>\n",
       "      <td>3.000000</td>\n",
       "      <td>2.000000</td>\n",
       "      <td>1.000000</td>\n",
       "      <td>1.000000e+09</td>\n",
       "    </tr>\n",
       "    <tr>\n",
       "      <th>75%</th>\n",
       "      <td>168.000000</td>\n",
       "      <td>171.000000</td>\n",
       "      <td>4.000000</td>\n",
       "      <td>3.000000</td>\n",
       "      <td>1.000000</td>\n",
       "      <td>1.700000e+09</td>\n",
       "    </tr>\n",
       "    <tr>\n",
       "      <th>max</th>\n",
       "      <td>2000.000000</td>\n",
       "      <td>20000.000000</td>\n",
       "      <td>34.000000</td>\n",
       "      <td>25.000000</td>\n",
       "      <td>25.000000</td>\n",
       "      <td>4.200000e+10</td>\n",
       "    </tr>\n",
       "  </tbody>\n",
       "</table>\n",
       "</div>"
      ],
      "text/plain": [
       "       building_area  surface_area     bedroom    bathroom  parking_area  \\\n",
       "count     901.000000    901.000000  901.000000  901.000000    901.000000   \n",
       "mean      139.641509    226.735849    3.243063    2.221976      0.803552   \n",
       "std       149.122288    776.352159    2.375750    1.888446      1.742995   \n",
       "min        30.000000     25.000000    0.000000    0.000000      0.000000   \n",
       "25%        55.000000     80.000000    2.000000    1.000000      0.000000   \n",
       "50%        90.000000    114.000000    3.000000    2.000000      1.000000   \n",
       "75%       168.000000    171.000000    4.000000    3.000000      1.000000   \n",
       "max      2000.000000  20000.000000   34.000000   25.000000     25.000000   \n",
       "\n",
       "              price  \n",
       "count  9.010000e+02  \n",
       "mean   1.710226e+09  \n",
       "std    2.665649e+09  \n",
       "min    6.670000e+06  \n",
       "25%    6.500000e+08  \n",
       "50%    1.000000e+09  \n",
       "75%    1.700000e+09  \n",
       "max    4.200000e+10  "
      ]
     },
     "execution_count": 5,
     "metadata": {},
     "output_type": "execute_result"
    }
   ],
   "source": [
    "df.describe()"
   ]
  },
  {
   "cell_type": "code",
   "execution_count": 6,
   "metadata": {},
   "outputs": [
    {
     "name": "stdout",
     "output_type": "stream",
     "text": [
      "url= ['https://www.rumah123.com/properti/cimahi/hos6216128/'\n",
      " 'https://www.rumah123.com/properti/bandung/hos9080715/'\n",
      " 'https://www.rumah123.com/properti/cimahi/hos9131775/'\n",
      " 'https://www.rumah123.com/properti/cimahi/hos8606127/'\n",
      " 'https://www.rumah123.com/properti/cimahi/hos8765184/'\n",
      " 'https://www.rumah123.com/properti/cimahi/hos8556426/'\n",
      " 'https://www.rumah123.com/properti/bandung/hos9047315/'\n",
      " 'https://www.rumah123.com/properti/cimahi/hos9135610/'\n",
      " 'https://www.rumah123.com/properti/cimahi/hos9014407/'\n",
      " 'https://www.rumah123.com/properti/bandung-barat/hos8506801/'\n",
      " 'https://www.rumah123.com/properti/bandung/hos9135602/'\n",
      " 'https://www.rumah123.com/properti/cimahi/hos9125008/'\n",
      " 'https://www.rumah123.com/properti/cimahi/hos8919076/'\n",
      " 'https://www.rumah123.com/properti/bandung/hos7726218/'\n",
      " 'https://www.rumah123.com/properti/cimahi/hos8933114/'\n",
      " 'https://www.rumah123.com/properti/bandung/hos9134465/'\n",
      " 'https://www.rumah123.com/properti/cimahi/hos8735349/'\n",
      " 'https://www.rumah123.com/properti/cimahi/hos8949137/'\n",
      " 'https://www.rumah123.com/properti/bandung/hos8194479/'\n",
      " 'https://www.rumah123.com/properti/cimahi/hos8674405/'\n",
      " 'https://www.rumah123.com/properti/bandung/hos8947208/'\n",
      " 'https://www.rumah123.com/properti/cimahi/hos9094377/'\n",
      " 'https://www.rumah123.com/properti/cimahi/hos8306233/'\n",
      " 'https://www.rumah123.com/properti/bandung/hos9132457/'\n",
      " 'https://www.rumah123.com/properti/bandung/hos8915549/'\n",
      " 'https://www.rumah123.com/properti/cimahi/hos9131825/'\n",
      " 'https://www.rumah123.com/properti/bandung/hos4747308/'\n",
      " 'https://www.rumah123.com/properti/bandung-barat/hos8226270/'\n",
      " 'https://www.rumah123.com/properti/cimahi/hos8294286/'\n",
      " 'https://www.rumah123.com/properti/bandung/hos8531699/'\n",
      " 'https://www.rumah123.com/properti/cimahi/hos7371750/'\n",
      " 'https://www.rumah123.com/properti/bandung/hos8442785/'\n",
      " 'https://www.rumah123.com/properti/bandung/hos4753756/'\n",
      " 'https://www.rumah123.com/properti/cimahi/hos9134702/'\n",
      " 'https://www.rumah123.com/properti/bandung/hos8577779/'\n",
      " 'https://www.rumah123.com/properti/bandung-barat/hos9084890/'\n",
      " 'https://www.rumah123.com/properti/cimahi/hos8411250/'\n",
      " 'https://www.rumah123.com/properti/bandung/hos8754779/'\n",
      " 'https://www.rumah123.com/properti/cimahi/hos9133277/'\n",
      " 'https://www.rumah123.com/properti/bandung/hos7911101/'\n",
      " 'https://www.rumah123.com/properti/cimahi/hos8552439/'\n",
      " 'https://www.rumah123.com/properti/cimahi/hos8524131/'\n",
      " 'https://www.rumah123.com/properti/cimahi/hos8983745/'\n",
      " 'https://www.rumah123.com/properti/bandung/hos9064726/'\n",
      " 'https://www.rumah123.com/properti/cimahi/hos8983580/'\n",
      " 'https://www.rumah123.com/properti/bandung/hos8765179/'\n",
      " 'https://www.rumah123.com/properti/cimahi/hos8588255/'\n",
      " 'https://www.rumah123.com/properti/cimahi/hos9084183/'\n",
      " 'https://www.rumah123.com/properti/bandung/hos7891318/'\n",
      " 'https://www.rumah123.com/properti/cimahi/hos5962002/'\n",
      " 'https://www.rumah123.com/properti/bandung-barat/hos7835471/'\n",
      " 'https://www.rumah123.com/properti/cimahi/hos8470653/'\n",
      " 'https://www.rumah123.com/properti/cimahi/hos8523010/'\n",
      " 'https://www.rumah123.com/properti/bandung/hos8043693/'\n",
      " 'https://www.rumah123.com/properti/bandung/hos8754812/'\n",
      " 'https://www.rumah123.com/properti/cimahi/hos9060113/'\n",
      " 'https://www.rumah123.com/properti/cimahi/hos9098310/'\n",
      " 'https://www.rumah123.com/properti/cimahi/hos8619159/'\n",
      " 'https://www.rumah123.com/properti/bandung/hos8377129/'\n",
      " 'https://www.rumah123.com/properti/cimahi/hos4653487/'\n",
      " 'https://www.rumah123.com/properti/bandung/hos9060522/'\n",
      " 'https://www.rumah123.com/properti/cimahi/hos9060612/'\n",
      " 'https://www.rumah123.com/properti/cimahi/hos9057948/'\n",
      " 'https://www.rumah123.com/properti/bandung-barat/hos8399698/'\n",
      " 'https://www.rumah123.com/properti/cimahi/hos8671314/'\n",
      " 'https://www.rumah123.com/properti/cimahi/hos9135444/'\n",
      " 'https://www.rumah123.com/properti/cimahi/hos7704423/'\n",
      " 'https://www.rumah123.com/properti/cimahi/hos8582871/'\n",
      " 'https://www.rumah123.com/properti/cimahi/hos8765225/'\n",
      " 'https://www.rumah123.com/properti/bandung/hos3104619/'\n",
      " 'https://www.rumah123.com/properti/cimahi/hos9132503/'\n",
      " 'https://www.rumah123.com/properti/bandung/hos9127294/'\n",
      " 'https://www.rumah123.com/properti/bandung/hos8007188/'\n",
      " 'https://www.rumah123.com/properti/bandung/hos9094826/'\n",
      " 'https://www.rumah123.com/properti/bandung/hos6051884/'\n",
      " 'https://www.rumah123.com/properti/cimahi/hos8723641/'\n",
      " 'https://www.rumah123.com/properti/cimahi/hos8807887/'\n",
      " 'https://www.rumah123.com/properti/bandung/hos8589468/'\n",
      " 'https://www.rumah123.com/properti/cimahi/hos8470774/'\n",
      " 'https://www.rumah123.com/properti/bandung/hos8574932/'\n",
      " 'https://www.rumah123.com/properti/cimahi/hos9082772/'\n",
      " 'https://www.rumah123.com/properti/cimahi/hos9134767/'\n",
      " 'https://www.rumah123.com/properti/cimahi/hos7373774/'\n",
      " 'https://www.rumah123.com/properti/bandung/hos8810156/'\n",
      " 'https://www.rumah123.com/properti/cimahi/hos8227518/'\n",
      " 'https://www.rumah123.com/properti/cimahi/hos8912721/'\n",
      " 'https://www.rumah123.com/properti/bandung/hos8722953/'\n",
      " 'https://www.rumah123.com/properti/bandung/hos8797329/'\n",
      " 'https://www.rumah123.com/properti/bandung/hos7399370/'\n",
      " 'https://www.rumah123.com/properti/bandung/hos8376720/'\n",
      " 'https://www.rumah123.com/properti/cimahi/hos8808066/'\n",
      " 'https://www.rumah123.com/properti/bandung/hos6969141/'\n",
      " 'https://www.rumah123.com/properti/cimahi/hos8983723/'\n",
      " 'https://www.rumah123.com/properti/cimahi/hos8975780/'\n",
      " 'https://www.rumah123.com/properti/cimahi/hos6921050/'\n",
      " 'https://www.rumah123.com/properti/cimahi/hos8669884/'\n",
      " 'https://www.rumah123.com/properti/bandung/hos8604169/'\n",
      " 'https://www.rumah123.com/properti/bandung/hos8674098/'\n",
      " 'https://www.rumah123.com/properti/bandung/hos9116241/'\n",
      " 'https://www.rumah123.com/properti/cimahi/hos7728079/'\n",
      " 'https://www.rumah123.com/properti/bandung/hos4572045/'\n",
      " 'https://www.rumah123.com/properti/cimahi/hos7725439/'\n",
      " 'https://www.rumah123.com/properti/cimahi/hos9064724/'\n",
      " 'https://www.rumah123.com/properti/bandung/hos7302965/'\n",
      " 'https://www.rumah123.com/properti/cimahi/hos8972101/'\n",
      " 'https://www.rumah123.com/properti/bandung/hos4462031/'\n",
      " 'https://www.rumah123.com/properti/bandung/hos9078007/'\n",
      " 'https://www.rumah123.com/properti/bandung/hos9093343/'\n",
      " 'https://www.rumah123.com/properti/cimahi/hos8723926/'\n",
      " 'https://www.rumah123.com/properti/cimahi/hos5221917/'\n",
      " 'https://www.rumah123.com/properti/bandung-barat/hos8974538/'\n",
      " 'https://www.rumah123.com/properti/bandung/hos8882416/'\n",
      " 'https://www.rumah123.com/properti/bandung-barat/hos7597027/'\n",
      " 'https://www.rumah123.com/properti/bandung/hos2936574/'\n",
      " 'https://www.rumah123.com/properti/bandung/hos8934687/'\n",
      " 'https://www.rumah123.com/properti/bandung-barat/hos7391447/'\n",
      " 'https://www.rumah123.com/properti/bandung/hos9003650/'\n",
      " 'https://www.rumah123.com/properti/bandung/hos8764380/'\n",
      " 'https://www.rumah123.com/properti/bandung/hos8279355/'\n",
      " 'https://www.rumah123.com/properti/cimahi/hos9009448/'\n",
      " 'https://www.rumah123.com/properti/bandung/hos8165420/'\n",
      " 'https://www.rumah123.com/properti/bandung/hos5088797/'\n",
      " 'https://www.rumah123.com/properti/bandung-barat/hos8041703/'\n",
      " 'https://www.rumah123.com/properti/bandung/hos8101586/'\n",
      " 'https://www.rumah123.com/properti/cimahi/hos7979368/'\n",
      " 'https://www.rumah123.com/properti/bandung/hos8506682/'\n",
      " 'https://www.rumah123.com/properti/bandung/hos5989108/'\n",
      " 'https://www.rumah123.com/properti/bandung/hos8426809/'\n",
      " 'https://www.rumah123.com/properti/bandung/hos8767638/'\n",
      " 'https://www.rumah123.com/properti/bandung/hos8772712/'\n",
      " 'https://www.rumah123.com/properti/cimahi/hos8605518/'\n",
      " 'https://www.rumah123.com/properti/cimahi/hos7834103/'\n",
      " 'https://www.rumah123.com/properti/cimahi/hos8758317/'\n",
      " 'https://www.rumah123.com/properti/cimahi/hos7895514/'\n",
      " 'https://www.rumah123.com/properti/cimahi/hos8729343/'\n",
      " 'https://www.rumah123.com/properti/bandung/hos8256367/'\n",
      " 'https://www.rumah123.com/properti/cimahi/hos8498818/'\n",
      " 'https://www.rumah123.com/properti/bandung/hos8498864/'\n",
      " 'https://www.rumah123.com/properti/bandung/hos9134543/'\n",
      " 'https://www.rumah123.com/properti/bandung/hos8612445/'\n",
      " 'https://www.rumah123.com/properti/bandung-barat/hos3354287/'\n",
      " 'https://www.rumah123.com/properti/bandung/hos9014382/'\n",
      " 'https://www.rumah123.com/properti/cimahi/hos8603748/'\n",
      " 'https://www.rumah123.com/properti/bandung/hos8582522/'\n",
      " 'https://www.rumah123.com/properti/cimahi/hos8791878/'\n",
      " 'https://www.rumah123.com/properti/cimahi/hos9081836/'\n",
      " 'https://www.rumah123.com/properti/cimahi/hos8754814/'\n",
      " 'https://www.rumah123.com/properti/bandung/hos8801743/'\n",
      " 'https://www.rumah123.com/properti/bandung/hos9016830/'\n",
      " 'https://www.rumah123.com/properti/bandung/hos8616156/'\n",
      " 'https://www.rumah123.com/properti/bandung-barat/hos8468714/'\n",
      " 'https://www.rumah123.com/properti/cimahi/hos5556038/'\n",
      " 'https://www.rumah123.com/properti/bandung/hos8063591/'\n",
      " 'https://www.rumah123.com/properti/bandung/hos4886359/'\n",
      " 'https://www.rumah123.com/properti/cimahi/hos8770540/'\n",
      " 'https://www.rumah123.com/properti/cimahi/hos8646550/'\n",
      " 'https://www.rumah123.com/properti/cimahi/hos8434266/'\n",
      " 'https://www.rumah123.com/properti/cimahi/hos9133497/'\n",
      " 'https://www.rumah123.com/properti/bandung/hos8552334/'\n",
      " 'https://www.rumah123.com/properti/cimahi/hos8306596/'\n",
      " 'https://www.rumah123.com/properti/cimahi/hos8801823/'\n",
      " 'https://www.rumah123.com/properti/cimahi/hos8641774/'\n",
      " 'https://www.rumah123.com/properti/cimahi/hos8764222/'\n",
      " 'https://www.rumah123.com/properti/cimahi/hos9134725/'\n",
      " 'https://www.rumah123.com/properti/cimahi/hos8472297/'\n",
      " 'https://www.rumah123.com/properti/cimahi/hos8757328/'\n",
      " 'https://www.rumah123.com/properti/cimahi/hos8531640/'\n",
      " 'https://www.rumah123.com/properti/bandung/hos8501542/'\n",
      " 'https://www.rumah123.com/properti/bandung/hos4303143/'\n",
      " 'https://www.rumah123.com/properti/cimahi/hos9094498/'\n",
      " 'https://www.rumah123.com/properti/bandung-barat/hos9022012/'\n",
      " 'https://www.rumah123.com/properti/cimahi/hos9059977/'\n",
      " 'https://www.rumah123.com/properti/bandung/hos9134343/'\n",
      " 'https://www.rumah123.com/properti/bandung-barat/hos8608902/'\n",
      " 'https://www.rumah123.com/properti/cimahi/hos8434299/'\n",
      " 'https://www.rumah123.com/properti/cimahi/hos8804708/'\n",
      " 'https://www.rumah123.com/properti/bandung/hos7588218/'\n",
      " 'https://www.rumah123.com/properti/bandung/hos7146812/'\n",
      " 'https://www.rumah123.com/properti/cimahi/hos8631031/'\n",
      " 'https://www.rumah123.com/properti/cimahi/hos8810991/'\n",
      " 'https://www.rumah123.com/properti/cimahi/hos9134642/'\n",
      " 'https://www.rumah123.com/properti/cimahi/hos8550954/'\n",
      " 'https://www.rumah123.com/properti/cimahi/hos2939887/'\n",
      " 'https://www.rumah123.com/properti/cimahi/hos8661743/'\n",
      " 'https://www.rumah123.com/properti/bandung/hos7307297/'\n",
      " 'https://www.rumah123.com/properti/bandung/hos8644404/'\n",
      " 'https://www.rumah123.com/properti/cimahi/hos7823461/'\n",
      " 'https://www.rumah123.com/properti/bandung/hos8674900/'\n",
      " 'https://www.rumah123.com/properti/cimahi/hos8976540/'\n",
      " 'https://www.rumah123.com/properti/bandung/hos5088750/'\n",
      " 'https://www.rumah123.com/properti/bandung/hos8612644/'\n",
      " 'https://www.rumah123.com/properti/cimahi/hos8574740/'\n",
      " 'https://www.rumah123.com/properti/bandung-barat/hos4498348/'\n",
      " 'https://www.rumah123.com/properti/bandung/hos8918700/'\n",
      " 'https://www.rumah123.com/properti/bandung/hos9049048/'\n",
      " 'https://www.rumah123.com/properti/bandung/hos9051176/'\n",
      " 'https://www.rumah123.com/properti/bandung/hos9077756/'\n",
      " 'https://www.rumah123.com/properti/bandung/hos8791649/'\n",
      " 'https://www.rumah123.com/properti/cimahi/hos8764165/'\n",
      " 'https://www.rumah123.com/properti/cimahi/hos9057848/'\n",
      " 'https://www.rumah123.com/properti/cimahi/hos8701297/'\n",
      " 'https://www.rumah123.com/properti/cimahi/hos8969693/'\n",
      " 'https://www.rumah123.com/properti/bandung/hos7599264/'\n",
      " 'https://www.rumah123.com/properti/cimahi/hos8933340/'\n",
      " 'https://www.rumah123.com/properti/bandung/hos9085895/'\n",
      " 'https://www.rumah123.com/properti/cimahi/hos9014331/'\n",
      " 'https://www.rumah123.com/properti/bandung/hos8552403/'\n",
      " 'https://www.rumah123.com/properti/cimahi/hos8724156/'\n",
      " 'https://www.rumah123.com/properti/bandung/hos3374629/'\n",
      " 'https://www.rumah123.com/properti/cimahi/hos4866896/'\n",
      " 'https://www.rumah123.com/properti/bandung/hos8754813/'\n",
      " 'https://www.rumah123.com/properti/bandung-barat/hos7793344/'\n",
      " 'https://www.rumah123.com/properti/bandung/hos8978430/'\n",
      " 'https://www.rumah123.com/properti/cimahi/hos8701569/'\n",
      " 'https://www.rumah123.com/properti/bandung/hos9112544/'\n",
      " 'https://www.rumah123.com/properti/cimahi/hos8866877/'\n",
      " 'https://www.rumah123.com/properti/bandung-barat/hos8353244/'\n",
      " 'https://www.rumah123.com/properti/cimahi/hos8306787/'\n",
      " 'https://www.rumah123.com/properti/cimahi/hos8753309/'\n",
      " 'https://www.rumah123.com/properti/bandung/hos8531909/'\n",
      " 'https://www.rumah123.com/properti/cimahi/hos8530737/'\n",
      " 'https://www.rumah123.com/properti/cimahi/hos8411504/'\n",
      " 'https://www.rumah123.com/properti/bandung/hos9084712/'\n",
      " 'https://www.rumah123.com/properti/cimahi/hos9134784/'\n",
      " 'https://www.rumah123.com/properti/cimahi/hos8669394/'\n",
      " 'https://www.rumah123.com/properti/cimahi/hos9133184/'\n",
      " 'https://www.rumah123.com/properti/bandung/hos9133302/'\n",
      " 'https://www.rumah123.com/properti/bandung-barat/hos8612462/'\n",
      " 'https://www.rumah123.com/properti/cimahi/hos8901227/'\n",
      " 'https://www.rumah123.com/properti/cimahi/hos7890926/'\n",
      " 'https://www.rumah123.com/properti/cimahi/hos9093366/'\n",
      " 'https://www.rumah123.com/properti/bandung/hos8777161/'\n",
      " 'https://www.rumah123.com/properti/bandung/hos2671672/'\n",
      " 'https://www.rumah123.com/properti/bandung/hos8731238/'\n",
      " 'https://www.rumah123.com/properti/cimahi/hos8614807/'\n",
      " 'https://www.rumah123.com/properti/cimahi/hos9019236/'\n",
      " 'https://www.rumah123.com/properti/cimahi/hos6864303/'\n",
      " 'https://www.rumah123.com/properti/cimahi/hos8617100/'\n",
      " 'https://www.rumah123.com/properti/cimahi/hos6002681/'\n",
      " 'https://www.rumah123.com/properti/cimahi/hos8524951/'\n",
      " 'https://www.rumah123.com/properti/bandung/hos8964896/'\n",
      " 'https://www.rumah123.com/properti/cimahi/hos9019239/'\n",
      " 'https://www.rumah123.com/properti/bandung/hos8668571/'\n",
      " 'https://www.rumah123.com/properti/bandung/hos5911986/'\n",
      " 'https://www.rumah123.com/properti/cimahi/hos9133514/'\n",
      " 'https://www.rumah123.com/properti/cimahi/hos9134331/'\n",
      " 'https://www.rumah123.com/properti/cimahi/hos9003382/'\n",
      " 'https://www.rumah123.com/properti/bandung/hos8408833/'\n",
      " 'https://www.rumah123.com/properti/bandung/hos7599897/'\n",
      " 'https://www.rumah123.com/properti/cimahi/hos8947066/'\n",
      " 'https://www.rumah123.com/properti/cimahi/hos7803975/'\n",
      " 'https://www.rumah123.com/properti/cimahi/hos7180742/'\n",
      " 'https://www.rumah123.com/properti/bandung/hos8615627/'\n",
      " 'https://www.rumah123.com/properti/bandung/hos9134664/'\n",
      " 'https://www.rumah123.com/properti/bandung/hos8808117/'\n",
      " 'https://www.rumah123.com/properti/cimahi/hos8306991/'\n",
      " 'https://www.rumah123.com/properti/cimahi/hos9019344/'\n",
      " 'https://www.rumah123.com/properti/bandung/hos7391437/'\n",
      " 'https://www.rumah123.com/properti/cimahi/hos4546227/'\n",
      " 'https://www.rumah123.com/properti/cimahi/hos8945488/'\n",
      " 'https://www.rumah123.com/properti/bandung/hos9135923/'\n",
      " 'https://www.rumah123.com/properti/cimahi/hos8873403/'\n",
      " 'https://www.rumah123.com/properti/cimahi/hos5073069/'\n",
      " 'https://www.rumah123.com/properti/cimahi/hos8443282/'\n",
      " 'https://www.rumah123.com/properti/bandung/hos9115278/'\n",
      " 'https://www.rumah123.com/properti/bandung/hos9134424/'\n",
      " 'https://www.rumah123.com/properti/cimahi/hos8410087/'\n",
      " 'https://www.rumah123.com/properti/bandung/hos6085303/'\n",
      " 'https://www.rumah123.com/properti/cimahi/hos9131586/'\n",
      " 'https://www.rumah123.com/properti/bandung/hos9134479/'\n",
      " 'https://www.rumah123.com/properti/cimahi/hos9114307/'\n",
      " 'https://www.rumah123.com/properti/cimahi/hos6916785/'\n",
      " 'https://www.rumah123.com/properti/cimahi/hos8534379/'\n",
      " 'https://www.rumah123.com/properti/bandung/hos9133894/'\n",
      " 'https://www.rumah123.com/properti/cimahi/hos4462545/'\n",
      " 'https://www.rumah123.com/properti/cimahi/hos8553733/'\n",
      " 'https://www.rumah123.com/properti/cimahi/hos8765607/'\n",
      " 'https://www.rumah123.com/properti/cimahi/hos8410427/'\n",
      " 'https://www.rumah123.com/properti/cimahi/hos7888399/'\n",
      " 'https://www.rumah123.com/properti/bandung/hos8882561/'\n",
      " 'https://www.rumah123.com/properti/cimahi/hos8377229/'\n",
      " 'https://www.rumah123.com/properti/bandung/hos8765180/'\n",
      " 'https://www.rumah123.com/properti/bandung/hos8612477/'\n",
      " 'https://www.rumah123.com/properti/bandung/hos9021847/'\n",
      " 'https://www.rumah123.com/properti/bandung/hos9132060/'\n",
      " 'https://www.rumah123.com/properti/cimahi/hos6622412/'\n",
      " 'https://www.rumah123.com/properti/cimahi/hos8672624/'\n",
      " 'https://www.rumah123.com/properti/bandung/hos7478330/'\n",
      " 'https://www.rumah123.com/properti/bandung/hos8792132/'\n",
      " 'https://www.rumah123.com/properti/cimahi/hos3170104/'\n",
      " 'https://www.rumah123.com/properti/cimahi/hos7894318/'\n",
      " 'https://www.rumah123.com/properti/cimahi/hos9132351/'\n",
      " 'https://www.rumah123.com/properti/bandung/hos8918968/'\n",
      " 'https://www.rumah123.com/properti/bandung-barat/hos8468102/'\n",
      " 'https://www.rumah123.com/properti/cimahi/hos8965757/'\n",
      " 'https://www.rumah123.com/properti/cimahi/hos8524895/'\n",
      " 'https://www.rumah123.com/properti/cimahi/hos9112971/'\n",
      " 'https://www.rumah123.com/properti/cimahi/hos9131600/'\n",
      " 'https://www.rumah123.com/properti/bandung/hos9116219/'\n",
      " 'https://www.rumah123.com/properti/cimahi/hos8589414/'\n",
      " 'https://www.rumah123.com/properti/cimahi/hos8725781/'\n",
      " 'https://www.rumah123.com/properti/cimahi/hos8306410/'\n",
      " 'https://www.rumah123.com/properti/bandung/hos8808221/'\n",
      " 'https://www.rumah123.com/properti/cimahi/hos8403480/'\n",
      " 'https://www.rumah123.com/properti/cimahi/hos8802188/'\n",
      " 'https://www.rumah123.com/properti/bandung/hos9058909/'\n",
      " 'https://www.rumah123.com/properti/bandung/hos7792869/'\n",
      " 'https://www.rumah123.com/properti/cimahi/hos8224075/'\n",
      " 'https://www.rumah123.com/properti/bandung/hos8758282/'\n",
      " 'https://www.rumah123.com/properti/bandung/hos9128329/'\n",
      " 'https://www.rumah123.com/properti/cimahi/hos8757698/'\n",
      " 'https://www.rumah123.com/properti/bandung-barat/hos8696302/'\n",
      " 'https://www.rumah123.com/properti/bandung/hos8650352/'\n",
      " 'https://www.rumah123.com/properti/cimahi/hos8605783/'\n",
      " 'https://www.rumah123.com/properti/bandung/hos8574769/'\n",
      " 'https://www.rumah123.com/properti/bandung/hos8872153/'\n",
      " 'https://www.rumah123.com/properti/bandung/hos8918229/'\n",
      " 'https://www.rumah123.com/properti/cimahi/hos8809468/'\n",
      " 'https://www.rumah123.com/properti/bandung/hos8833207/'\n",
      " 'https://www.rumah123.com/properti/bandung/hos8810544/'\n",
      " 'https://www.rumah123.com/properti/bandung/hos8508585/'\n",
      " 'https://www.rumah123.com/properti/bandung-barat/hos8603729/'\n",
      " 'https://www.rumah123.com/properti/cimahi/hos8603878/'\n",
      " 'https://www.rumah123.com/properti/cimahi/hos8646629/'\n",
      " 'https://www.rumah123.com/properti/cimahi/hos9014279/'\n",
      " 'https://www.rumah123.com/properti/cimahi/hos6794978/'\n",
      " 'https://www.rumah123.com/properti/cimahi/hos7983986/'\n",
      " 'https://www.rumah123.com/properti/bandung/hos8642142/'\n",
      " 'https://www.rumah123.com/properti/cimahi/hos8759567/'\n",
      " 'https://www.rumah123.com/properti/cimahi/hos7184596/'\n",
      " 'https://www.rumah123.com/properti/bandung/hos4551810/'\n",
      " 'https://www.rumah123.com/properti/cimahi/hos4529269/'\n",
      " 'https://www.rumah123.com/properti/cimahi/hos8668210/'\n",
      " 'https://www.rumah123.com/properti/bandung/hos8531053/'\n",
      " 'https://www.rumah123.com/properti/cimahi/hos7834952/'\n",
      " 'https://www.rumah123.com/properti/bandung/hos9133722/'\n",
      " 'https://www.rumah123.com/properti/cimahi/hos3296459/'\n",
      " 'https://www.rumah123.com/properti/cimahi/hos9135452/'\n",
      " 'https://www.rumah123.com/properti/bandung/hos9098166/'\n",
      " 'https://www.rumah123.com/properti/cimahi/hos7956993/'\n",
      " 'https://www.rumah123.com/properti/bandung/hos6855370/'\n",
      " 'https://www.rumah123.com/properti/bandung/hos8614174/'\n",
      " 'https://www.rumah123.com/properti/cimahi/hos9127328/'\n",
      " 'https://www.rumah123.com/properti/bandung/hos8553388/'\n",
      " 'https://www.rumah123.com/properti/bandung/hos8612010/'\n",
      " 'https://www.rumah123.com/properti/cimahi/hos8582902/'\n",
      " 'https://www.rumah123.com/properti/cimahi/hos8901260/'\n",
      " 'https://www.rumah123.com/properti/cimahi/hos8790999/'\n",
      " 'https://www.rumah123.com/properti/cimahi/hos8616969/'\n",
      " 'https://www.rumah123.com/properti/bandung/hos8556688/'\n",
      " 'https://www.rumah123.com/properti/cimahi/hos9050442/'\n",
      " 'https://www.rumah123.com/properti/bandung/hos9005193/'\n",
      " 'https://www.rumah123.com/properti/bandung/hos8936181/'\n",
      " 'https://www.rumah123.com/properti/cimahi/hos8973102/'\n",
      " 'https://www.rumah123.com/properti/bandung/hos8308072/'\n",
      " 'https://www.rumah123.com/properti/cimahi/hos9077339/'\n",
      " 'https://www.rumah123.com/properti/cimahi/hos9016867/'\n",
      " 'https://www.rumah123.com/properti/bandung/hos9134348/'\n",
      " 'https://www.rumah123.com/properti/bandung/hos8550620/'\n",
      " 'https://www.rumah123.com/properti/bandung/hos8722952/'\n",
      " 'https://www.rumah123.com/properti/bandung/hos8296400/'\n",
      " 'https://www.rumah123.com/properti/cimahi/hos9112435/'\n",
      " 'https://www.rumah123.com/properti/bandung/hos8464762/'\n",
      " 'https://www.rumah123.com/properti/bandung/hos9021881/'\n",
      " 'https://www.rumah123.com/properti/cimahi/hos8556691/'\n",
      " 'https://www.rumah123.com/properti/cimahi/hos8723932/'\n",
      " 'https://www.rumah123.com/properti/cimahi/hos8404746/'\n",
      " 'https://www.rumah123.com/properti/bandung/hos8495014/'\n",
      " 'https://www.rumah123.com/properti/cimahi/hos8914791/'\n",
      " 'https://www.rumah123.com/properti/cimahi/hos7915297/'\n",
      " 'https://www.rumah123.com/properti/bandung/hos5594503/'\n",
      " 'https://www.rumah123.com/properti/bandung/hos8307315/'\n",
      " 'https://www.rumah123.com/properti/bandung/hos7186773/'\n",
      " 'https://www.rumah123.com/properti/cimahi/hos8965554/'\n",
      " 'https://www.rumah123.com/properti/bandung/hos8765185/'\n",
      " 'https://www.rumah123.com/properti/cimahi/hos8810231/'\n",
      " 'https://www.rumah123.com/properti/bandung-barat/hos8701788/'\n",
      " 'https://www.rumah123.com/properti/bandung/hos5817180/'\n",
      " 'https://www.rumah123.com/properti/bandung/hos5494496/'\n",
      " 'https://www.rumah123.com/properti/cimahi/hos9058940/'\n",
      " 'https://www.rumah123.com/properti/cimahi/hos8638578/'\n",
      " 'https://www.rumah123.com/properti/cimahi/hos7338612/'\n",
      " 'https://www.rumah123.com/properti/bandung-barat/hos8408867/'\n",
      " 'https://www.rumah123.com/properti/cimahi/hos9131786/'\n",
      " 'https://www.rumah123.com/properti/bandung/hos7504264/'\n",
      " 'https://www.rumah123.com/properti/cimahi/hos9014389/'\n",
      " 'https://www.rumah123.com/properti/bandung/hos7597026/'\n",
      " 'https://www.rumah123.com/properti/cimahi/hos9127511/'\n",
      " 'https://www.rumah123.com/properti/bandung/hos8969898/'\n",
      " 'https://www.rumah123.com/properti/cimahi/hos8701256/'\n",
      " 'https://www.rumah123.com/properti/cimahi/hos8351508/'\n",
      " 'https://www.rumah123.com/properti/bandung/hos8395077/'\n",
      " 'https://www.rumah123.com/properti/bandung-barat/hos8613823/'\n",
      " 'https://www.rumah123.com/properti/cimahi/hos5073306/'\n",
      " 'https://www.rumah123.com/properti/bandung/hos9057855/'\n",
      " 'https://www.rumah123.com/properti/cimahi/hos8578010/'\n",
      " 'https://www.rumah123.com/properti/cimahi/hos8810837/'\n",
      " 'https://www.rumah123.com/properti/cimahi/hos8765514/'\n",
      " 'https://www.rumah123.com/properti/bandung/hos8759470/'\n",
      " 'https://www.rumah123.com/properti/cimahi/hos8725777/'\n",
      " 'https://www.rumah123.com/properti/bandung/hos9094778/'\n",
      " 'https://www.rumah123.com/properti/cimahi/hos8733683/'\n",
      " 'https://www.rumah123.com/properti/bandung/hos8732769/'\n",
      " 'https://www.rumah123.com/properti/cimahi/hos8409411/'\n",
      " 'https://www.rumah123.com/properti/cimahi/hos8674524/'\n",
      " 'https://www.rumah123.com/properti/cimahi/hos7704465/'\n",
      " 'https://www.rumah123.com/properti/cimahi/hos8871987/'\n",
      " 'https://www.rumah123.com/properti/cimahi/hos9133788/'\n",
      " 'https://www.rumah123.com/properti/bandung/hos8931613/'\n",
      " 'https://www.rumah123.com/properti/cimahi/hos9132368/'\n",
      " 'https://www.rumah123.com/properti/bandung/hos8948838/'\n",
      " 'https://www.rumah123.com/properti/bandung/hos8502568/'\n",
      " 'https://www.rumah123.com/properti/cimahi/hos8930658/'\n",
      " 'https://www.rumah123.com/properti/bandung/hos6808964/'\n",
      " 'https://www.rumah123.com/properti/cimahi/hos9084234/'\n",
      " 'https://www.rumah123.com/properti/bandung/hos6058468/'\n",
      " 'https://www.rumah123.com/properti/cimahi/hos3170446/'\n",
      " 'https://www.rumah123.com/properti/bandung/hos8802177/'\n",
      " 'https://www.rumah123.com/properti/cimahi/hos7367341/'\n",
      " 'https://www.rumah123.com/properti/cimahi/hos7372113/'\n",
      " 'https://www.rumah123.com/properti/cimahi/hos8965268/'\n",
      " 'https://www.rumah123.com/properti/cimahi/hos8772238/'\n",
      " 'https://www.rumah123.com/properti/cimahi/hos8584531/'\n",
      " 'https://www.rumah123.com/properti/bandung/hos8810967/'\n",
      " 'https://www.rumah123.com/properti/bandung/hos6860065/'\n",
      " 'https://www.rumah123.com/properti/cimahi/hos9093064/'\n",
      " 'https://www.rumah123.com/properti/bandung/hos9127527/'\n",
      " 'https://www.rumah123.com/properti/bandung/hos8867881/'\n",
      " 'https://www.rumah123.com/properti/cimahi/hos8759215/'\n",
      " 'https://www.rumah123.com/properti/cimahi/hos8839418/'\n",
      " 'https://www.rumah123.com/properti/bandung/hos8871971/'\n",
      " 'https://www.rumah123.com/properti/bandung/hos8260690/'\n",
      " 'https://www.rumah123.com/properti/bandung/hos9080558/'\n",
      " 'https://www.rumah123.com/properti/cimahi/hos8556049/'\n",
      " 'https://www.rumah123.com/properti/cimahi/hos8530027/'\n",
      " 'https://www.rumah123.com/properti/bandung/hos9132592/'\n",
      " 'https://www.rumah123.com/properti/bandung/hos8279385/'\n",
      " 'https://www.rumah123.com/properti/cimahi/hos9014359/'\n",
      " 'https://www.rumah123.com/properti/cimahi/hos8403515/'\n",
      " 'https://www.rumah123.com/properti/cimahi/hos9134740/'\n",
      " 'https://www.rumah123.com/properti/bandung/hos8472169/'\n",
      " 'https://www.rumah123.com/properti/bandung/hos7150670/'\n",
      " 'https://www.rumah123.com/properti/cimahi/hos2287311/'\n",
      " 'https://www.rumah123.com/properti/cimahi/hos8615113/'\n",
      " 'https://www.rumah123.com/properti/bandung/hos8929900/'\n",
      " 'https://www.rumah123.com/properti/bandung/hos9077061/'\n",
      " 'https://www.rumah123.com/properti/cimahi/hos8914147/'\n",
      " 'https://www.rumah123.com/properti/bandung/hos9021926/'\n",
      " 'https://www.rumah123.com/properti/bandung/hos9051472/'\n",
      " 'https://www.rumah123.com/properti/bandung/hos9014505/'\n",
      " 'https://www.rumah123.com/properti/bandung/hos8730040/'\n",
      " 'https://www.rumah123.com/properti/cimahi/hos9048893/'\n",
      " 'https://www.rumah123.com/properti/bandung/hos7448722/'\n",
      " 'https://www.rumah123.com/properti/bandung/hos7598847/'\n",
      " 'https://www.rumah123.com/properti/bandung/hos7859226/'\n",
      " 'https://www.rumah123.com/properti/cimahi/hos4455268/'\n",
      " 'https://www.rumah123.com/properti/cimahi/hos8499540/'\n",
      " 'https://www.rumah123.com/properti/bandung/hos8944488/'\n",
      " 'https://www.rumah123.com/properti/cimahi/hos8811012/'\n",
      " 'https://www.rumah123.com/properti/cimahi/hos3170702/'\n",
      " 'https://www.rumah123.com/properti/bandung/hos8839667/'\n",
      " 'https://www.rumah123.com/properti/cimahi/hos8753290/'\n",
      " 'https://www.rumah123.com/properti/bandung/hos8971237/'\n",
      " 'https://www.rumah123.com/properti/bandung/hos6917086/'\n",
      " 'https://www.rumah123.com/properti/bandung/hos8650156/'\n",
      " 'https://www.rumah123.com/properti/cimahi/hos9048933/'\n",
      " 'https://www.rumah123.com/properti/bandung/hos8578124/'\n",
      " 'https://www.rumah123.com/properti/cimahi/hos9082768/'\n",
      " 'https://www.rumah123.com/properti/cimahi/hos9014512/'\n",
      " 'https://www.rumah123.com/properti/cimahi/hos8765172/'\n",
      " 'https://www.rumah123.com/properti/bandung/hos4754158/'\n",
      " 'https://www.rumah123.com/properti/cimahi/hos9058428/'\n",
      " 'https://www.rumah123.com/properti/cimahi/hos8753474/'\n",
      " 'https://www.rumah123.com/properti/bandung/hos8644241/'\n",
      " 'https://www.rumah123.com/properti/bandung/hos8701241/'\n",
      " 'https://www.rumah123.com/properti/bandung/hos8772884/'\n",
      " 'https://www.rumah123.com/properti/bandung/hos7861305/'\n",
      " 'https://www.rumah123.com/properti/cimahi/hos7988342/'\n",
      " 'https://www.rumah123.com/properti/bandung-barat/hos9114391/'\n",
      " 'https://www.rumah123.com/properti/bandung/hos9077785/'\n",
      " 'https://www.rumah123.com/properti/bandung-barat/hos9020726/'\n",
      " 'https://www.rumah123.com/properti/bandung/hos8471879/'\n",
      " 'https://www.rumah123.com/properti/cimahi/hos9021893/'\n",
      " 'https://www.rumah123.com/properti/cimahi/hos9051183/'\n",
      " 'https://www.rumah123.com/properti/bandung-barat/hos8534415/'\n",
      " 'https://www.rumah123.com/properti/bandung/hos9058195/'\n",
      " 'https://www.rumah123.com/properti/bandung/hos8407022/'\n",
      " 'https://www.rumah123.com/properti/cimahi/hos8302360/'\n",
      " 'https://www.rumah123.com/properti/cimahi/hos9131454/'\n",
      " 'https://www.rumah123.com/properti/bandung/hos8502995/'\n",
      " 'https://www.rumah123.com/properti/bandung/hos8638727/'\n",
      " 'https://www.rumah123.com/properti/bandung/hos7377255/'\n",
      " 'https://www.rumah123.com/properti/cimahi/hos8794422/'\n",
      " 'https://www.rumah123.com/properti/bandung-barat/hos7599171/'\n",
      " 'https://www.rumah123.com/properti/cimahi/hos5141355/'\n",
      " 'https://www.rumah123.com/properti/cimahi/hos8406996/'\n",
      " 'https://www.rumah123.com/properti/bandung/hos8062987/'\n",
      " 'https://www.rumah123.com/properti/bandung-barat/hos8738380/'\n",
      " 'https://www.rumah123.com/properti/cimahi/hos8575504/'\n",
      " 'https://www.rumah123.com/properti/cimahi/hos8534645/'\n",
      " 'https://www.rumah123.com/properti/bandung/hos7988551/'\n",
      " 'https://www.rumah123.com/properti/cimahi/hos8911928/'\n",
      " 'https://www.rumah123.com/properti/bandung-barat/hos9045644/'\n",
      " 'https://www.rumah123.com/properti/cimahi/hos8919146/'\n",
      " 'https://www.rumah123.com/properti/bandung/hos8918847/'\n",
      " 'https://www.rumah123.com/properti/cimahi/hos8668217/'\n",
      " 'https://www.rumah123.com/properti/bandung/hos8432239/'\n",
      " 'https://www.rumah123.com/properti/cimahi/hos8809340/'\n",
      " 'https://www.rumah123.com/properti/bandung/hos4994619/'\n",
      " 'https://www.rumah123.com/properti/bandung/hos8810118/'\n",
      " 'https://www.rumah123.com/properti/bandung/hos8582479/'\n",
      " 'https://www.rumah123.com/properti/cimahi/hos9017641/'\n",
      " 'https://www.rumah123.com/properti/bandung/hos4412986/'\n",
      " 'https://www.rumah123.com/properti/cimahi/hos8902049/'\n",
      " 'https://www.rumah123.com/properti/cimahi/hos4679823/'\n",
      " 'https://www.rumah123.com/properti/bandung/hos8912099/'\n",
      " 'https://www.rumah123.com/properti/cimahi/hos8603922/'\n",
      " 'https://www.rumah123.com/properti/bandung/hos9019082/'\n",
      " 'https://www.rumah123.com/properti/bandung/hos8527365/'\n",
      " 'https://www.rumah123.com/properti/cimahi/hos8581079/'\n",
      " 'https://www.rumah123.com/properti/cimahi/hos8883816/'\n",
      " 'https://www.rumah123.com/properti/bandung/hos8918225/'\n",
      " 'https://www.rumah123.com/properti/bandung/hos8934116/'\n",
      " 'https://www.rumah123.com/properti/cimahi/hos8869908/'\n",
      " 'https://www.rumah123.com/properti/cimahi/hos9135483/'\n",
      " 'https://www.rumah123.com/properti/cimahi/hos8507958/'\n",
      " 'https://www.rumah123.com/properti/cimahi/hos7974186/'\n",
      " 'https://www.rumah123.com/properti/cimahi/hos8772441/'\n",
      " 'https://www.rumah123.com/properti/bandung/hos8089857/'\n",
      " 'https://www.rumah123.com/properti/bandung/hos8551606/'\n",
      " 'https://www.rumah123.com/properti/cimahi/hos9114650/'\n",
      " 'https://www.rumah123.com/properti/cimahi/hos8901856/'\n",
      " 'https://www.rumah123.com/properti/cimahi/hos8534141/'\n",
      " 'https://www.rumah123.com/properti/cimahi/hos9133223/'\n",
      " 'https://www.rumah123.com/properti/bandung/hos8810200/'\n",
      " 'https://www.rumah123.com/properti/bandung/hos7955167/'\n",
      " 'https://www.rumah123.com/properti/bandung/hos8754811/'\n",
      " 'https://www.rumah123.com/properti/bandung-barat/hos8091461/'\n",
      " 'https://www.rumah123.com/properti/cimahi/hos8603679/'\n",
      " 'https://www.rumah123.com/properti/cimahi/hos8995490/'\n",
      " 'https://www.rumah123.com/properti/cimahi/hos8372677/'\n",
      " 'https://www.rumah123.com/properti/bandung-barat/hos8463695/'\n",
      " 'https://www.rumah123.com/properti/bandung/hos8662521/'\n",
      " 'https://www.rumah123.com/properti/cimahi/hos9131594/'\n",
      " 'https://www.rumah123.com/properti/bandung/hos8765209/'\n",
      " 'https://www.rumah123.com/properti/bandung/hos8918919/'\n",
      " 'https://www.rumah123.com/properti/cimahi/hos8933261/'\n",
      " 'https://www.rumah123.com/properti/cimahi/hos6984466/'\n",
      " 'https://www.rumah123.com/properti/cimahi/hos8606393/'\n",
      " 'https://www.rumah123.com/properti/cimahi/hos9093320/'\n",
      " 'https://www.rumah123.com/properti/cimahi/hos7793218/'\n",
      " 'https://www.rumah123.com/properti/bandung/hos8918230/'\n",
      " 'https://www.rumah123.com/properti/cimahi/hos7859389/'\n",
      " 'https://www.rumah123.com/properti/cimahi/hos9133686/'\n",
      " 'https://www.rumah123.com/properti/bandung/hos8647609/'\n",
      " 'https://www.rumah123.com/properti/cimahi/hos9082097/'\n",
      " 'https://www.rumah123.com/properti/cimahi/hos8869913/'\n",
      " 'https://www.rumah123.com/properti/cimahi/hos9064717/'\n",
      " 'https://www.rumah123.com/properti/bandung/hos4754192/'\n",
      " 'https://www.rumah123.com/properti/cimahi/hos8974190/'\n",
      " 'https://www.rumah123.com/properti/cimahi/hos8553967/'\n",
      " 'https://www.rumah123.com/properti/cimahi/hos8335075/'\n",
      " 'https://www.rumah123.com/properti/bandung/hos8768156/'\n",
      " 'https://www.rumah123.com/properti/bandung-barat/hos8534781/'\n",
      " 'https://www.rumah123.com/properti/cimahi/hos3181075/'\n",
      " 'https://www.rumah123.com/properti/bandung/hos5865847/'\n",
      " 'https://www.rumah123.com/properti/bandung/hos8578759/'\n",
      " 'https://www.rumah123.com/properti/bandung/hos8120940/'\n",
      " 'https://www.rumah123.com/properti/bandung/hos7504538/'\n",
      " 'https://www.rumah123.com/properti/bandung/hos8772691/'\n",
      " 'https://www.rumah123.com/properti/bandung/hos6162233/'\n",
      " 'https://www.rumah123.com/properti/cimahi/hos8806330/'\n",
      " 'https://www.rumah123.com/properti/bandung/hos8930602/'\n",
      " 'https://www.rumah123.com/properti/bandung/hos6921714/'\n",
      " 'https://www.rumah123.com/properti/cimahi/hos8602550/'\n",
      " 'https://www.rumah123.com/properti/bandung/hos8918226/'\n",
      " 'https://www.rumah123.com/properti/cimahi/hos8885426/'\n",
      " 'https://www.rumah123.com/properti/cimahi/hos8461896/'\n",
      " 'https://www.rumah123.com/properti/bandung/hos8556526/'\n",
      " 'https://www.rumah123.com/properti/bandung/hos9094758/'\n",
      " 'https://www.rumah123.com/properti/bandung/hos9132107/'\n",
      " 'https://www.rumah123.com/properti/bandung/hos5073925/'\n",
      " 'https://www.rumah123.com/properti/cimahi/hos8614718/'\n",
      " 'https://www.rumah123.com/properti/cimahi/hos7599214/'\n",
      " 'https://www.rumah123.com/properti/bandung/hos9060798/'\n",
      " 'https://www.rumah123.com/properti/bandung/hos8791708/'\n",
      " 'https://www.rumah123.com/properti/bandung/hos9020762/'\n",
      " 'https://www.rumah123.com/properti/bandung/hos8918881/'\n",
      " 'https://www.rumah123.com/properti/bandung/hos8531905/'\n",
      " 'https://www.rumah123.com/properti/bandung/hos8578913/'\n",
      " 'https://www.rumah123.com/properti/bandung/hos8662070/'\n",
      " 'https://www.rumah123.com/properti/cimahi/hos8722978/'\n",
      " 'https://www.rumah123.com/properti/cimahi/hos9018781/'\n",
      " 'https://www.rumah123.com/properti/cimahi/hos8377016/'\n",
      " 'https://www.rumah123.com/properti/bandung/hos7417718/'\n",
      " 'https://www.rumah123.com/properti/bandung/hos9135906/'\n",
      " 'https://www.rumah123.com/properti/bandung-barat/hos8074177/'\n",
      " 'https://www.rumah123.com/properti/cimahi/hos8574980/'\n",
      " 'https://www.rumah123.com/properti/bandung-barat/hos8647881/'\n",
      " 'https://www.rumah123.com/properti/bandung/hos8674788/'\n",
      " 'https://www.rumah123.com/properti/cimahi/hos4190724/'\n",
      " 'https://www.rumah123.com/properti/bandung/hos8639216/'\n",
      " 'https://www.rumah123.com/properti/bandung/hos8230446/'\n",
      " 'https://www.rumah123.com/properti/cimahi/hos8409100/'\n",
      " 'https://www.rumah123.com/properti/cimahi/hos9135249/'\n",
      " 'https://www.rumah123.com/properti/bandung/hos9132228/'\n",
      " 'https://www.rumah123.com/properti/bandung-barat/hos8791856/'\n",
      " 'https://www.rumah123.com/properti/cimahi/hos8648468/'\n",
      " 'https://www.rumah123.com/properti/cimahi/hos3125260/'\n",
      " 'https://www.rumah123.com/properti/cimahi/hos9014415/'\n",
      " 'https://www.rumah123.com/properti/cimahi/hos8529639/'\n",
      " 'https://www.rumah123.com/properti/bandung/hos9113322/'\n",
      " 'https://www.rumah123.com/properti/bandung/hos9112552/'\n",
      " 'https://www.rumah123.com/properti/bandung/hos4529648/'\n",
      " 'https://www.rumah123.com/properti/bandung/hos9055734/'\n",
      " 'https://www.rumah123.com/properti/bandung/hos8527121/'\n",
      " 'https://www.rumah123.com/properti/bandung/hos8581954/'\n",
      " 'https://www.rumah123.com/properti/bandung/hos8190061/'\n",
      " 'https://www.rumah123.com/properti/bandung/hos6706678/'\n",
      " 'https://www.rumah123.com/properti/bandung/hos6389068/'\n",
      " 'https://www.rumah123.com/properti/bandung/hos8296372/'\n",
      " 'https://www.rumah123.com/properti/bandung/hos8505950/'\n",
      " 'https://www.rumah123.com/properti/cimahi/hos7188895/'\n",
      " 'https://www.rumah123.com/properti/cimahi/hos7951121/'\n",
      " 'https://www.rumah123.com/properti/bandung/hos3430372/'\n",
      " 'https://www.rumah123.com/properti/cimahi/hos9016855/'\n",
      " 'https://www.rumah123.com/properti/bandung/hos9020878/'\n",
      " 'https://www.rumah123.com/properti/cimahi/hos8470348/'\n",
      " 'https://www.rumah123.com/properti/bandung-barat/hos8121304/'\n",
      " 'https://www.rumah123.com/properti/bandung/hos7834410/'\n",
      " 'https://www.rumah123.com/properti/cimahi/hos9080527/'\n",
      " 'https://www.rumah123.com/properti/cimahi/hos9058116/'\n",
      " 'https://www.rumah123.com/properti/bandung/hos7110541/'\n",
      " 'https://www.rumah123.com/properti/bandung-barat/hos8468655/'\n",
      " 'https://www.rumah123.com/properti/bandung/hos7599750/'\n",
      " 'https://www.rumah123.com/properti/bandung/hos8353333/'\n",
      " 'https://www.rumah123.com/properti/bandung/hos5011299/'\n",
      " 'https://www.rumah123.com/properti/cimahi/hos9051062/'\n",
      " 'https://www.rumah123.com/properti/cimahi/hos8584161/'\n",
      " 'https://www.rumah123.com/properti/bandung/hos8155988/'\n",
      " 'https://www.rumah123.com/properti/cimahi/hos8296367/'\n",
      " 'https://www.rumah123.com/properti/bandung/hos8737835/'\n",
      " 'https://www.rumah123.com/properti/cimahi/hos9050812/'\n",
      " 'https://www.rumah123.com/properti/cimahi/hos7305718/'\n",
      " 'https://www.rumah123.com/properti/cimahi/hos8772366/'\n",
      " 'https://www.rumah123.com/properti/cimahi/hos7985779/'\n",
      " 'https://www.rumah123.com/properti/cimahi/hos8589353/'\n",
      " 'https://www.rumah123.com/properti/bandung/hos9133156/'\n",
      " 'https://www.rumah123.com/properti/cimahi/hos8965801/'\n",
      " 'https://www.rumah123.com/properti/cimahi/hos8801434/'\n",
      " 'https://www.rumah123.com/properti/cimahi/hos8600537/'\n",
      " 'https://www.rumah123.com/properti/cimahi/hos8757733/'\n",
      " 'https://www.rumah123.com/properti/cimahi/hos9134747/'\n",
      " 'https://www.rumah123.com/properti/cimahi/hos7704449/'\n",
      " 'https://www.rumah123.com/properti/bandung/hos5088777/'\n",
      " 'https://www.rumah123.com/properti/cimahi/hos7112420/'\n",
      " 'https://www.rumah123.com/properti/bandung/hos8673250/'\n",
      " 'https://www.rumah123.com/properti/bandung-barat/hos8435581/'\n",
      " 'https://www.rumah123.com/properti/bandung/hos9094715/'\n",
      " 'https://www.rumah123.com/properti/bandung/hos8302599/'\n",
      " 'https://www.rumah123.com/properti/bandung/hos6098252/'\n",
      " 'https://www.rumah123.com/properti/bandung/hos8337091/'\n",
      " 'https://www.rumah123.com/properti/cimahi/hos8733624/'\n",
      " 'https://www.rumah123.com/properti/bandung/hos8379222/'\n",
      " 'https://www.rumah123.com/properti/cimahi/hos8604522/'\n",
      " 'https://www.rumah123.com/properti/bandung/hos8872294/'\n",
      " 'https://www.rumah123.com/properti/bandung/hos8641714/'\n",
      " 'https://www.rumah123.com/properti/bandung/hos7868446/'\n",
      " 'https://www.rumah123.com/properti/bandung/hos9134155/'\n",
      " 'https://www.rumah123.com/properti/bandung/hos8507491/'\n",
      " 'https://www.rumah123.com/properti/bandung/hos8638951/'\n",
      " 'https://www.rumah123.com/properti/cimahi/hos8377167/'\n",
      " 'https://www.rumah123.com/properti/cimahi/hos8523554/'\n",
      " 'https://www.rumah123.com/properti/bandung/hos4482703/'\n",
      " 'https://www.rumah123.com/properti/cimahi/hos8062455/'\n",
      " 'https://www.rumah123.com/properti/cimahi/hos8661633/'\n",
      " 'https://www.rumah123.com/properti/cimahi/hos9044318/'\n",
      " 'https://www.rumah123.com/properti/cimahi/hos8804505/'\n",
      " 'https://www.rumah123.com/properti/bandung/hos4522151/'\n",
      " 'https://www.rumah123.com/properti/cimahi/hos8619158/'\n",
      " 'https://www.rumah123.com/properti/bandung-barat/hos8944892/'\n",
      " 'https://www.rumah123.com/properti/bandung/hos8118833/'\n",
      " 'https://www.rumah123.com/properti/bandung/hos9080585/'\n",
      " 'https://www.rumah123.com/properti/bandung-barat/hos8577512/'\n",
      " 'https://www.rumah123.com/properti/bandung-barat/hos8805024/'\n",
      " 'https://www.rumah123.com/properti/cimahi/hos8375503/'\n",
      " 'https://www.rumah123.com/properti/bandung/hos8396305/'\n",
      " 'https://www.rumah123.com/properti/cimahi/hos8864891/'\n",
      " 'https://www.rumah123.com/properti/cimahi/hos8661678/'\n",
      " 'https://www.rumah123.com/properti/bandung/hos8307094/'\n",
      " 'https://www.rumah123.com/properti/bandung/hos8725375/'\n",
      " 'https://www.rumah123.com/properti/bandung/hos8553910/'\n",
      " 'https://www.rumah123.com/properti/bandung/hos7794223/'\n",
      " 'https://www.rumah123.com/properti/bandung-barat/hos8435546/'\n",
      " 'https://www.rumah123.com/properti/bandung/hos4439305/'\n",
      " 'https://www.rumah123.com/properti/cimahi/hos9131752/'\n",
      " 'https://www.rumah123.com/properti/bandung/hos8676447/'\n",
      " 'https://www.rumah123.com/properti/cimahi/hos3296443/'\n",
      " 'https://www.rumah123.com/properti/bandung/hos8964361/'\n",
      " 'https://www.rumah123.com/properti/cimahi/hos9134670/'\n",
      " 'https://www.rumah123.com/properti/bandung/hos9128261/'\n",
      " 'https://www.rumah123.com/properti/bandung/hos9081849/'\n",
      " 'https://www.rumah123.com/properti/cimahi/hos6980337/'\n",
      " 'https://www.rumah123.com/properti/cimahi/hos5951449/'\n",
      " 'https://www.rumah123.com/properti/bandung/hos7311409/'\n",
      " 'https://www.rumah123.com/properti/bandung/hos8648937/'\n",
      " 'https://www.rumah123.com/properti/cimahi/hos9048522/'\n",
      " 'https://www.rumah123.com/properti/bandung/hos8581083/'\n",
      " 'https://www.rumah123.com/properti/bandung-barat/hos7889760/'\n",
      " 'https://www.rumah123.com/properti/bandung/hos8900234/'\n",
      " 'https://www.rumah123.com/properti/bandung/hos8975262/'\n",
      " 'https://www.rumah123.com/properti/cimahi/hos8807901/'\n",
      " 'https://www.rumah123.com/properti/cimahi/hos8605696/'\n",
      " 'https://www.rumah123.com/properti/bandung/hos9133670/'\n",
      " 'https://www.rumah123.com/properti/bandung-barat/hos8335185/'\n",
      " 'https://www.rumah123.com/properti/cimahi/hos4753847/'\n",
      " 'https://www.rumah123.com/properti/cimahi/hos8899984/'\n",
      " 'https://www.rumah123.com/properti/bandung/hos8767696/'\n",
      " 'https://www.rumah123.com/properti/cimahi/hos7704437/'\n",
      " 'https://www.rumah123.com/properti/bandung/hos8700719/'\n",
      " 'https://www.rumah123.com/properti/cimahi/hos9045672/'\n",
      " 'https://www.rumah123.com/properti/cimahi/hos8701277/'\n",
      " 'https://www.rumah123.com/properti/bandung/hos9098581/'\n",
      " 'https://www.rumah123.com/properti/bandung/hos7775055/'\n",
      " 'https://www.rumah123.com/properti/cimahi/hos8810409/'\n",
      " 'https://www.rumah123.com/properti/cimahi/hos7184595/'\n",
      " 'https://www.rumah123.com/properti/cimahi/hos8605549/'\n",
      " 'https://www.rumah123.com/properti/cimahi/hos8723137/'\n",
      " 'https://www.rumah123.com/properti/cimahi/hos8506329/'\n",
      " 'https://www.rumah123.com/properti/cimahi/hos9064727/'\n",
      " 'https://www.rumah123.com/properti/cimahi/hos8498357/'\n",
      " 'https://www.rumah123.com/properti/cimahi/hos4776273/'\n",
      " 'https://www.rumah123.com/properti/bandung-barat/hos8408958/'\n",
      " 'https://www.rumah123.com/properti/bandung/hos9048888/'\n",
      " 'https://www.rumah123.com/properti/cimahi/hos8810343/'\n",
      " 'https://www.rumah123.com/properti/cimahi/hos8613897/'\n",
      " 'https://www.rumah123.com/properti/cimahi/hos4505009/'\n",
      " 'https://www.rumah123.com/properti/bandung/hos8463841/'\n",
      " 'https://www.rumah123.com/properti/cimahi/hos8531810/'\n",
      " 'https://www.rumah123.com/properti/bandung/hos8898123/'\n",
      " 'https://www.rumah123.com/properti/cimahi/hos8394735/'\n",
      " 'https://www.rumah123.com/properti/cimahi/hos9083832/'\n",
      " 'https://www.rumah123.com/properti/bandung/hos8410290/'\n",
      " 'https://www.rumah123.com/properti/cimahi/hos8616917/'\n",
      " 'https://www.rumah123.com/properti/bandung/hos8883204/'\n",
      " 'https://www.rumah123.com/properti/cimahi/hos8945235/'\n",
      " 'https://www.rumah123.com/properti/bandung/hos9136216/'\n",
      " 'https://www.rumah123.com/properti/cimahi/hos9064718/'\n",
      " 'https://www.rumah123.com/properti/cimahi/hos9019013/'\n",
      " 'https://www.rumah123.com/properti/bandung/hos4596175/'\n",
      " 'https://www.rumah123.com/properti/bandung/hos8754861/'\n",
      " 'https://www.rumah123.com/properti/cimahi/hos8524750/'\n",
      " 'https://www.rumah123.com/properti/bandung/hos6153390/'\n",
      " 'https://www.rumah123.com/properti/cimahi/hos8803428/'\n",
      " 'https://www.rumah123.com/properti/bandung/hos8550615/'\n",
      " 'https://www.rumah123.com/properti/cimahi/hos6754878/'\n",
      " 'https://www.rumah123.com/properti/bandung/hos8919103/'\n",
      " 'https://www.rumah123.com/properti/cimahi/hos8918955/'\n",
      " 'https://www.rumah123.com/properti/bandung/hos3009118/'\n",
      " 'https://www.rumah123.com/properti/cimahi/hos7704483/'\n",
      " 'https://www.rumah123.com/properti/bandung/hos8557838/'\n",
      " 'https://www.rumah123.com/properti/cimahi/hos8732353/'\n",
      " 'https://www.rumah123.com/properti/cimahi/hos8411307/'\n",
      " 'https://www.rumah123.com/properti/cimahi/hos8805851/'\n",
      " 'https://www.rumah123.com/properti/bandung/hos9128414/'\n",
      " 'https://www.rumah123.com/properti/bandung/hos8723013/'\n",
      " 'https://www.rumah123.com/properti/bandung-barat/hos9098644/'\n",
      " 'https://www.rumah123.com/properti/bandung/hos6002680/'\n",
      " 'https://www.rumah123.com/properti/bandung/hos8965283/'\n",
      " 'https://www.rumah123.com/properti/cimahi/hos8582857/'\n",
      " 'https://www.rumah123.com/properti/bandung/hos8642138/'\n",
      " 'https://www.rumah123.com/properti/bandung-barat/hos8644389/'\n",
      " 'https://www.rumah123.com/properti/cimahi/hos3170250/'\n",
      " 'https://www.rumah123.com/properti/cimahi/hos8582878/'\n",
      " 'https://www.rumah123.com/properti/cimahi/hos9017612/'\n",
      " 'https://www.rumah123.com/properti/cimahi/hos8433697/'\n",
      " 'https://www.rumah123.com/properti/cimahi/hos8335587/'\n",
      " 'https://www.rumah123.com/properti/cimahi/hos8754803/'\n",
      " 'https://www.rumah123.com/properti/bandung-barat/hos8463634/'\n",
      " 'https://www.rumah123.com/properti/cimahi/hos9016910/'\n",
      " 'https://www.rumah123.com/properti/bandung/hos8550003/'\n",
      " 'https://www.rumah123.com/properti/bandung-barat/hos9021397/'\n",
      " 'https://www.rumah123.com/properti/cimahi/hos9127406/'\n",
      " 'https://www.rumah123.com/properti/cimahi/hos8527100/'\n",
      " 'https://www.rumah123.com/properti/cimahi/hos8473987/'\n",
      " 'https://www.rumah123.com/properti/cimahi/hos8931696/'\n",
      " 'https://www.rumah123.com/properti/bandung/hos8765208/'\n",
      " 'https://www.rumah123.com/properti/cimahi/hos8473968/'\n",
      " 'https://www.rumah123.com/properti/bandung/hos9133821/'\n",
      " 'https://www.rumah123.com/properti/cimahi/hos3168458/'\n",
      " 'https://www.rumah123.com/properti/cimahi/hos9050923/'\n",
      " 'https://www.rumah123.com/properti/bandung/hos9135527/'\n",
      " 'https://www.rumah123.com/properti/cimahi/hos3017593/'\n",
      " 'https://www.rumah123.com/properti/bandung-barat/hos8399671/'\n",
      " 'https://www.rumah123.com/properti/bandung/hos9060824/'\n",
      " 'https://www.rumah123.com/properti/cimahi/hos8650117/'\n",
      " 'https://www.rumah123.com/properti/cimahi/hos8556660/'\n",
      " 'https://www.rumah123.com/properti/cimahi/hos8661723/'\n",
      " 'https://www.rumah123.com/properti/cimahi/hos9092894/'\n",
      " 'https://www.rumah123.com/properti/cimahi/hos8914470/'\n",
      " 'https://www.rumah123.com/properti/cimahi/hos8629934/'\n",
      " 'https://www.rumah123.com/properti/cimahi/hos8616898/'\n",
      " 'https://www.rumah123.com/properti/cimahi/hos9080783/'\n",
      " 'https://www.rumah123.com/properti/bandung/hos8695847/'\n",
      " 'https://www.rumah123.com/properti/bandung/hos9132006/'\n",
      " 'https://www.rumah123.com/properti/bandung/hos8809418/'\n",
      " 'https://www.rumah123.com/properti/cimahi/hos8811114/'\n",
      " 'https://www.rumah123.com/properti/bandung/hos8671573/'\n",
      " 'https://www.rumah123.com/properti/cimahi/hos8407259/'\n",
      " 'https://www.rumah123.com/properti/cimahi/hos9127393/'\n",
      " 'https://www.rumah123.com/properti/bandung-barat/hos7838721/'\n",
      " 'https://www.rumah123.com/properti/bandung/hos9132091/'\n",
      " 'https://www.rumah123.com/properti/cimahi/hos8308424/'\n",
      " 'https://www.rumah123.com/properti/cimahi/hos8704263/'\n",
      " 'https://www.rumah123.com/properti/cimahi/hos7447839/'\n",
      " 'https://www.rumah123.com/properti/bandung/hos8256933/'\n",
      " 'https://www.rumah123.com/properti/bandung-barat/hos8403077/'\n",
      " 'https://www.rumah123.com/properti/bandung/hos9114782/'\n",
      " 'https://www.rumah123.com/properti/cimahi/hos8851952/'\n",
      " 'https://www.rumah123.com/properti/cimahi/hos8474299/'\n",
      " 'https://www.rumah123.com/properti/cimahi/hos9133528/'\n",
      " 'https://www.rumah123.com/properti/bandung/hos8900286/'\n",
      " 'https://www.rumah123.com/properti/cimahi/hos8734001/'\n",
      " 'https://www.rumah123.com/properti/bandung/hos8530306/'\n",
      " 'https://www.rumah123.com/properti/cimahi/hos8502848/'\n",
      " 'https://www.rumah123.com/properti/bandung/hos7979548/'\n",
      " 'https://www.rumah123.com/properti/cimahi/hos8759205/'\n",
      " 'https://www.rumah123.com/properti/cimahi/hos8600377/'\n",
      " 'https://www.rumah123.com/properti/cimahi/hos8914804/'\n",
      " 'https://www.rumah123.com/properti/cimahi/hos7919444/'\n",
      " 'https://www.rumah123.com/properti/bandung/hos9085776/'\n",
      " 'https://www.rumah123.com/properti/bandung-barat/hos8534257/'\n",
      " 'https://www.rumah123.com/properti/cimahi/hos8616964/'\n",
      " 'https://www.rumah123.com/properti/bandung/hos8395086/'\n",
      " 'https://www.rumah123.com/properti/cimahi/hos8972002/'\n",
      " 'https://www.rumah123.com/properti/cimahi/hos8811059/'\n",
      " 'https://www.rumah123.com/properti/cimahi/hos7598538/'\n",
      " 'https://www.rumah123.com/properti/bandung/hos6919821/'\n",
      " 'https://www.rumah123.com/properti/bandung/hos6809343/'\n",
      " 'https://www.rumah123.com/properti/cimahi/hos8584575/'\n",
      " 'https://www.rumah123.com/properti/cimahi/hos9127470/'\n",
      " 'https://www.rumah123.com/properti/bandung-barat/hos8650375/'\n",
      " 'https://www.rumah123.com/properti/cimahi/hos8616201/'\n",
      " 'https://www.rumah123.com/properti/cimahi/hos8753718/'\n",
      " 'https://www.rumah123.com/properti/bandung/hos8374935/'\n",
      " 'https://www.rumah123.com/properti/bandung/hos9049062/'\n",
      " 'https://www.rumah123.com/properti/cimahi/hos9006468/'\n",
      " 'https://www.rumah123.com/properti/cimahi/hos8060446/'\n",
      " 'https://www.rumah123.com/properti/bandung/hos8615436/'\n",
      " 'https://www.rumah123.com/properti/cimahi/hos7888430/'\n",
      " 'https://www.rumah123.com/properti/cimahi/hos8063574/'\n",
      " 'https://www.rumah123.com/properti/cimahi/hos9134653/'\n",
      " 'https://www.rumah123.com/properti/bandung/hos8008356/'\n",
      " 'https://www.rumah123.com/properti/bandung/hos8765183/'\n",
      " 'https://www.rumah123.com/properti/cimahi/hos8735391/'\n",
      " 'https://www.rumah123.com/properti/bandung/hos8551823/'\n",
      " 'https://www.rumah123.com/properti/cimahi/hos9133838/'\n",
      " 'https://www.rumah123.com/properti/cimahi/hos9133862/'\n",
      " 'https://www.rumah123.com/properti/cimahi/hos8732128/'\n",
      " 'https://www.rumah123.com/properti/bandung/hos9133917/'\n",
      " 'https://www.rumah123.com/properti/bandung/hos9048423/'\n",
      " 'https://www.rumah123.com/properti/bandung/hos8734209/'\n",
      " 'https://www.rumah123.com/properti/cimahi/hos8222497/'\n",
      " 'https://www.rumah123.com/properti/bandung/hos7596915/'\n",
      " 'https://www.rumah123.com/properti/cimahi/hos8791010/'\n",
      " 'https://www.rumah123.com/properti/cimahi/hos9131348/'\n",
      " 'https://www.rumah123.com/properti/cimahi/hos8500762/'\n",
      " 'https://www.rumah123.com/properti/bandung-barat/hos8402076/'\n",
      " 'https://www.rumah123.com/properti/cimahi/hos8338410/'\n",
      " 'https://www.rumah123.com/properti/cimahi/hos9092911/'\n",
      " 'https://www.rumah123.com/properti/cimahi/hos8506664/'\n",
      " 'https://www.rumah123.com/properti/cimahi/hos8802318/'\n",
      " 'https://www.rumah123.com/properti/cimahi/hos8661712/'\n",
      " 'https://www.rumah123.com/properti/bandung/hos2937740/'\n",
      " 'https://www.rumah123.com/properti/cimahi/hos8801862/'\n",
      " 'https://www.rumah123.com/properti/bandung/hos8169742/'\n",
      " 'https://www.rumah123.com/properti/cimahi/hos9019219/'\n",
      " 'https://www.rumah123.com/properti/cimahi/hos9064719/'\n",
      " 'https://www.rumah123.com/properti/bandung-barat/hos8534290/'\n",
      " 'https://www.rumah123.com/properti/cimahi/hos9131470/'\n",
      " 'https://www.rumah123.com/properti/bandung/hos8918224/'\n",
      " 'https://www.rumah123.com/properti/cimahi/hos8791080/'\n",
      " 'https://www.rumah123.com/properti/cimahi/hos8366577/'\n",
      " 'https://www.rumah123.com/properti/bandung/hos8670311/'\n",
      " 'https://www.rumah123.com/properti/cimahi/hos7984167/'\n",
      " 'https://www.rumah123.com/properti/cimahi/hos9018978/'\n",
      " 'https://www.rumah123.com/properti/bandung-barat/hos8900184/'\n",
      " 'https://www.rumah123.com/properti/bandung/hos8556188/'\n",
      " 'https://www.rumah123.com/properti/bandung/hos8642087/'\n",
      " 'https://www.rumah123.com/properti/cimahi/hos8400258/'\n",
      " 'https://www.rumah123.com/properti/bandung/hos8792325/'\n",
      " 'https://www.rumah123.com/properti/cimahi/hos7925294/'\n",
      " 'https://www.rumah123.com/properti/cimahi/hos7373652/'\n",
      " 'https://www.rumah123.com/properti/cimahi/hos9135464/'\n",
      " 'https://www.rumah123.com/properti/bandung/hos9085424/'\n",
      " 'https://www.rumah123.com/properti/bandung/hos8059124/'\n",
      " 'https://www.rumah123.com/properti/cimahi/hos2978756/'\n",
      " 'https://www.rumah123.com/properti/bandung/hos8869698/'\n",
      " 'https://www.rumah123.com/properti/cimahi/hos9133983/'\n",
      " 'https://www.rumah123.com/properti/bandung/hos8550595/'\n",
      " 'https://www.rumah123.com/properti/cimahi/hos8294272/']\n",
      "address= ['Cimahi Utara, Cimahi' 'Lembang, Bandung Barat' 'Cimahi Tengah, Cimahi'\n",
      " 'Padalarang, Bandung Barat' 'Parongpong, Bandung Barat'\n",
      " 'Ngamprah, Bandung Barat' 'Cimahi Selatan, Cimahi'\n",
      " 'Cisarua, Bandung Barat' 'Cihanjuang, Bandung Barat'\n",
      " 'Batujajar, Bandung Barat' 'Pasteur, Bandung' 'Setiabudi, Bandung'\n",
      " 'Gegerkalong, Bandung' 'Sariwangi, Bandung Barat' 'Cibeureum, Bandung'\n",
      " 'Cijerah, Bandung' 'Gunung Batu, Bandung' 'Setra Duta, Bandung'\n",
      " 'Sarijadi, Bandung' 'Kota Baru Parahyangan, Bandung Barat'\n",
      " 'Cimindi, Bandung' 'Sukajadi, Bandung' 'Andir, Bandung'\n",
      " 'Sudirman, Bandung']\n",
      "building_area= [ 170.   50.   65.  200.  120.  521.   36.  288.   38.   58.  100.   45.\n",
      "  350.  110.   60.   48.   90.  420.  168.   78.  175.   80.  520.   55.\n",
      "  300.   83.   35.  150.  160. 1600.  260.  143.  240.  220.  250.  126.\n",
      "   88.  500.   68. 2000.   76.  180.  178.   70.  550.  400.  600.   69.\n",
      "   71.  816.   82.   56.   75.   51.   33.  105.   98.   40.  320.   30.\n",
      "  130.   85.  123.  214.  280.   67.  140.   44.  146.  264.  147.  450.\n",
      "   84.   34.   63.   39.  165.  108.  380.  117.   94.  270.  115.   72.\n",
      "  210.  142.  235.   42.   77.  138.  144.  158.   57.  134.  145.  102.\n",
      "  148.   74.  643.  195.  124.  385.   64.  225.  185.  800.   95.  114.\n",
      "   54.  430.  266.  125.  230.  177.  127.  290.   96.  323.  106.  149.\n",
      "   91.   61.  370.  191.  407.  129.  218.  650.  745.  480.   99.  135.\n",
      "   32.  815.   92.  166.  377.  157.  136.  275.  190.  196.  315.  216.\n",
      "  253.  590.]\n",
      "surface_area= [  205.    85.   120.   150.   386.   280.    72.   144.    94.    88.\n",
      "    60.   155.    90.    75.   100.   105.   329.   137.    78.   135.\n",
      "    96.    98.   700.    73.    80.  2437.    83.    76.    74.  1450.\n",
      "   264.   165.  2000.   288.   210.   256.   263.   209.   114.    63.\n",
      "   525.   180.   257.   384.   132.   300.   115.   224.  1600.   668.\n",
      "   178.    84.   440.   394.   102.   118.  1000.    86.   200.   108.\n",
      "    55.   130.   820.    62.   133.   125.   189.    57.    97.    77.\n",
      "   350.   122.    93.   110.   197.    65.    64.   360.    87.    53.\n",
      "   650.  1062.   139.    50.   252.   179.    54.   106.   184.   260.\n",
      "   208.    82.   170.   124.   123.   121.    67.   182.    70.   140.\n",
      "   168.   450.   250.   127.    66.   153.   138.   164.    61.   128.\n",
      "   152.    81.   363.   147.   380.   243.    89.   318.   185.   129.\n",
      "   103.    56.    91.   199.   298.   609.   174.    38.   455.   126.\n",
      "   399.    33.   145.   320.   332.   500.   247.   198.   109.    42.\n",
      "   940.   400.   201.  8100.   190.  1550.    40.    69.   193.   134.\n",
      "   107.   269.   104.    45.   235.   112.    36. 20000.   111.   117.\n",
      "   154.   315.   640.   196.    95.  2190.  1389.   157.   183.  1385.\n",
      "  3550.   119.   330.   171.   900.   213.   241.   402.   203.   846.\n",
      "    71.   255.   230.  1146.  2500.   396.    99.   600.   430.   950.\n",
      "   286.  1080.   655.   348.   314.   146.   407.    92.   151.   158.\n",
      "   220.   223.   101.    68.   142.   327.   160.   502.   116.   490.\n",
      "   273.   341.   585.  1827.   303.  2460.   239.   131.  1033.    35.\n",
      "   965.   267.  1330.   136.   866.   340.  3534.   769.   346.   148.\n",
      "    25.   427.   217.   756.   262.]\n",
      "bedroom= [ 2  3  4  8 18  5  6 34  7 19  0  9 13 11  1 24]\n",
      "bathroom= [ 1  2  3  8  5 25  4  7 15  9 13  6 12  0 24]\n",
      "parking_area= [ 0  1  2  8 25  3  4  5  7  9 10]\n",
      "tenure= ['SHM - Sertifikat Hak Milik' 'HGB - Hak Guna Bangunan'\n",
      " 'Tidak Ada Penjelasan' 'Lainnya (PPJB,Girik,Adat,dll)']\n",
      "price= [2.5000e+09 9.9800e+08 1.0400e+09 1.6500e+09 2.6000e+09 3.5640e+08\n",
      " 3.2000e+09 4.2500e+08 7.5000e+08 8.0000e+08 4.0500e+08 1.2500e+09\n",
      " 6.3500e+08 5.7960e+08 1.2440e+09 5.0000e+08 1.4000e+09 7.9900e+08\n",
      " 7.5000e+09 5.6500e+08 7.0000e+08 9.7500e+09 5.8500e+08 4.9500e+08\n",
      " 3.9900e+08 1.6000e+09 2.3000e+09 8.5000e+08 6.2500e+08 4.0000e+09\n",
      " 2.1000e+09 1.7000e+10 3.5000e+09 2.4000e+09 2.2000e+09 2.0000e+09\n",
      " 1.7000e+09 1.0500e+09 3.3500e+08 5.5000e+09 9.5000e+08 7.1110e+08\n",
      " 6.9500e+08 2.0900e+09 1.1500e+09 2.8000e+09 8.2500e+08 6.7000e+09\n",
      " 1.1850e+09 1.3000e+09 8.7600e+08 8.1500e+09 8.9500e+08 3.9500e+08\n",
      " 1.2000e+09 5.8000e+08 2.7500e+09 3.9800e+09 1.1280e+09 1.3100e+09\n",
      " 1.1500e+10 1.9000e+09 7.7500e+08 1.9500e+09 8.3000e+08 7.2000e+08\n",
      " 1.8000e+09 5.3500e+08 8.0000e+09 5.9500e+08 2.3500e+09 6.0000e+08\n",
      " 1.0900e+09 9.0000e+08 1.9800e+09 5.0000e+09 1.3750e+09 1.0000e+09\n",
      " 4.9880e+09 5.6000e+08 9.5700e+08 3.7000e+08 4.7000e+08 1.7500e+09\n",
      " 4.5000e+08 7.6000e+08 2.9880e+09 2.8900e+08 7.2000e+09 6.9600e+08\n",
      " 4.3800e+08 2.4900e+09 1.7500e+08 4.5630e+08 4.8000e+08 2.4000e+08\n",
      " 1.1000e+09 8.9000e+08 5.7000e+08 8.9100e+08 6.3000e+08 3.7600e+08\n",
      " 4.2050e+08 2.5000e+08 5.5300e+08 6.9000e+08 3.0000e+09 4.9900e+08\n",
      " 6.5000e+08 4.2000e+09 2.1900e+09 7.1500e+08 6.7000e+08 4.3500e+08\n",
      " 4.8100e+08 6.6490e+08 5.5500e+08 2.5500e+08 5.5000e+08 4.6530e+08\n",
      " 7.7000e+08 9.1500e+08 1.5000e+09 5.1500e+08 6.7500e+08 7.4900e+08\n",
      " 4.7500e+08 4.9000e+08 1.5500e+09 4.8000e+09 9.7400e+08 3.4900e+09\n",
      " 7.8000e+08 5.7500e+08 1.0590e+09 6.0000e+09 3.5060e+08 7.0500e+08\n",
      " 6.9300e+08 4.1000e+09 8.9800e+08 3.4000e+08 3.6700e+08 2.9000e+09\n",
      " 1.2750e+09 4.0000e+08 2.2500e+09 4.1200e+08 1.4500e+09 3.7500e+08\n",
      " 1.2500e+10 4.3500e+09 7.0000e+09 4.4550e+08 3.5000e+08 5.2500e+08\n",
      " 4.4000e+08 9.4000e+08 5.6690e+08 9.7000e+08 4.8500e+08 1.8750e+09\n",
      " 6.0050e+08 5.4700e+08 4.8090e+08 1.3500e+09 5.3000e+08 2.7000e+09\n",
      " 6.4100e+08 4.2000e+10 2.9500e+09 6.1000e+08 5.4500e+08 1.1980e+09\n",
      " 3.2500e+08 1.4250e+09 8.7500e+08 2.3800e+09 9.7500e+08 1.1300e+09\n",
      " 1.3520e+09 3.0000e+08 1.4990e+09 6.4000e+08 2.5000e+10 3.4900e+08\n",
      " 1.9900e+09 1.0000e+10 5.7100e+08 6.8800e+08 1.0150e+09 7.1100e+08\n",
      " 1.6700e+09 3.8500e+08 4.5000e+09 3.8020e+08 8.8230e+08 1.5000e+10\n",
      " 1.2240e+09 3.3000e+09 7.7500e+09 2.7500e+08 5.3100e+08 6.9830e+08\n",
      " 5.6250e+08 3.9000e+09 3.5750e+08 4.7700e+08 1.8500e+09 6.2550e+08\n",
      " 9.9500e+08 6.5000e+09 1.3500e+10 6.2500e+09 4.6000e+09 7.4500e+08\n",
      " 5.6300e+08 4.3460e+08 9.5000e+09 8.8900e+08 6.9400e+08 7.2500e+08\n",
      " 3.2500e+09 5.5840e+08 4.7500e+09 9.6900e+08 1.3700e+09 6.6500e+08\n",
      " 8.2430e+08 2.7000e+10 1.3650e+09 6.5500e+08 3.6500e+08 4.9000e+09\n",
      " 7.9500e+08 9.3500e+08 1.0960e+09 5.5900e+08 2.7000e+08 8.7100e+08\n",
      " 1.1400e+09 1.8900e+09 3.1000e+09 4.2000e+08 1.1900e+09 5.8000e+09\n",
      " 7.1260e+08 7.9000e+08 9.9900e+08 3.2950e+08 1.0210e+09 6.8000e+08\n",
      " 4.3450e+08 7.3100e+08 6.2400e+08 1.3275e+10 8.8000e+08 7.0400e+08\n",
      " 6.6700e+06 1.1900e+10 2.3900e+09 6.6320e+08 9.0000e+09 7.6500e+08\n",
      " 3.0800e+09 4.8910e+08 7.1120e+08 8.8800e+08 1.0930e+09 1.0750e+09\n",
      " 3.5700e+09 4.6000e+08 8.2220e+08 1.5880e+09 1.2900e+09 1.6500e+10\n",
      " 6.2000e+08 6.4500e+08 1.0550e+09 2.8500e+09 5.2300e+08 2.5990e+09\n",
      " 3.7000e+09 1.2150e+09 5.7900e+08]\n"
     ]
    }
   ],
   "source": [
    "# Unique value per columns\n",
    "for item in df.columns:\n",
    "    print(item + '=',(df[item].unique()))"
   ]
  },
  {
   "cell_type": "code",
   "execution_count": 7,
   "metadata": {},
   "outputs": [
    {
     "data": {
      "text/plain": [
       "url              0\n",
       "address          0\n",
       "building_area    0\n",
       "surface_area     0\n",
       "bedroom          0\n",
       "bathroom         0\n",
       "parking_area     0\n",
       "tenure           0\n",
       "price            0\n",
       "dtype: int64"
      ]
     },
     "execution_count": 7,
     "metadata": {},
     "output_type": "execute_result"
    }
   ],
   "source": [
    "# Detecting Null Values\n",
    "df.isnull().sum()"
   ]
  },
  {
   "cell_type": "code",
   "execution_count": 8,
   "metadata": {},
   "outputs": [
    {
     "name": "stdout",
     "output_type": "stream",
     "text": [
      "url= 0\n",
      "address= 0\n",
      "building_area= 0\n",
      "surface_area= 0\n",
      "bedroom= 0\n",
      "bathroom= 0\n",
      "parking_area= 0\n",
      "tenure= 0\n",
      "price= 0\n"
     ]
    }
   ],
   "source": [
    "# Detecting Unidentified Null Values \n",
    "for item in df :\n",
    "     print (item + '=', (df[item][df[item] == '-']).count())"
   ]
  },
  {
   "cell_type": "code",
   "execution_count": 9,
   "metadata": {},
   "outputs": [
    {
     "name": "stdout",
     "output_type": "stream",
     "text": [
      "url= 0\n",
      "address= 0\n",
      "building_area= 0\n",
      "surface_area= 0\n",
      "bedroom= 0\n",
      "bathroom= 0\n",
      "parking_area= 0\n",
      "tenure= 0\n",
      "price= 0\n"
     ]
    }
   ],
   "source": [
    "# Detecting Duplicate Values\n",
    "for item in df :\n",
    "    print (item + '=', (df.duplicated().sum()))"
   ]
  },
  {
   "cell_type": "markdown",
   "metadata": {},
   "source": [
    "## EDA"
   ]
  },
  {
   "cell_type": "code",
   "execution_count": 10,
   "metadata": {},
   "outputs": [
    {
     "data": {
      "text/plain": [
       "<seaborn.axisgrid.PairGrid at 0x249c6139220>"
      ]
     },
     "execution_count": 10,
     "metadata": {},
     "output_type": "execute_result"
    },
    {
     "data": {
      "image/png": "[encoded data removed]",
      "text/plain": [
       "<Figure size 1080x1080 with 42 Axes>"
      ]
     },
     "metadata": {
      "needs_background": "light"
     },
     "output_type": "display_data"
    }
   ],
   "source": [
    "sns.pairplot(df)"
   ]
  },
  {
   "cell_type": "markdown",
   "metadata": {},
   "source": [
    "### Number of Bedroom"
   ]
  },
  {
   "cell_type": "code",
   "execution_count": 11,
   "metadata": {},
   "outputs": [
    {
     "data": {
      "image/png": "[encoded data removed]",
      "text/plain": [
       "<Figure size 576x360 with 1 Axes>"
      ]
     },
     "metadata": {
      "needs_background": "light"
     },
     "output_type": "display_data"
    }
   ],
   "source": [
    "plt.figure(figsize=(8,5))\n",
    "plot = sns.countplot(data = df, x = 'bedroom').set_title('Number of Bedrooms in each Different Houses')\n",
    "plt.show()"
   ]
  },
  {
   "cell_type": "code",
   "execution_count": 12,
   "metadata": {},
   "outputs": [
    {
     "data": {
      "text/plain": [
       "0      16\n",
       "1       5\n",
       "2     324\n",
       "3     326\n",
       "4     109\n",
       "5      51\n",
       "6      37\n",
       "7      10\n",
       "8       7\n",
       "9       4\n",
       "11      5\n",
       "13      1\n",
       "18      1\n",
       "19      2\n",
       "24      1\n",
       "34      2\n",
       "Name: bedroom, dtype: int64"
      ]
     },
     "execution_count": 12,
     "metadata": {},
     "output_type": "execute_result"
    }
   ],
   "source": [
    "df['bedroom'].value_counts().sort_index()"
   ]
  },
  {
   "cell_type": "markdown",
   "metadata": {},
   "source": [
    "The houses in this dataset have 0 till 24 number of bedroom. As we can see, almost every house has 2 and 3 bedrooms. Before we get assume, the question is why most houses only have 2 and 3 bedrooms?"
   ]
  },
  {
   "cell_type": "code",
   "execution_count": 13,
   "metadata": {},
   "outputs": [
    {
     "data": {
      "text/plain": [
       "50.0     50\n",
       "45.0     50\n",
       "38.0     37\n",
       "100.0    37\n",
       "80.0     34\n",
       "Name: building_area, dtype: int64"
      ]
     },
     "execution_count": 13,
     "metadata": {},
     "output_type": "execute_result"
    }
   ],
   "source": [
    "df['building_area'].value_counts().head()"
   ]
  },
  {
   "cell_type": "code",
   "execution_count": 14,
   "metadata": {},
   "outputs": [
    {
     "data": {
      "text/plain": [
       "120.0    82\n",
       "72.0     56\n",
       "60.0     42\n",
       "105.0    31\n",
       "90.0     30\n",
       "Name: surface_area, dtype: int64"
      ]
     },
     "execution_count": 14,
     "metadata": {},
     "output_type": "execute_result"
    }
   ],
   "source": [
    "df['surface_area'].value_counts().head()"
   ]
  },
  {
   "cell_type": "code",
   "execution_count": 15,
   "metadata": {},
   "outputs": [
    {
     "data": {
      "text/plain": [
       "bedroom          1.000000\n",
       "bathroom         0.892160\n",
       "building_area    0.752648\n",
       "price            0.475993\n",
       "parking_area     0.469842\n",
       "surface_area     0.203632\n",
       "Name: bedroom, dtype: float64"
      ]
     },
     "execution_count": 15,
     "metadata": {},
     "output_type": "execute_result"
    }
   ],
   "source": [
    "df.corr()['bedroom'].sort_values(ascending= False)"
   ]
  },
  {
   "cell_type": "code",
   "execution_count": 16,
   "metadata": {},
   "outputs": [
    {
     "data": {
      "image/png": "[encoded data removed]",
      "text/plain": [
       "<Figure size 1080x360 with 2 Axes>"
      ]
     },
     "metadata": {
      "needs_background": "light"
     },
     "output_type": "display_data"
    }
   ],
   "source": [
    "f, axes = plt.subplots(1, 2,figsize=(15,5))\n",
    "sns.regplot(x='bedroom',y='bathroom', data=df, color='b',ax=axes[0])\n",
    "sns.regplot(x='bedroom',y='building_area', data=df, color='r', ax=axes[1])\n",
    "sns.despine(bottom=True, left=True)\n",
    "axes[0].set(xlabel='Price in millions [IDR]', title='Bedroom By Bathroom')\n",
    "axes[1].set(xlabel='Price in millions [IDR]', ylabel='Surface Area', title='Bedroom By Building Area')\n",
    "axes[1].yaxis.set_label_position(\"left\")\n",
    "plt.show()"
   ]
  },
  {
   "cell_type": "markdown",
   "metadata": {},
   "source": [
    "First of all, I look the land area, because we need a land to build a building. The fact is, mostly the land or surface area in this dataset are small enough, generally measuring is only 120 meters squared, that's why most of the building area are small too.  \n",
    "<br>\n",
    "After that, I tried to look at the correlation matrix. From above, we can assume that the number of bedrooms is adjusted by \"building area\". The larger \"building area\", the more \"bedroom\" too. And, it's turns up \"bathroom\" and \"building area\" have a strong correlation with \"bedroom\", perhaps it's mean that having many bathrooms are indicated the house has many occupants, so they need a lot of bedrooms. So we can get some conclusion, the number of bedroom affected by total building area, and number of occupants.\n",
    "<br>\n",
    "\n",
    "The next question is, what does 0 number of bedroom means?"
   ]
  },
  {
   "cell_type": "code",
   "execution_count": 17,
   "metadata": {},
   "outputs": [
    {
     "data": {
      "text/plain": [
       "93      https://www.rumah123.com/properti/cimahi/hos8975780/\n",
       "329     https://www.rumah123.com/properti/cimahi/hos7184596/\n",
       "336     https://www.rumah123.com/properti/cimahi/hos3296459/\n",
       "388    https://www.rumah123.com/properti/bandung/hos8969898/\n",
       "389     https://www.rumah123.com/properti/cimahi/hos8701256/\n",
       "477     https://www.rumah123.com/properti/cimahi/hos7988342/\n",
       "479    https://www.rumah123.com/properti/bandung/hos9077785/\n",
       "505     https://www.rumah123.com/properti/cimahi/hos8668217/\n",
       "519     https://www.rumah123.com/properti/cimahi/hos8581079/\n",
       "528    https://www.rumah123.com/properti/bandung/hos8089857/\n",
       "632    https://www.rumah123.com/properti/bandung/hos7110541/\n",
       "649     https://www.rumah123.com/properti/cimahi/hos8801434/\n",
       "692    https://www.rumah123.com/properti/bandung/hos7794223/\n",
       "697     https://www.rumah123.com/properti/cimahi/hos3296443/\n",
       "725     https://www.rumah123.com/properti/cimahi/hos7184595/\n",
       "819     https://www.rumah123.com/properti/cimahi/hos8474299/\n",
       "Name: url, dtype: object"
      ]
     },
     "execution_count": 17,
     "metadata": {},
     "output_type": "execute_result"
    }
   ],
   "source": [
    "pd.set_option('display.max_colwidth', None)\n",
    "df[df['bedroom'] == 0].url"
   ]
  },
  {
   "cell_type": "markdown",
   "metadata": {},
   "source": [
    "After I access for detail by link on each row, mostly that houses in the past functioned as places of business, so generally they don't have or need any bedrooms."
   ]
  },
  {
   "cell_type": "code",
   "execution_count": 18,
   "metadata": {},
   "outputs": [
    {
     "name": "stdout",
     "output_type": "stream",
     "text": [
      "    bedroom         price\n",
      "0         0  1.275000e+09\n",
      "1         1  4.500000e+08\n",
      "2         2  6.052500e+08\n",
      "3         3  1.100000e+09\n",
      "4         4  1.800000e+09\n",
      "5         5  2.500000e+09\n",
      "6         6  3.000000e+09\n",
      "7         7  5.994000e+09\n",
      "8         8  2.900000e+09\n",
      "9         9  3.425000e+09\n",
      "10       11  2.800000e+09\n",
      "11       13  1.950000e+09\n",
      "12       18  8.000000e+08\n",
      "13       19  8.000000e+09\n",
      "14       24  1.000000e+10\n",
      "15       34  1.700000e+10\n"
     ]
    },
    {
     "data": {
      "image/png": "[encoded data removed]",
      "text/plain": [
       "<Figure size 360x360 with 1 Axes>"
      ]
     },
     "metadata": {
      "needs_background": "light"
     },
     "output_type": "display_data"
    }
   ],
   "source": [
    "price_per_bedroom = df.groupby('bedroom')['price'].median().reset_index()\n",
    "print(price_per_bedroom)\n",
    "\n",
    "price_per_bedroom.plot(x = 'bedroom', y = 'price', kind = 'bar', figsize = [5,5])\n",
    "plt.xlabel('bedroom')\n",
    "plt.ylabel('price')\n",
    "plt.show()"
   ]
  },
  {
   "cell_type": "markdown",
   "metadata": {},
   "source": [
    "We got a surprise here. Why is the average price of houses with 0 bedrooms are more expensive than 13 and 18 bedrooms? I think this is the benefit of data exploration manually. This data doesn't match our common sense, so we need to investigate it. We start by checking for outliers."
   ]
  },
  {
   "cell_type": "code",
   "execution_count": 19,
   "metadata": {},
   "outputs": [
    {
     "data": {
      "text/html": [
       "<div>\n",
       "<style scoped>\n",
       "    .dataframe tbody tr th:only-of-type {\n",
       "        vertical-align: middle;\n",
       "    }\n",
       "\n",
       "    .dataframe tbody tr th {\n",
       "        vertical-align: top;\n",
       "    }\n",
       "\n",
       "    .dataframe thead th {\n",
       "        text-align: right;\n",
       "    }\n",
       "</style>\n",
       "<table border=\"1\" class=\"dataframe\">\n",
       "  <thead>\n",
       "    <tr style=\"text-align: right;\">\n",
       "      <th></th>\n",
       "      <th>url</th>\n",
       "      <th>address</th>\n",
       "      <th>building_area</th>\n",
       "      <th>surface_area</th>\n",
       "      <th>bedroom</th>\n",
       "      <th>bathroom</th>\n",
       "      <th>parking_area</th>\n",
       "      <th>tenure</th>\n",
       "      <th>price</th>\n",
       "    </tr>\n",
       "  </thead>\n",
       "  <tbody>\n",
       "    <tr>\n",
       "      <th>692</th>\n",
       "      <td>https://www.rumah123.com/properti/bandung/hos7794223/</td>\n",
       "      <td>Cimahi Selatan, Cimahi</td>\n",
       "      <td>745.0</td>\n",
       "      <td>1827.0</td>\n",
       "      <td>0</td>\n",
       "      <td>2</td>\n",
       "      <td>0</td>\n",
       "      <td>Tidak Ada Penjelasan</td>\n",
       "      <td>1.327500e+10</td>\n",
       "    </tr>\n",
       "    <tr>\n",
       "      <th>477</th>\n",
       "      <td>https://www.rumah123.com/properti/cimahi/hos7988342/</td>\n",
       "      <td>Cimahi Tengah, Cimahi</td>\n",
       "      <td>350.0</td>\n",
       "      <td>900.0</td>\n",
       "      <td>0</td>\n",
       "      <td>2</td>\n",
       "      <td>25</td>\n",
       "      <td>Tidak Ada Penjelasan</td>\n",
       "      <td>7.750000e+09</td>\n",
       "    </tr>\n",
       "    <tr>\n",
       "      <th>528</th>\n",
       "      <td>https://www.rumah123.com/properti/bandung/hos8089857/</td>\n",
       "      <td>Cimahi Tengah, Cimahi</td>\n",
       "      <td>250.0</td>\n",
       "      <td>189.0</td>\n",
       "      <td>0</td>\n",
       "      <td>0</td>\n",
       "      <td>0</td>\n",
       "      <td>SHM - Sertifikat Hak Milik</td>\n",
       "      <td>4.600000e+09</td>\n",
       "    </tr>\n",
       "    <tr>\n",
       "      <th>93</th>\n",
       "      <td>https://www.rumah123.com/properti/cimahi/hos8975780/</td>\n",
       "      <td>Cimahi Tengah, Cimahi</td>\n",
       "      <td>150.0</td>\n",
       "      <td>210.0</td>\n",
       "      <td>0</td>\n",
       "      <td>2</td>\n",
       "      <td>3</td>\n",
       "      <td>SHM - Sertifikat Hak Milik</td>\n",
       "      <td>2.800000e+09</td>\n",
       "    </tr>\n",
       "    <tr>\n",
       "      <th>388</th>\n",
       "      <td>https://www.rumah123.com/properti/bandung/hos8969898/</td>\n",
       "      <td>Cimahi Utara, Cimahi</td>\n",
       "      <td>350.0</td>\n",
       "      <td>350.0</td>\n",
       "      <td>0</td>\n",
       "      <td>0</td>\n",
       "      <td>0</td>\n",
       "      <td>SHM - Sertifikat Hak Milik</td>\n",
       "      <td>2.200000e+09</td>\n",
       "    </tr>\n",
       "  </tbody>\n",
       "</table>\n",
       "</div>"
      ],
      "text/plain": [
       "                                                       url  \\\n",
       "692  https://www.rumah123.com/properti/bandung/hos7794223/   \n",
       "477   https://www.rumah123.com/properti/cimahi/hos7988342/   \n",
       "528  https://www.rumah123.com/properti/bandung/hos8089857/   \n",
       "93    https://www.rumah123.com/properti/cimahi/hos8975780/   \n",
       "388  https://www.rumah123.com/properti/bandung/hos8969898/   \n",
       "\n",
       "                    address  building_area  surface_area  bedroom  bathroom  \\\n",
       "692  Cimahi Selatan, Cimahi          745.0        1827.0        0         2   \n",
       "477   Cimahi Tengah, Cimahi          350.0         900.0        0         2   \n",
       "528   Cimahi Tengah, Cimahi          250.0         189.0        0         0   \n",
       "93    Cimahi Tengah, Cimahi          150.0         210.0        0         2   \n",
       "388    Cimahi Utara, Cimahi          350.0         350.0        0         0   \n",
       "\n",
       "     parking_area                      tenure         price  \n",
       "692             0        Tidak Ada Penjelasan  1.327500e+10  \n",
       "477            25        Tidak Ada Penjelasan  7.750000e+09  \n",
       "528             0  SHM - Sertifikat Hak Milik  4.600000e+09  \n",
       "93              3  SHM - Sertifikat Hak Milik  2.800000e+09  \n",
       "388             0  SHM - Sertifikat Hak Milik  2.200000e+09  "
      ]
     },
     "execution_count": 19,
     "metadata": {},
     "output_type": "execute_result"
    }
   ],
   "source": [
    "df[df['bedroom'] == 0].sort_values(by=['price'], ascending=False).head(5)"
   ]
  },
  {
   "cell_type": "markdown",
   "metadata": {},
   "source": [
    "First, we filter 'price' by 'bedroom'.  After that, we can draw the boxplot using seaborn and we see there are two outliers. Let's check it out."
   ]
  },
  {
   "cell_type": "code",
   "execution_count": 20,
   "metadata": {},
   "outputs": [
    {
     "data": {
      "text/plain": [
       "<AxesSubplot:xlabel='price'>"
      ]
     },
     "execution_count": 20,
     "metadata": {},
     "output_type": "execute_result"
    },
    {
     "data": {
      "image/png": "[encoded data removed]",
      "text/plain": [
       "<Figure size 432x288 with 1 Axes>"
      ]
     },
     "metadata": {
      "needs_background": "light"
     },
     "output_type": "display_data"
    }
   ],
   "source": [
    "house_check = df['bedroom'] == 0\n",
    "sns.boxplot(x = df[house_check].price)"
   ]
  },
  {
   "cell_type": "code",
   "execution_count": 21,
   "metadata": {},
   "outputs": [
    {
     "data": {
      "text/plain": [
       "692    https://www.rumah123.com/properti/bandung/hos7794223/\n",
       "477     https://www.rumah123.com/properti/cimahi/hos7988342/\n",
       "Name: url, dtype: object"
      ]
     },
     "execution_count": 21,
     "metadata": {},
     "output_type": "execute_result"
    }
   ],
   "source": [
    "pd.set_option('display.max_colwidth', None)\n",
    "df[house_check].sort_values(by=['price'], ascending=False).head(2).url"
   ]
  },
  {
   "cell_type": "markdown",
   "metadata": {},
   "source": [
    "After i checked based on the link, it turns out that the problem is in the building type is wrong. These outliers should belong to the warehouse type, not in the house type, also because the outliers are located far from other data points, so we should delete them. I'll check on other categories too."
   ]
  },
  {
   "cell_type": "code",
   "execution_count": 22,
   "metadata": {},
   "outputs": [],
   "source": [
    "i = ['https://www.rumah123.com/properti/bandung/hos7794223/','https://www.rumah123.com/properti/cimahi/hos7988342/']\n",
    "\n",
    "for item in i :\n",
    "    df.drop(df[df['url'] == item].index, inplace = True)"
   ]
  },
  {
   "cell_type": "code",
   "execution_count": 23,
   "metadata": {},
   "outputs": [
    {
     "data": {
      "text/html": [
       "<div>\n",
       "<style scoped>\n",
       "    .dataframe tbody tr th:only-of-type {\n",
       "        vertical-align: middle;\n",
       "    }\n",
       "\n",
       "    .dataframe tbody tr th {\n",
       "        vertical-align: top;\n",
       "    }\n",
       "\n",
       "    .dataframe thead th {\n",
       "        text-align: right;\n",
       "    }\n",
       "</style>\n",
       "<table border=\"1\" class=\"dataframe\">\n",
       "  <thead>\n",
       "    <tr style=\"text-align: right;\">\n",
       "      <th></th>\n",
       "      <th>url</th>\n",
       "      <th>address</th>\n",
       "      <th>building_area</th>\n",
       "      <th>surface_area</th>\n",
       "      <th>bedroom</th>\n",
       "      <th>bathroom</th>\n",
       "      <th>parking_area</th>\n",
       "      <th>tenure</th>\n",
       "      <th>price</th>\n",
       "    </tr>\n",
       "  </thead>\n",
       "  <tbody>\n",
       "    <tr>\n",
       "      <th>886</th>\n",
       "      <td>https://www.rumah123.com/properti/bandung-barat/hos8900184/</td>\n",
       "      <td>Parongpong, Bandung Barat</td>\n",
       "      <td>590.0</td>\n",
       "      <td>756.0</td>\n",
       "      <td>11</td>\n",
       "      <td>6</td>\n",
       "      <td>3</td>\n",
       "      <td>SHM - Sertifikat Hak Milik</td>\n",
       "      <td>5.500000e+09</td>\n",
       "    </tr>\n",
       "    <tr>\n",
       "      <th>897</th>\n",
       "      <td>https://www.rumah123.com/properti/bandung/hos8869698/</td>\n",
       "      <td>Lembang, Bandung Barat</td>\n",
       "      <td>590.0</td>\n",
       "      <td>756.0</td>\n",
       "      <td>11</td>\n",
       "      <td>6</td>\n",
       "      <td>0</td>\n",
       "      <td>SHM - Sertifikat Hak Milik</td>\n",
       "      <td>5.500000e+09</td>\n",
       "    </tr>\n",
       "    <tr>\n",
       "      <th>892</th>\n",
       "      <td>https://www.rumah123.com/properti/cimahi/hos7373652/</td>\n",
       "      <td>Cimahi Utara, Cimahi</td>\n",
       "      <td>400.0</td>\n",
       "      <td>407.0</td>\n",
       "      <td>11</td>\n",
       "      <td>4</td>\n",
       "      <td>2</td>\n",
       "      <td>SHM - Sertifikat Hak Milik</td>\n",
       "      <td>2.800000e+09</td>\n",
       "    </tr>\n",
       "    <tr>\n",
       "      <th>226</th>\n",
       "      <td>https://www.rumah123.com/properti/bandung/hos9133302/</td>\n",
       "      <td>Cihanjuang, Bandung Barat</td>\n",
       "      <td>300.0</td>\n",
       "      <td>318.0</td>\n",
       "      <td>11</td>\n",
       "      <td>12</td>\n",
       "      <td>5</td>\n",
       "      <td>SHM - Sertifikat Hak Milik</td>\n",
       "      <td>1.700000e+09</td>\n",
       "    </tr>\n",
       "    <tr>\n",
       "      <th>605</th>\n",
       "      <td>https://www.rumah123.com/properti/bandung/hos9132228/</td>\n",
       "      <td>Cihanjuang, Bandung Barat</td>\n",
       "      <td>300.0</td>\n",
       "      <td>318.0</td>\n",
       "      <td>11</td>\n",
       "      <td>12</td>\n",
       "      <td>5</td>\n",
       "      <td>SHM - Sertifikat Hak Milik</td>\n",
       "      <td>1.700000e+09</td>\n",
       "    </tr>\n",
       "  </tbody>\n",
       "</table>\n",
       "</div>"
      ],
      "text/plain": [
       "                                                             url  \\\n",
       "886  https://www.rumah123.com/properti/bandung-barat/hos8900184/   \n",
       "897        https://www.rumah123.com/properti/bandung/hos8869698/   \n",
       "892         https://www.rumah123.com/properti/cimahi/hos7373652/   \n",
       "226        https://www.rumah123.com/properti/bandung/hos9133302/   \n",
       "605        https://www.rumah123.com/properti/bandung/hos9132228/   \n",
       "\n",
       "                       address  building_area  surface_area  bedroom  \\\n",
       "886  Parongpong, Bandung Barat          590.0         756.0       11   \n",
       "897     Lembang, Bandung Barat          590.0         756.0       11   \n",
       "892       Cimahi Utara, Cimahi          400.0         407.0       11   \n",
       "226  Cihanjuang, Bandung Barat          300.0         318.0       11   \n",
       "605  Cihanjuang, Bandung Barat          300.0         318.0       11   \n",
       "\n",
       "     bathroom  parking_area                      tenure         price  \n",
       "886         6             3  SHM - Sertifikat Hak Milik  5.500000e+09  \n",
       "897         6             0  SHM - Sertifikat Hak Milik  5.500000e+09  \n",
       "892         4             2  SHM - Sertifikat Hak Milik  2.800000e+09  \n",
       "226        12             5  SHM - Sertifikat Hak Milik  1.700000e+09  \n",
       "605        12             5  SHM - Sertifikat Hak Milik  1.700000e+09  "
      ]
     },
     "execution_count": 23,
     "metadata": {},
     "output_type": "execute_result"
    }
   ],
   "source": [
    "pd.set_option('display.max_colwidth', None)\n",
    "df[df['bedroom'] == 11].sort_values(by=['price'], ascending=False)"
   ]
  },
  {
   "cell_type": "code",
   "execution_count": 24,
   "metadata": {},
   "outputs": [
    {
     "data": {
      "text/html": [
       "<div>\n",
       "<style scoped>\n",
       "    .dataframe tbody tr th:only-of-type {\n",
       "        vertical-align: middle;\n",
       "    }\n",
       "\n",
       "    .dataframe tbody tr th {\n",
       "        vertical-align: top;\n",
       "    }\n",
       "\n",
       "    .dataframe thead th {\n",
       "        text-align: right;\n",
       "    }\n",
       "</style>\n",
       "<table border=\"1\" class=\"dataframe\">\n",
       "  <thead>\n",
       "    <tr style=\"text-align: right;\">\n",
       "      <th></th>\n",
       "      <th>url</th>\n",
       "      <th>address</th>\n",
       "      <th>building_area</th>\n",
       "      <th>surface_area</th>\n",
       "      <th>bedroom</th>\n",
       "      <th>bathroom</th>\n",
       "      <th>parking_area</th>\n",
       "      <th>tenure</th>\n",
       "      <th>price</th>\n",
       "    </tr>\n",
       "  </thead>\n",
       "  <tbody>\n",
       "    <tr>\n",
       "      <th>17</th>\n",
       "      <td>https://www.rumah123.com/properti/cimahi/hos8949137/</td>\n",
       "      <td>Cimahi Selatan, Cimahi</td>\n",
       "      <td>420.0</td>\n",
       "      <td>329.0</td>\n",
       "      <td>18</td>\n",
       "      <td>8</td>\n",
       "      <td>0</td>\n",
       "      <td>SHM - Sertifikat Hak Milik</td>\n",
       "      <td>800000000.0</td>\n",
       "    </tr>\n",
       "  </tbody>\n",
       "</table>\n",
       "</div>"
      ],
      "text/plain": [
       "                                                     url  \\\n",
       "17  https://www.rumah123.com/properti/cimahi/hos8949137/   \n",
       "\n",
       "                   address  building_area  surface_area  bedroom  bathroom  \\\n",
       "17  Cimahi Selatan, Cimahi          420.0         329.0       18         8   \n",
       "\n",
       "    parking_area                      tenure        price  \n",
       "17             0  SHM - Sertifikat Hak Milik  800000000.0  "
      ]
     },
     "execution_count": 24,
     "metadata": {},
     "output_type": "execute_result"
    }
   ],
   "source": [
    "pd.set_option('display.max_colwidth', None)\n",
    "df[df['bedroom'] == 18].sort_values(by=['price'], ascending=False)"
   ]
  },
  {
   "cell_type": "markdown",
   "metadata": {},
   "source": [
    "Mostly, the houses with more than 10 bedrooms are boarding houses, so the size of the land isn't large but the size of the building is large because it's multistory. \n",
    "<br>\n",
    "\n",
    "We can assume that in Cimahi generally they prioritize land area, so that the land area is the most determines features of selling price of the house, not the facilities."
   ]
  },
  {
   "cell_type": "markdown",
   "metadata": {},
   "source": [
    "### Number of Bathrooms"
   ]
  },
  {
   "cell_type": "code",
   "execution_count": 25,
   "metadata": {},
   "outputs": [
    {
     "data": {
      "image/png": "[encoded data removed]",
      "text/plain": [
       "<Figure size 576x360 with 1 Axes>"
      ]
     },
     "metadata": {
      "needs_background": "light"
     },
     "output_type": "display_data"
    }
   ],
   "source": [
    "plt.figure(figsize=(8,5))\n",
    "sns.countplot(data = df, x = 'bathroom').set_title('Number of Bathrooms in each Different Houses ')\n",
    "plt.show()"
   ]
  },
  {
   "cell_type": "code",
   "execution_count": 26,
   "metadata": {},
   "outputs": [
    {
     "data": {
      "text/plain": [
       "2     409\n",
       "1     254\n",
       "3     153\n",
       "4      40\n",
       "6      13\n",
       "5      10\n",
       "0       7\n",
       "7       3\n",
       "12      2\n",
       "15      2\n",
       "25      2\n",
       "8       1\n",
       "9       1\n",
       "13      1\n",
       "24      1\n",
       "Name: bathroom, dtype: int64"
      ]
     },
     "execution_count": 26,
     "metadata": {},
     "output_type": "execute_result"
    }
   ],
   "source": [
    "df['bathroom'].value_counts()"
   ]
  },
  {
   "cell_type": "markdown",
   "metadata": {},
   "source": [
    "As seen,  the houses in this dataset have 0 till 24 number of bathroom. Almost every house has 1 and 2 bedrooms. Like before, maybe because it's adjusted by the number of occupants need's which can be seen from the number of rooms, which mostly there are have 1 till 3 rooms too in this dataset.\n"
   ]
  },
  {
   "cell_type": "markdown",
   "metadata": {},
   "source": [
    "### Number of Parking Area"
   ]
  },
  {
   "cell_type": "code",
   "execution_count": 27,
   "metadata": {},
   "outputs": [
    {
     "data": {
      "image/png": "[encoded data removed]",
      "text/plain": [
       "<Figure size 576x360 with 1 Axes>"
      ]
     },
     "metadata": {
      "needs_background": "light"
     },
     "output_type": "display_data"
    }
   ],
   "source": [
    "plt.figure(figsize=(8,5))\n",
    "sns.countplot(data = df, x = 'parking_area').set_title('Number of Parking Area in each Different Houses')\n",
    "plt.show()"
   ]
  },
  {
   "cell_type": "code",
   "execution_count": 28,
   "metadata": {},
   "outputs": [
    {
     "data": {
      "text/plain": [
       "0     447\n",
       "1     326\n",
       "2      96\n",
       "3      10\n",
       "4       9\n",
       "5       3\n",
       "8       3\n",
       "25      2\n",
       "7       1\n",
       "9       1\n",
       "10      1\n",
       "Name: parking_area, dtype: int64"
      ]
     },
     "execution_count": 28,
     "metadata": {},
     "output_type": "execute_result"
    }
   ],
   "source": [
    "df['parking_area'].value_counts()"
   ]
  },
  {
   "cell_type": "markdown",
   "metadata": {},
   "source": [
    "As we can see, the houses in this dataset have 0 till 25 number of  parking areas. Most of the houses have 0 parking areas, what does that mean?\n"
   ]
  },
  {
   "cell_type": "code",
   "execution_count": 29,
   "metadata": {},
   "outputs": [
    {
     "data": {
      "text/plain": [
       "0             https://www.rumah123.com/properti/cimahi/hos6216128/\n",
       "6            https://www.rumah123.com/properti/bandung/hos9047315/\n",
       "9      https://www.rumah123.com/properti/bandung-barat/hos8506801/\n",
       "14            https://www.rumah123.com/properti/cimahi/hos8933114/\n",
       "16            https://www.rumah123.com/properti/cimahi/hos8735349/\n",
       "                                  ...                             \n",
       "887          https://www.rumah123.com/properti/bandung/hos8556188/\n",
       "891           https://www.rumah123.com/properti/cimahi/hos7925294/\n",
       "896           https://www.rumah123.com/properti/cimahi/hos2978756/\n",
       "897          https://www.rumah123.com/properti/bandung/hos8869698/\n",
       "900           https://www.rumah123.com/properti/cimahi/hos8294272/\n",
       "Name: url, Length: 447, dtype: object"
      ]
     },
     "execution_count": 29,
     "metadata": {},
     "output_type": "execute_result"
    }
   ],
   "source": [
    "df[df['parking_area'] ==  0].url"
   ]
  },
  {
   "cell_type": "markdown",
   "metadata": {},
   "source": [
    "As before, most of the houses in this dataset are small. So after I checked manually via the link above, the houses that have 0 parking areas  ​​are small houses that don't have enough space to build a garage or parking area for even just one car. This makes sense, because generally we park the car on the side of the road, not in the garage."
   ]
  },
  {
   "cell_type": "markdown",
   "metadata": {},
   "source": [
    "## Land Features"
   ]
  },
  {
   "cell_type": "code",
   "execution_count": 30,
   "metadata": {},
   "outputs": [
    {
     "data": {
      "text/html": [
       "<div>\n",
       "<style scoped>\n",
       "    .dataframe tbody tr th:only-of-type {\n",
       "        vertical-align: middle;\n",
       "    }\n",
       "\n",
       "    .dataframe tbody tr th {\n",
       "        vertical-align: top;\n",
       "    }\n",
       "\n",
       "    .dataframe thead th {\n",
       "        text-align: right;\n",
       "    }\n",
       "</style>\n",
       "<table border=\"1\" class=\"dataframe\">\n",
       "  <thead>\n",
       "    <tr style=\"text-align: right;\">\n",
       "      <th></th>\n",
       "      <th>building_area</th>\n",
       "      <th>surface_area</th>\n",
       "    </tr>\n",
       "    <tr>\n",
       "      <th>address</th>\n",
       "      <th></th>\n",
       "      <th></th>\n",
       "    </tr>\n",
       "  </thead>\n",
       "  <tbody>\n",
       "    <tr>\n",
       "      <th>Andir, Bandung</th>\n",
       "      <td>250.0</td>\n",
       "      <td>655.0</td>\n",
       "    </tr>\n",
       "    <tr>\n",
       "      <th>Batujajar, Bandung Barat</th>\n",
       "      <td>67.5</td>\n",
       "      <td>81.0</td>\n",
       "    </tr>\n",
       "    <tr>\n",
       "      <th>Cibeureum, Bandung</th>\n",
       "      <td>110.0</td>\n",
       "      <td>81.0</td>\n",
       "    </tr>\n",
       "    <tr>\n",
       "      <th>Cihanjuang, Bandung Barat</th>\n",
       "      <td>80.0</td>\n",
       "      <td>81.0</td>\n",
       "    </tr>\n",
       "    <tr>\n",
       "      <th>Cijerah, Bandung</th>\n",
       "      <td>70.0</td>\n",
       "      <td>150.0</td>\n",
       "    </tr>\n",
       "    <tr>\n",
       "      <th>Cimahi Selatan, Cimahi</th>\n",
       "      <td>114.0</td>\n",
       "      <td>129.0</td>\n",
       "    </tr>\n",
       "    <tr>\n",
       "      <th>Cimahi Tengah, Cimahi</th>\n",
       "      <td>143.0</td>\n",
       "      <td>121.5</td>\n",
       "    </tr>\n",
       "    <tr>\n",
       "      <th>Cimahi Utara, Cimahi</th>\n",
       "      <td>90.0</td>\n",
       "      <td>120.0</td>\n",
       "    </tr>\n",
       "    <tr>\n",
       "      <th>Cimindi, Bandung</th>\n",
       "      <td>190.0</td>\n",
       "      <td>165.5</td>\n",
       "    </tr>\n",
       "    <tr>\n",
       "      <th>Cisarua, Bandung Barat</th>\n",
       "      <td>91.0</td>\n",
       "      <td>107.0</td>\n",
       "    </tr>\n",
       "    <tr>\n",
       "      <th>Gegerkalong, Bandung</th>\n",
       "      <td>122.0</td>\n",
       "      <td>126.0</td>\n",
       "    </tr>\n",
       "    <tr>\n",
       "      <th>Gunung Batu, Bandung</th>\n",
       "      <td>200.0</td>\n",
       "      <td>300.0</td>\n",
       "    </tr>\n",
       "    <tr>\n",
       "      <th>Kota Baru Parahyangan, Bandung Barat</th>\n",
       "      <td>250.0</td>\n",
       "      <td>275.0</td>\n",
       "    </tr>\n",
       "    <tr>\n",
       "      <th>Lembang, Bandung Barat</th>\n",
       "      <td>94.0</td>\n",
       "      <td>118.0</td>\n",
       "    </tr>\n",
       "    <tr>\n",
       "      <th>Ngamprah, Bandung Barat</th>\n",
       "      <td>68.0</td>\n",
       "      <td>90.0</td>\n",
       "    </tr>\n",
       "    <tr>\n",
       "      <th>Padalarang, Bandung Barat</th>\n",
       "      <td>50.5</td>\n",
       "      <td>84.0</td>\n",
       "    </tr>\n",
       "    <tr>\n",
       "      <th>Parongpong, Bandung Barat</th>\n",
       "      <td>55.0</td>\n",
       "      <td>80.0</td>\n",
       "    </tr>\n",
       "    <tr>\n",
       "      <th>Pasteur, Bandung</th>\n",
       "      <td>150.0</td>\n",
       "      <td>120.0</td>\n",
       "    </tr>\n",
       "    <tr>\n",
       "      <th>Sarijadi, Bandung</th>\n",
       "      <td>65.0</td>\n",
       "      <td>75.0</td>\n",
       "    </tr>\n",
       "    <tr>\n",
       "      <th>Sariwangi, Bandung Barat</th>\n",
       "      <td>70.0</td>\n",
       "      <td>88.5</td>\n",
       "    </tr>\n",
       "    <tr>\n",
       "      <th>Setiabudi, Bandung</th>\n",
       "      <td>82.0</td>\n",
       "      <td>73.5</td>\n",
       "    </tr>\n",
       "    <tr>\n",
       "      <th>Setra Duta, Bandung</th>\n",
       "      <td>190.0</td>\n",
       "      <td>105.5</td>\n",
       "    </tr>\n",
       "    <tr>\n",
       "      <th>Sudirman, Bandung</th>\n",
       "      <td>71.0</td>\n",
       "      <td>73.0</td>\n",
       "    </tr>\n",
       "    <tr>\n",
       "      <th>Sukajadi, Bandung</th>\n",
       "      <td>83.0</td>\n",
       "      <td>84.5</td>\n",
       "    </tr>\n",
       "  </tbody>\n",
       "</table>\n",
       "</div>"
      ],
      "text/plain": [
       "                                      building_area  surface_area\n",
       "address                                                          \n",
       "Andir, Bandung                                250.0         655.0\n",
       "Batujajar, Bandung Barat                       67.5          81.0\n",
       "Cibeureum, Bandung                            110.0          81.0\n",
       "Cihanjuang, Bandung Barat                      80.0          81.0\n",
       "Cijerah, Bandung                               70.0         150.0\n",
       "Cimahi Selatan, Cimahi                        114.0         129.0\n",
       "Cimahi Tengah, Cimahi                         143.0         121.5\n",
       "Cimahi Utara, Cimahi                           90.0         120.0\n",
       "Cimindi, Bandung                              190.0         165.5\n",
       "Cisarua, Bandung Barat                         91.0         107.0\n",
       "Gegerkalong, Bandung                          122.0         126.0\n",
       "Gunung Batu, Bandung                          200.0         300.0\n",
       "Kota Baru Parahyangan, Bandung Barat          250.0         275.0\n",
       "Lembang, Bandung Barat                         94.0         118.0\n",
       "Ngamprah, Bandung Barat                        68.0          90.0\n",
       "Padalarang, Bandung Barat                      50.5          84.0\n",
       "Parongpong, Bandung Barat                      55.0          80.0\n",
       "Pasteur, Bandung                              150.0         120.0\n",
       "Sarijadi, Bandung                              65.0          75.0\n",
       "Sariwangi, Bandung Barat                       70.0          88.5\n",
       "Setiabudi, Bandung                             82.0          73.5\n",
       "Setra Duta, Bandung                           190.0         105.5\n",
       "Sudirman, Bandung                              71.0          73.0\n",
       "Sukajadi, Bandung                              83.0          84.5"
      ]
     },
     "execution_count": 30,
     "metadata": {},
     "output_type": "execute_result"
    }
   ],
   "source": [
    "df.groupby('address').median()[['building_area','surface_area']]"
   ]
  },
  {
   "cell_type": "code",
   "execution_count": 31,
   "metadata": {},
   "outputs": [
    {
     "data": {
      "text/plain": [
       "Cimahi Utara, Cimahi                    393\n",
       "Cimahi Tengah, Cimahi                   120\n",
       "Cihanjuang, Bandung Barat                71\n",
       "Cimahi Selatan, Cimahi                   59\n",
       "Ngamprah, Bandung Barat                  44\n",
       "Parongpong, Bandung Barat                42\n",
       "Sariwangi, Bandung Barat                 30\n",
       "Padalarang, Bandung Barat                26\n",
       "Lembang, Bandung Barat                   24\n",
       "Cisarua, Bandung Barat                   23\n",
       "Pasteur, Bandung                         13\n",
       "Gegerkalong, Bandung                      8\n",
       "Gunung Batu, Bandung                      7\n",
       "Setiabudi, Bandung                        6\n",
       "Setra Duta, Bandung                       6\n",
       "Cijerah, Bandung                          5\n",
       "Cibeureum, Bandung                        5\n",
       "Batujajar, Bandung Barat                  4\n",
       "Sukajadi, Bandung                         4\n",
       "Sarijadi, Bandung                         3\n",
       "Kota Baru Parahyangan, Bandung Barat      2\n",
       "Cimindi, Bandung                          2\n",
       "Sudirman, Bandung                         1\n",
       "Andir, Bandung                            1\n",
       "Name: address, dtype: int64"
      ]
     },
     "execution_count": 31,
     "metadata": {},
     "output_type": "execute_result"
    }
   ],
   "source": [
    "df['address'].value_counts()"
   ]
  },
  {
   "cell_type": "markdown",
   "metadata": {},
   "source": [
    "In this dataset, we can be seen that the area which has the largest surface and building area is __Andir__ area, but i after looking at `.value_counts` , it turns out that Andir cannot represent a majority, because we just have only one data. So in this visualization, i will drop region which has a few data because it cannot represent the whole."
   ]
  },
  {
   "cell_type": "code",
   "execution_count": 32,
   "metadata": {},
   "outputs": [],
   "source": [
    "df2 = df.copy()\n",
    "land_feat = ('Sariwangi, Bandung Barat', 'Padalarang, Bandung Barat',\n",
    "       'Lembang, Bandung Barat', 'Cisarua, Bandung Barat', 'Pasteur, Bandung',\n",
    "       'Gegerkalong, Bandung', 'Gunung Batu, Bandung', 'Setra Duta, Bandung',\n",
    "       'Setiabudi, Bandung', 'Cibeureum, Bandung', 'Cijerah, Bandung',\n",
    "       'Batujajar, Bandung Barat', 'Sukajadi, Bandung', 'Sarijadi, Bandung',\n",
    "       'Cimindi, Bandung', 'Kota Baru Parahyangan, Bandung Barat',\n",
    "       'Andir, Bandung', 'Sudirman, Bandung')\n",
    "\n",
    "for item in land_feat:\n",
    "    df2.drop(df2[df2['address'] == item].index, inplace = True)"
   ]
  },
  {
   "cell_type": "code",
   "execution_count": 33,
   "metadata": {},
   "outputs": [
    {
     "data": {
      "image/png": "[encoded data removed]",
      "text/plain": [
       "<Figure size 720x1080 with 2 Axes>"
      ]
     },
     "metadata": {
      "needs_background": "light"
     },
     "output_type": "display_data"
    }
   ],
   "source": [
    "f, axes = plt.subplots(2, 1,figsize=(10,15))\n",
    "\n",
    "params = {'legend.fontsize': 'x-large',\n",
    "         'axes.labelsize': 'x-large',\n",
    "         'axes.titlesize':'x-large'}\n",
    "pylab.rcParams.update(params)\n",
    "\n",
    "sns.boxplot(x='surface_area', y='address', data= df2, showfliers=False, ax=axes[0])\n",
    "sns.boxplot(x='building_area', y='address', data= df2, showfliers=False, ax=axes[1])\n",
    "\n",
    "axes[0].set(title='Surface Area by Areas without Outliers')\n",
    "axes[1].set(title='Building Area by Areas without Outliers')\n",
    "axes[0].yaxis.set_label_position(\"right\")\n",
    "axes[1].yaxis.set_label_position(\"right\")\n",
    "\n",
    "plt.xlabel(\"Building Area\")\n",
    "plt.show()"
   ]
  },
  {
   "cell_type": "markdown",
   "metadata": {},
   "source": [
    "We can see, based on the boxplot above, the area that has houses with the largest surface and building area are generally located in __Cimahi Tengah__, and that area have more data than 'Cimahi Selatan', so it can increase the level of validation. This makes sense because in 'Cimahi Tengah', there are so many big housing estates.\n",
    "<br>\n",
    "\n",
    "Next, i want to know price per meter in every area that has enough data because that  has a fairly strong validation."
   ]
  },
  {
   "cell_type": "code",
   "execution_count": 34,
   "metadata": {},
   "outputs": [
    {
     "data": {
      "text/html": [
       "<div>\n",
       "<style scoped>\n",
       "    .dataframe tbody tr th:only-of-type {\n",
       "        vertical-align: middle;\n",
       "    }\n",
       "\n",
       "    .dataframe tbody tr th {\n",
       "        vertical-align: top;\n",
       "    }\n",
       "\n",
       "    .dataframe thead th {\n",
       "        text-align: right;\n",
       "    }\n",
       "</style>\n",
       "<table border=\"1\" class=\"dataframe\">\n",
       "  <thead>\n",
       "    <tr style=\"text-align: right;\">\n",
       "      <th></th>\n",
       "      <th>price</th>\n",
       "      <th>surface_area</th>\n",
       "      <th>land_per_meters</th>\n",
       "    </tr>\n",
       "    <tr>\n",
       "      <th>address</th>\n",
       "      <th></th>\n",
       "      <th></th>\n",
       "      <th></th>\n",
       "    </tr>\n",
       "  </thead>\n",
       "  <tbody>\n",
       "    <tr>\n",
       "      <th>Cimahi Tengah, Cimahi</th>\n",
       "      <td>1350000000</td>\n",
       "      <td>121</td>\n",
       "      <td>11157024</td>\n",
       "    </tr>\n",
       "    <tr>\n",
       "      <th>Cihanjuang, Bandung Barat</th>\n",
       "      <td>750000000</td>\n",
       "      <td>81</td>\n",
       "      <td>9259259</td>\n",
       "    </tr>\n",
       "    <tr>\n",
       "      <th>Parongpong, Bandung Barat</th>\n",
       "      <td>740500000</td>\n",
       "      <td>80</td>\n",
       "      <td>9256250</td>\n",
       "    </tr>\n",
       "    <tr>\n",
       "      <th>Cimahi Utara, Cimahi</th>\n",
       "      <td>1096000000</td>\n",
       "      <td>120</td>\n",
       "      <td>9133333</td>\n",
       "    </tr>\n",
       "    <tr>\n",
       "      <th>Cimahi Selatan, Cimahi</th>\n",
       "      <td>995000000</td>\n",
       "      <td>129</td>\n",
       "      <td>7713178</td>\n",
       "    </tr>\n",
       "    <tr>\n",
       "      <th>Ngamprah, Bandung Barat</th>\n",
       "      <td>642500000</td>\n",
       "      <td>90</td>\n",
       "      <td>7138888</td>\n",
       "    </tr>\n",
       "  </tbody>\n",
       "</table>\n",
       "</div>"
      ],
      "text/plain": [
       "                                price  surface_area  land_per_meters\n",
       "address                                                             \n",
       "Cimahi Tengah, Cimahi      1350000000           121         11157024\n",
       "Cihanjuang, Bandung Barat   750000000            81          9259259\n",
       "Parongpong, Bandung Barat   740500000            80          9256250\n",
       "Cimahi Utara, Cimahi       1096000000           120          9133333\n",
       "Cimahi Selatan, Cimahi      995000000           129          7713178\n",
       "Ngamprah, Bandung Barat     642500000            90          7138888"
      ]
     },
     "execution_count": 34,
     "metadata": {},
     "output_type": "execute_result"
    }
   ],
   "source": [
    "land_per_meter = df2.groupby('address').median()[['price','surface_area']]\n",
    "land_per_meter['land_per_meters'] = (750000000 / 81, 995000000 / 129, 1350000000 / 121, 1096000000 / 120, 642500000 / 90, 740500000 / 80) \n",
    "land_per_meter = land_per_meter.astype(int)\n",
    "\n",
    "land_per_meter.sort_values(by= 'land_per_meters',ascending= False)"
   ]
  },
  {
   "cell_type": "markdown",
   "metadata": {},
   "source": [
    "As we can see, based on that table, the area that has a high house price value in this dataset is __Cimahi Tengah__, Which has reached 11 million rupiah per meter. I get that number from dividing average house price by total surface area. I think that nominal is large enough for a house measuring 121 square meters. \n",
    "<br>\n",
    "\n",
    "So from the table above, I think that if I buy a house, 'Cimahi Selatan' and 'Cimahi Utara' areas are quite promising areas, remember that they have larger surface area and cheaper price per meter compared to other areas in this dataset."
   ]
  },
  {
   "cell_type": "markdown",
   "metadata": {},
   "source": [
    "## Tenure"
   ]
  },
  {
   "cell_type": "code",
   "execution_count": 35,
   "metadata": {},
   "outputs": [
    {
     "data": {
      "image/png": "[encoded data removed]",
      "text/plain": [
       "<Figure size 720x576 with 1 Axes>"
      ]
     },
     "metadata": {
      "needs_background": "light"
     },
     "output_type": "display_data"
    }
   ],
   "source": [
    "plt.figure(figsize=(10,8))\n",
    "sns.countplot(data = df, x = 'tenure').set_title('Number of Tenure in each Different Houses')\n",
    "plt.show()"
   ]
  },
  {
   "cell_type": "code",
   "execution_count": 36,
   "metadata": {},
   "outputs": [
    {
     "data": {
      "text/plain": [
       "SHM - Sertifikat Hak Milik       827\n",
       "Tidak Ada Penjelasan              44\n",
       "HGB - Hak Guna Bangunan           18\n",
       "Lainnya (PPJB,Girik,Adat,dll)     10\n",
       "Name: tenure, dtype: int64"
      ]
     },
     "execution_count": 36,
     "metadata": {},
     "output_type": "execute_result"
    }
   ],
   "source": [
    "df['tenure'].value_counts()"
   ]
  },
  {
   "cell_type": "markdown",
   "metadata": {},
   "source": [
    "Mostly, the tenure statuses in this dataset is type __SHM - Sertifikat hak milik__, which means that the building and land are belong to house occupants. Different from 'HGB - Hak Guna Bangunan' type, that type are indicates that the building belongs to occupants, while the land belongs to a third party or other party. Generally, the houses with that status are located in a housing complex. 'Lainnya' tenure statuses type are types beyond two types above, it's like 'PPJB','Tanah Adat', etc. And, as previously explained at data cleaning stage, 'Tidak Ada Penjelasan' type is an assumption that are the website users are don't want to tell their tenure statuses, so we identify as 'Tidak Ada Penjelasan'."
   ]
  },
  {
   "cell_type": "markdown",
   "metadata": {},
   "source": [
    "## Feature Target"
   ]
  },
  {
   "cell_type": "code",
   "execution_count": 4,
   "metadata": {},
   "outputs": [
    {
     "data": {
      "text/plain": [
       "price            1.000000\n",
       "surface_area     0.761347\n",
       "building_area    0.710950\n",
       "bedroom          0.475993\n",
       "bathroom         0.471330\n",
       "parking_area     0.337756\n",
       "Name: price, dtype: float64"
      ]
     },
     "execution_count": 4,
     "metadata": {},
     "output_type": "execute_result"
    }
   ],
   "source": [
    "df.corr()['price'].sort_values(ascending= False)"
   ]
  },
  {
   "cell_type": "code",
   "execution_count": 3,
   "metadata": {},
   "outputs": [
    {
     "data": {
      "image/png": "[encoded data removed]",
      "text/plain": [
       "<Figure size 576x360 with 2 Axes>"
      ]
     },
     "metadata": {
      "needs_background": "light"
     },
     "output_type": "display_data"
    }
   ],
   "source": [
    "plt.figure(figsize=(8,5))\n",
    "sns.heatmap(data= df.corr(), annot=True).set_title(\"Correlation Matrix\")\n",
    "plt.show()"
   ]
  },
  {
   "cell_type": "markdown",
   "metadata": {},
   "source": [
    "From the correlation matrix above, we can see that the most affect features for house price is __Surface Area__. So we can assume, the bigger surface area, the higher the land value, and it doesn't matter if that house doesn't have any supporting facilities like a lot of bathroom or bedroom or etc, as long as the land area is promising, then that house has high value.\n",
    "<br>\n",
    "\n",
    "So what about the facilities? do they not have a correlation for house price? does it not matter at all? let's see!"
   ]
  },
  {
   "cell_type": "code",
   "execution_count": null,
   "metadata": {},
   "outputs": [
    {
     "data": {
      "image/png": "[encoded data removed]",
      "text/plain": [
       "<Figure size 1440x432 with 3 Axes>"
      ]
     },
     "metadata": {
      "needs_background": "light"
     },
     "output_type": "display_data"
    }
   ],
   "source": [
    "f, axes = plt.subplots(1, 3,figsize=(20,6))\n",
    "sns.boxplot(x=df['bedroom'],y=df['price'], showfliers=False, ax=axes[0])\n",
    "sns.boxplot(x=df['bathroom'],y=df['price'], showfliers=False, ax=axes[1])\n",
    "sns.boxplot(x=df['parking_area'],y=df['price'], showfliers=False, ax=axes[2])\n",
    "sns.despine(bottom=True, left=True)\n",
    "axes[0].set(xlabel='Bedrooms', ylabel='Price in millions [IDR]', title='Bedrooms vs Price without Ouliers')\n",
    "axes[1].set(xlabel='Bathrooms', ylabel='Price in millions [IDR]', title='Bathrooms vs Price without Ouliers')\n",
    "axes[2].set(xlabel='Parking Area', ylabel='Price in millions [IDR]', title='Parking Area vs Price without Ouliers')\n",
    "plt.show()"
   ]
  },
  {
   "cell_type": "markdown",
   "metadata": {},
   "source": [
    "We can see clearly by making a boxplot without outliers for each facility. So from the boxplot above, that facilities are had affect to house price, like in bedroom boxplot, the more bedroom, the higher house price, although that we look at from correlation matrix above, it's not too significant. \n",
    "<br>\n",
    "\n",
    "So at the end, we can assume that people in Cimahi are prioritizing the surface area as a reference for the amount of house prices, facilities are only a supporting factor."
   ]
  },
  {
   "cell_type": "code",
   "execution_count": 39,
   "metadata": {},
   "outputs": [
    {
     "name": "stderr",
     "output_type": "stream",
     "text": [
      "C:\\Users\\ASUS\\AppData\\Local\\Programs\\Python\\Python39\\lib\\site-packages\\seaborn\\distributions.py:2557: FutureWarning: `distplot` is a deprecated function and will be removed in a future version. Please adapt your code to use either `displot` (a figure-level function with similar flexibility) or `histplot` (an axes-level function for histograms).\n",
      "  warnings.warn(msg, FutureWarning)\n"
     ]
    },
    {
     "data": {
      "image/png": "[encoded data removed]",
      "text/plain": [
       "<Figure size 576x360 with 1 Axes>"
      ]
     },
     "metadata": {
      "needs_background": "light"
     },
     "output_type": "display_data"
    }
   ],
   "source": [
    "plt.figure(figsize=(8,5))\n",
    "sns.distplot(df['price'],fit=stats.norm).set_title('Price Distribution')\n",
    "plt.xlabel('Price in Million (IDR)')\n",
    "plt.show()"
   ]
  },
  {
   "cell_type": "markdown",
   "metadata": {},
   "source": [
    "From above, It's turns out that the feature target distribution is `right-skewed`, so we need to transform it to normal distribution use `log` numpy function, because we need a normal distribution feature target for linear regression model. "
   ]
  },
  {
   "cell_type": "code",
   "execution_count": 40,
   "metadata": {},
   "outputs": [
    {
     "name": "stderr",
     "output_type": "stream",
     "text": [
      "C:\\Users\\ASUS\\AppData\\Local\\Programs\\Python\\Python39\\lib\\site-packages\\seaborn\\distributions.py:2557: FutureWarning: `distplot` is a deprecated function and will be removed in a future version. Please adapt your code to use either `displot` (a figure-level function with similar flexibility) or `histplot` (an axes-level function for histograms).\n",
      "  warnings.warn(msg, FutureWarning)\n"
     ]
    },
    {
     "data": {
      "image/png": "[encoded data removed]",
      "text/plain": [
       "<Figure size 576x360 with 1 Axes>"
      ]
     },
     "metadata": {
      "needs_background": "light"
     },
     "output_type": "display_data"
    }
   ],
   "source": [
    "# Using log function to normalize the distribution \n",
    "df['price'] = np.log1p(df['price'])\n",
    "\n",
    "# Get the fitted parameters used by the function\n",
    "(mu, sigma) = stats.norm.fit(df['price'])\n",
    "\n",
    "# Making plot\n",
    "plt.subplots(figsize=(8,5))\n",
    "sns.distplot(df['price'], fit=stats.norm).set_title('log of price')\n",
    "plt.legend(['Normal dist. ($\\mu=$ {:.2f} and $\\sigma=$ {:.2f} )'.format(mu, sigma)], loc='upper left')\n",
    "plt.ylabel('Frequency')\n",
    "plt.show()"
   ]
  },
  {
   "cell_type": "markdown",
   "metadata": {},
   "source": [
    "## Insight"
   ]
  },
  {
   "cell_type": "markdown",
   "metadata": {},
   "source": [
    "So we can summarize the results of the analysis above into several points as follows :\n",
    "    \n",
    "- Bedrooms and Bathrooms in houses in Cimahi and its surroundings, generally amount to 1 till 3 rooms, this because it's adjusted by land area and house occupant's needs.\n",
    "<br>\n",
    "- Surface and Building area in houses in Cimahi and its surroundings, generally measuring at 120 meter squared, a quite small size for a house. So this is why makes many houses that don't have parking spaces or garages even only just fit for 1 car though.\n",
    "<br> \n",
    "- Surface area and Building area are the most affect features for house price. These are to be the reference factor in determining house prices amount. While facilities such as bedrooms, bathrooms, and parking areas are only supporting factors. The bigger of land size, the higher house value.\n",
    "<br>    \n",
    "- The price per meter in Cimahi and its surroundings is in a range of 7 million till 11 million rupiah per meter squared, and the area that has the most expensive price per meter is 'Cimahi Tengah'. However, the promising areas for home buyers are 'Cimahi Utara' and 'Cimahi Selatan', because the land area is bigger, but the price per meter is lower than other areas.\n",
    "\n",
    "In the next stage, we will use this dataset for model prediction, let's go!"
   ]
  },
  {
   "cell_type": "markdown",
   "metadata": {},
   "source": [
    "## Export Dataset"
   ]
  },
  {
   "cell_type": "code",
   "execution_count": 5,
   "metadata": {},
   "outputs": [],
   "source": [
    "df.to_csv('house_model.csv',index= False)"
   ]
  }
 ],
 "metadata": {
  "interpreter": {
   "hash": "8da01e5a71448ea74f54d88afa8911010d1d12e23bc7e103d40d5def4a09152c"
  },
  "kernelspec": {
   "display_name": "Python 3.9.2 64-bit",
   "language": "python",
   "name": "python3"
  },
  "language_info": {
   "codemirror_mode": {
    "name": "ipython",
    "version": 3
   },
   "file_extension": ".py",
   "mimetype": "text/x-python",
   "name": "python",
   "nbconvert_exporter": "python",
   "pygments_lexer": "ipython3",
   "version": "3.9.2"
  },
  "orig_nbformat": 4
 },
 "nbformat": 4,
 "nbformat_minor": 2
}
