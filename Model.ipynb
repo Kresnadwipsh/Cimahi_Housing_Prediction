{
 "cells": [
  {
   "cell_type": "markdown",
   "metadata": {},
   "source": [
    "# Part 3: Modeling\n",
    "Welcome to the third notebook, which is the final stage in this project. In this stage, we will use the scraped cimahi house dataset which has been cleaned before, for next create and evaluate regression models to predict house price in cimahi and its surrounding. \n",
    "<br>\n",
    "\n",
    "First, we will analyze any features in our dataset for check if the dataset has to be scaled and/or if the data has multicolinearity issues. \n",
    "<br>\n",
    "\n",
    "After that, we will create a baseline model to predict the dataset. Then we'll evaluate our model performance and give some hyperparameter tuning to improve our model performance. In the end, we can see which independent features are the most important in influencing the target variable and we can get some conclusion."
   ]
  },
  {
   "cell_type": "markdown",
   "metadata": {},
   "source": [
    "## Importing Library"
   ]
  },
  {
   "cell_type": "code",
   "execution_count": 1,
   "metadata": {},
   "outputs": [
    {
     "data": {
      "text/html": [
       "<style type='text/css'>\n",
       ".datatable table.frame { margin-bottom: 0; }\n",
       ".datatable table.frame thead { border-bottom: none; }\n",
       ".datatable table.frame tr.coltypes td {  color: #FFFFFF;  line-height: 6px;  padding: 0 0.5em;}\n",
       ".datatable .bool    { background: #DDDD99; }\n",
       ".datatable .object  { background: #565656; }\n",
       ".datatable .int     { background: #5D9E5D; }\n",
       ".datatable .float   { background: #4040CC; }\n",
       ".datatable .str     { background: #CC4040; }\n",
       ".datatable .time    { background: #40CC40; }\n",
       ".datatable .row_index {  background: var(--jp-border-color3);  border-right: 1px solid var(--jp-border-color0);  color: var(--jp-ui-font-color3);  font-size: 9px;}\n",
       ".datatable .frame tbody td { text-align: left; }\n",
       ".datatable .frame tr.coltypes .row_index {  background: var(--jp-border-color0);}\n",
       ".datatable th:nth-child(2) { padding-left: 12px; }\n",
       ".datatable .hellipsis {  color: var(--jp-cell-editor-border-color);}\n",
       ".datatable .vellipsis {  background: var(--jp-layout-color0);  color: var(--jp-cell-editor-border-color);}\n",
       ".datatable .na {  color: var(--jp-cell-editor-border-color);  font-size: 80%;}\n",
       ".datatable .sp {  opacity: 0.25;}\n",
       ".datatable .footer { font-size: 9px; }\n",
       ".datatable .frame_dimensions {  background: var(--jp-border-color3);  border-top: 1px solid var(--jp-border-color0);  color: var(--jp-ui-font-color3);  display: inline-block;  opacity: 0.6;  padding: 1px 10px 1px 5px;}\n",
       ".datatable .frame thead tr.colnames {  background-image: url('data:image/png;base64,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');  background-repeat: repeat-x;  background-size: 14px;  height: 28px;}\n",
       "</style>\n"
      ],
      "text/plain": [
       "<IPython.core.display.HTML object>"
      ]
     },
     "metadata": {},
     "output_type": "display_data"
    }
   ],
   "source": [
    "import pandas as pd\n",
    "import numpy as np\n",
    "\n",
    "from sklearn.model_selection import train_test_split\n",
    "from sklearn.decomposition import PCA\n",
    "from sklearn.preprocessing import RobustScaler,OneHotEncoder\n",
    "import category_encoders as ce\n",
    "from sklearn.compose import ColumnTransformer\n",
    "\n",
    "from sklearn.linear_model import LinearRegression,Ridge, Lasso\n",
    "from sklearn.neighbors import KNeighborsRegressor\n",
    "from sklearn.ensemble import RandomForestRegressor\n",
    "from xgboost.sklearn import XGBRegressor\n",
    "from lightgbm import LGBMRegressor\n",
    "\n",
    "from statsmodels.stats.outliers_influence import variance_inflation_factor\n",
    "from sklearn import metrics\n",
    "from sklearn.model_selection import RandomizedSearchCV\n",
    "\n",
    "\n",
    "import seaborn as sns\n",
    "import matplotlib.pyplot as plt\n",
    "\n",
    "import  warnings"
   ]
  },
  {
   "cell_type": "markdown",
   "metadata": {},
   "source": [
    "## Importing Dataset"
   ]
  },
  {
   "cell_type": "code",
   "execution_count": 2,
   "metadata": {},
   "outputs": [
    {
     "data": {
      "text/html": [
       "<div>\n",
       "<style scoped>\n",
       "    .dataframe tbody tr th:only-of-type {\n",
       "        vertical-align: middle;\n",
       "    }\n",
       "\n",
       "    .dataframe tbody tr th {\n",
       "        vertical-align: top;\n",
       "    }\n",
       "\n",
       "    .dataframe thead th {\n",
       "        text-align: right;\n",
       "    }\n",
       "</style>\n",
       "<table border=\"1\" class=\"dataframe\">\n",
       "  <thead>\n",
       "    <tr style=\"text-align: right;\">\n",
       "      <th></th>\n",
       "      <th>url</th>\n",
       "      <th>address</th>\n",
       "      <th>building_area</th>\n",
       "      <th>surface_area</th>\n",
       "      <th>bedroom</th>\n",
       "      <th>bathroom</th>\n",
       "      <th>parking_area</th>\n",
       "      <th>tenure</th>\n",
       "      <th>price</th>\n",
       "    </tr>\n",
       "  </thead>\n",
       "  <tbody>\n",
       "    <tr>\n",
       "      <th>896</th>\n",
       "      <td>https://www.rumah123.com/properti/cimahi/hos29...</td>\n",
       "      <td>Cimahi Selatan, Cimahi</td>\n",
       "      <td>90.0</td>\n",
       "      <td>104.0</td>\n",
       "      <td>2</td>\n",
       "      <td>2</td>\n",
       "      <td>0</td>\n",
       "      <td>SHM - Sertifikat Hak Milik</td>\n",
       "      <td>1.200000e+09</td>\n",
       "    </tr>\n",
       "    <tr>\n",
       "      <th>897</th>\n",
       "      <td>https://www.rumah123.com/properti/bandung/hos8...</td>\n",
       "      <td>Lembang, Bandung Barat</td>\n",
       "      <td>590.0</td>\n",
       "      <td>756.0</td>\n",
       "      <td>11</td>\n",
       "      <td>6</td>\n",
       "      <td>0</td>\n",
       "      <td>SHM - Sertifikat Hak Milik</td>\n",
       "      <td>5.500000e+09</td>\n",
       "    </tr>\n",
       "    <tr>\n",
       "      <th>898</th>\n",
       "      <td>https://www.rumah123.com/properti/cimahi/hos91...</td>\n",
       "      <td>Cimahi Utara, Cimahi</td>\n",
       "      <td>55.0</td>\n",
       "      <td>80.0</td>\n",
       "      <td>2</td>\n",
       "      <td>2</td>\n",
       "      <td>1</td>\n",
       "      <td>SHM - Sertifikat Hak Milik</td>\n",
       "      <td>7.000000e+08</td>\n",
       "    </tr>\n",
       "    <tr>\n",
       "      <th>899</th>\n",
       "      <td>https://www.rumah123.com/properti/bandung/hos8...</td>\n",
       "      <td>Cihanjuang, Bandung Barat</td>\n",
       "      <td>60.0</td>\n",
       "      <td>90.0</td>\n",
       "      <td>3</td>\n",
       "      <td>1</td>\n",
       "      <td>1</td>\n",
       "      <td>SHM - Sertifikat Hak Milik</td>\n",
       "      <td>7.500000e+08</td>\n",
       "    </tr>\n",
       "    <tr>\n",
       "      <th>900</th>\n",
       "      <td>https://www.rumah123.com/properti/cimahi/hos82...</td>\n",
       "      <td>Cimahi Tengah, Cimahi</td>\n",
       "      <td>100.0</td>\n",
       "      <td>102.0</td>\n",
       "      <td>4</td>\n",
       "      <td>2</td>\n",
       "      <td>0</td>\n",
       "      <td>SHM - Sertifikat Hak Milik</td>\n",
       "      <td>7.600000e+08</td>\n",
       "    </tr>\n",
       "  </tbody>\n",
       "</table>\n",
       "</div>"
      ],
      "text/plain": [
       "                                                   url  \\\n",
       "896  https://www.rumah123.com/properti/cimahi/hos29...   \n",
       "897  https://www.rumah123.com/properti/bandung/hos8...   \n",
       "898  https://www.rumah123.com/properti/cimahi/hos91...   \n",
       "899  https://www.rumah123.com/properti/bandung/hos8...   \n",
       "900  https://www.rumah123.com/properti/cimahi/hos82...   \n",
       "\n",
       "                       address  building_area  surface_area  bedroom  \\\n",
       "896     Cimahi Selatan, Cimahi           90.0         104.0        2   \n",
       "897     Lembang, Bandung Barat          590.0         756.0       11   \n",
       "898       Cimahi Utara, Cimahi           55.0          80.0        2   \n",
       "899  Cihanjuang, Bandung Barat           60.0          90.0        3   \n",
       "900      Cimahi Tengah, Cimahi          100.0         102.0        4   \n",
       "\n",
       "     bathroom  parking_area                      tenure         price  \n",
       "896         2             0  SHM - Sertifikat Hak Milik  1.200000e+09  \n",
       "897         6             0  SHM - Sertifikat Hak Milik  5.500000e+09  \n",
       "898         2             1  SHM - Sertifikat Hak Milik  7.000000e+08  \n",
       "899         1             1  SHM - Sertifikat Hak Milik  7.500000e+08  \n",
       "900         2             0  SHM - Sertifikat Hak Milik  7.600000e+08  "
      ]
     },
     "execution_count": 2,
     "metadata": {},
     "output_type": "execute_result"
    }
   ],
   "source": [
    "df = pd.read_csv('house_model.csv')\n",
    "df.tail()"
   ]
  },
  {
   "cell_type": "markdown",
   "metadata": {},
   "source": [
    "## Data Understanding"
   ]
  },
  {
   "cell_type": "code",
   "execution_count": 3,
   "metadata": {},
   "outputs": [
    {
     "name": "stdout",
     "output_type": "stream",
     "text": [
      "<class 'pandas.core.frame.DataFrame'>\n",
      "RangeIndex: 901 entries, 0 to 900\n",
      "Data columns (total 9 columns):\n",
      " #   Column         Non-Null Count  Dtype  \n",
      "---  ------         --------------  -----  \n",
      " 0   url            901 non-null    object \n",
      " 1   address        901 non-null    object \n",
      " 2   building_area  901 non-null    float64\n",
      " 3   surface_area   901 non-null    float64\n",
      " 4   bedroom        901 non-null    int64  \n",
      " 5   bathroom       901 non-null    int64  \n",
      " 6   parking_area   901 non-null    int64  \n",
      " 7   tenure         901 non-null    object \n",
      " 8   price          901 non-null    float64\n",
      "dtypes: float64(3), int64(3), object(3)\n",
      "memory usage: 63.5+ KB\n"
     ]
    }
   ],
   "source": [
    "df.info()"
   ]
  },
  {
   "cell_type": "code",
   "execution_count": 4,
   "metadata": {},
   "outputs": [
    {
     "data": {
      "text/plain": [
       "url              0\n",
       "address          0\n",
       "building_area    0\n",
       "surface_area     0\n",
       "bedroom          0\n",
       "bathroom         0\n",
       "parking_area     0\n",
       "tenure           0\n",
       "price            0\n",
       "dtype: int64"
      ]
     },
     "execution_count": 4,
     "metadata": {},
     "output_type": "execute_result"
    }
   ],
   "source": [
    "df.isnull().sum()"
   ]
  },
  {
   "cell_type": "code",
   "execution_count": 5,
   "metadata": {},
   "outputs": [
    {
     "data": {
      "text/plain": [
       "(901, 9)"
      ]
     },
     "execution_count": 5,
     "metadata": {},
     "output_type": "execute_result"
    }
   ],
   "source": [
    "df.shape"
   ]
  },
  {
   "cell_type": "code",
   "execution_count": 6,
   "metadata": {},
   "outputs": [
    {
     "data": {
      "text/html": [
       "<div>\n",
       "<style scoped>\n",
       "    .dataframe tbody tr th:only-of-type {\n",
       "        vertical-align: middle;\n",
       "    }\n",
       "\n",
       "    .dataframe tbody tr th {\n",
       "        vertical-align: top;\n",
       "    }\n",
       "\n",
       "    .dataframe thead th {\n",
       "        text-align: right;\n",
       "    }\n",
       "</style>\n",
       "<table border=\"1\" class=\"dataframe\">\n",
       "  <thead>\n",
       "    <tr style=\"text-align: right;\">\n",
       "      <th></th>\n",
       "      <th>building_area</th>\n",
       "      <th>surface_area</th>\n",
       "      <th>bedroom</th>\n",
       "      <th>bathroom</th>\n",
       "      <th>parking_area</th>\n",
       "      <th>price</th>\n",
       "    </tr>\n",
       "  </thead>\n",
       "  <tbody>\n",
       "    <tr>\n",
       "      <th>count</th>\n",
       "      <td>901.000000</td>\n",
       "      <td>901.000000</td>\n",
       "      <td>901.000000</td>\n",
       "      <td>901.000000</td>\n",
       "      <td>901.000000</td>\n",
       "      <td>9.010000e+02</td>\n",
       "    </tr>\n",
       "    <tr>\n",
       "      <th>mean</th>\n",
       "      <td>139.641509</td>\n",
       "      <td>226.735849</td>\n",
       "      <td>3.243063</td>\n",
       "      <td>2.221976</td>\n",
       "      <td>0.803552</td>\n",
       "      <td>1.710226e+09</td>\n",
       "    </tr>\n",
       "    <tr>\n",
       "      <th>std</th>\n",
       "      <td>149.122288</td>\n",
       "      <td>776.352159</td>\n",
       "      <td>2.375750</td>\n",
       "      <td>1.888446</td>\n",
       "      <td>1.742995</td>\n",
       "      <td>2.665649e+09</td>\n",
       "    </tr>\n",
       "    <tr>\n",
       "      <th>min</th>\n",
       "      <td>30.000000</td>\n",
       "      <td>25.000000</td>\n",
       "      <td>0.000000</td>\n",
       "      <td>0.000000</td>\n",
       "      <td>0.000000</td>\n",
       "      <td>6.670000e+06</td>\n",
       "    </tr>\n",
       "    <tr>\n",
       "      <th>25%</th>\n",
       "      <td>55.000000</td>\n",
       "      <td>80.000000</td>\n",
       "      <td>2.000000</td>\n",
       "      <td>1.000000</td>\n",
       "      <td>0.000000</td>\n",
       "      <td>6.500000e+08</td>\n",
       "    </tr>\n",
       "    <tr>\n",
       "      <th>50%</th>\n",
       "      <td>90.000000</td>\n",
       "      <td>114.000000</td>\n",
       "      <td>3.000000</td>\n",
       "      <td>2.000000</td>\n",
       "      <td>1.000000</td>\n",
       "      <td>1.000000e+09</td>\n",
       "    </tr>\n",
       "    <tr>\n",
       "      <th>75%</th>\n",
       "      <td>168.000000</td>\n",
       "      <td>171.000000</td>\n",
       "      <td>4.000000</td>\n",
       "      <td>3.000000</td>\n",
       "      <td>1.000000</td>\n",
       "      <td>1.700000e+09</td>\n",
       "    </tr>\n",
       "    <tr>\n",
       "      <th>max</th>\n",
       "      <td>2000.000000</td>\n",
       "      <td>20000.000000</td>\n",
       "      <td>34.000000</td>\n",
       "      <td>25.000000</td>\n",
       "      <td>25.000000</td>\n",
       "      <td>4.200000e+10</td>\n",
       "    </tr>\n",
       "  </tbody>\n",
       "</table>\n",
       "</div>"
      ],
      "text/plain": [
       "       building_area  surface_area     bedroom    bathroom  parking_area  \\\n",
       "count     901.000000    901.000000  901.000000  901.000000    901.000000   \n",
       "mean      139.641509    226.735849    3.243063    2.221976      0.803552   \n",
       "std       149.122288    776.352159    2.375750    1.888446      1.742995   \n",
       "min        30.000000     25.000000    0.000000    0.000000      0.000000   \n",
       "25%        55.000000     80.000000    2.000000    1.000000      0.000000   \n",
       "50%        90.000000    114.000000    3.000000    2.000000      1.000000   \n",
       "75%       168.000000    171.000000    4.000000    3.000000      1.000000   \n",
       "max      2000.000000  20000.000000   34.000000   25.000000     25.000000   \n",
       "\n",
       "              price  \n",
       "count  9.010000e+02  \n",
       "mean   1.710226e+09  \n",
       "std    2.665649e+09  \n",
       "min    6.670000e+06  \n",
       "25%    6.500000e+08  \n",
       "50%    1.000000e+09  \n",
       "75%    1.700000e+09  \n",
       "max    4.200000e+10  "
      ]
     },
     "execution_count": 6,
     "metadata": {},
     "output_type": "execute_result"
    }
   ],
   "source": [
    "df.describe()"
   ]
  },
  {
   "cell_type": "code",
   "execution_count": 7,
   "metadata": {},
   "outputs": [
    {
     "data": {
      "text/html": [
       "<div>\n",
       "<style scoped>\n",
       "    .dataframe tbody tr th:only-of-type {\n",
       "        vertical-align: middle;\n",
       "    }\n",
       "\n",
       "    .dataframe tbody tr th {\n",
       "        vertical-align: top;\n",
       "    }\n",
       "\n",
       "    .dataframe thead th {\n",
       "        text-align: right;\n",
       "    }\n",
       "</style>\n",
       "<table border=\"1\" class=\"dataframe\">\n",
       "  <thead>\n",
       "    <tr style=\"text-align: right;\">\n",
       "      <th></th>\n",
       "      <th>building_area</th>\n",
       "      <th>surface_area</th>\n",
       "      <th>bedroom</th>\n",
       "      <th>bathroom</th>\n",
       "      <th>parking_area</th>\n",
       "      <th>price</th>\n",
       "    </tr>\n",
       "  </thead>\n",
       "  <tbody>\n",
       "    <tr>\n",
       "      <th>building_area</th>\n",
       "      <td>1.000000</td>\n",
       "      <td>0.765195</td>\n",
       "      <td>0.742449</td>\n",
       "      <td>0.739099</td>\n",
       "      <td>0.143063</td>\n",
       "      <td>0.827780</td>\n",
       "    </tr>\n",
       "    <tr>\n",
       "      <th>surface_area</th>\n",
       "      <td>0.765195</td>\n",
       "      <td>1.000000</td>\n",
       "      <td>0.601469</td>\n",
       "      <td>0.594349</td>\n",
       "      <td>0.119638</td>\n",
       "      <td>0.843035</td>\n",
       "    </tr>\n",
       "    <tr>\n",
       "      <th>bedroom</th>\n",
       "      <td>0.742449</td>\n",
       "      <td>0.601469</td>\n",
       "      <td>1.000000</td>\n",
       "      <td>0.758446</td>\n",
       "      <td>0.194104</td>\n",
       "      <td>0.641812</td>\n",
       "    </tr>\n",
       "    <tr>\n",
       "      <th>bathroom</th>\n",
       "      <td>0.739099</td>\n",
       "      <td>0.594349</td>\n",
       "      <td>0.758446</td>\n",
       "      <td>1.000000</td>\n",
       "      <td>0.185853</td>\n",
       "      <td>0.691118</td>\n",
       "    </tr>\n",
       "    <tr>\n",
       "      <th>parking_area</th>\n",
       "      <td>0.143063</td>\n",
       "      <td>0.119638</td>\n",
       "      <td>0.194104</td>\n",
       "      <td>0.185853</td>\n",
       "      <td>1.000000</td>\n",
       "      <td>0.119187</td>\n",
       "    </tr>\n",
       "    <tr>\n",
       "      <th>price</th>\n",
       "      <td>0.827780</td>\n",
       "      <td>0.843035</td>\n",
       "      <td>0.641812</td>\n",
       "      <td>0.691118</td>\n",
       "      <td>0.119187</td>\n",
       "      <td>1.000000</td>\n",
       "    </tr>\n",
       "  </tbody>\n",
       "</table>\n",
       "</div>"
      ],
      "text/plain": [
       "               building_area  surface_area   bedroom  bathroom  parking_area  \\\n",
       "building_area       1.000000      0.765195  0.742449  0.739099      0.143063   \n",
       "surface_area        0.765195      1.000000  0.601469  0.594349      0.119638   \n",
       "bedroom             0.742449      0.601469  1.000000  0.758446      0.194104   \n",
       "bathroom            0.739099      0.594349  0.758446  1.000000      0.185853   \n",
       "parking_area        0.143063      0.119638  0.194104  0.185853      1.000000   \n",
       "price               0.827780      0.843035  0.641812  0.691118      0.119187   \n",
       "\n",
       "                  price  \n",
       "building_area  0.827780  \n",
       "surface_area   0.843035  \n",
       "bedroom        0.641812  \n",
       "bathroom       0.691118  \n",
       "parking_area   0.119187  \n",
       "price          1.000000  "
      ]
     },
     "execution_count": 7,
     "metadata": {},
     "output_type": "execute_result"
    }
   ],
   "source": [
    "df.corr(method='spearman')"
   ]
  },
  {
   "cell_type": "markdown",
   "metadata": {},
   "source": [
    "As we can see, it turns out that our independent variables have a strong correlation with each other. This shows that in this dataset has a multicollinearity issue, so it can be solved using PCA, because if it is solved by feature selection, it is feared that it will cause underfitting."
   ]
  },
  {
   "cell_type": "markdown",
   "metadata": {},
   "source": [
    "## Data Splitting"
   ]
  },
  {
   "cell_type": "code",
   "execution_count": 8,
   "metadata": {},
   "outputs": [],
   "source": [
    "# Splitting Training and Testing Set\n",
    "\n",
    "x = df.drop(['price','url'], axis= 1)\n",
    "y = df['price']\n",
    "\n",
    "x_train, x_test, y_train, y_test = train_test_split(x ,y ,test_size = 0.2, random_state = 42)"
   ]
  },
  {
   "cell_type": "markdown",
   "metadata": {},
   "source": [
    "## Creating Baseline Model"
   ]
  },
  {
   "cell_type": "markdown",
   "metadata": {},
   "source": [
    "Here, we'll create a baseline model to have a rough model without upgrading anything. First, we'll try using the general model for regression, that linear regression."
   ]
  },
  {
   "cell_type": "code",
   "execution_count": 9,
   "metadata": {},
   "outputs": [
    {
     "name": "stderr",
     "output_type": "stream",
     "text": [
      "C:\\Users\\ASUS\\AppData\\Local\\Programs\\Python\\Python39\\lib\\site-packages\\category_encoders\\utils.py:21: FutureWarning: is_categorical is deprecated and will be removed in a future version.  Use is_categorical_dtype instead\n",
      "  elif pd.api.types.is_categorical(cols):\n"
     ]
    }
   ],
   "source": [
    "# Scaling and Encoding \n",
    "\n",
    "num_cols = ['bedroom','bathroom','building_area','surface_area','building_area']\n",
    "\n",
    "transformer = ColumnTransformer([\n",
    "    ('onehot_encoder', OneHotEncoder(drop='first'), ['tenure']),\n",
    "    ('binary_encoder', ce.BinaryEncoder(), ['address']),\n",
    "    ('Scaler', RobustScaler(), num_cols),\n",
    "    ('PCA', PCA(n_components=3), num_cols)\n",
    "],remainder = 'passthrough')\n",
    "\n",
    "x_train_scaled = transformer.fit_transform(x_train)\n",
    "x_test_scaled = transformer.transform(x_test)"
   ]
  },
  {
   "cell_type": "markdown",
   "metadata": {},
   "source": [
    "Here, I use onehot encoder to encode features that have a few categories, and i use binary encoder for features that has lot categories to avoid overfitting isues. And also, I use robust scaler because they scale the data but can adjust with data which has outliers."
   ]
  },
  {
   "cell_type": "code",
   "execution_count": 10,
   "metadata": {},
   "outputs": [],
   "source": [
    "# Create a function for model evaluation\n",
    "\n",
    "def evaluation(model):\n",
    "    \n",
    "    model.fit(x_train_scaled, y_train)\n",
    "    y_pred_train = model.predict(x_train_scaled)\n",
    "    \n",
    "    print('__Training__')\n",
    "    print('R-squared:',metrics.r2_score(y_train, y_pred_train))\n",
    "    print('MAE:',metrics.mean_absolute_error(y_train, y_pred_train))\n",
    "    print('MSE:',metrics.mean_squared_error(y_train, y_pred_train))\n",
    "    print('RMSE:',np.sqrt(metrics.mean_squared_error(y_train, y_pred_train)))\n",
    "    \n",
    "    y_pred_test = model.predict(x_test_scaled)\n",
    "\n",
    "    print('__Validation__')\n",
    "    print('R-squared:',metrics.r2_score(y_test,  y_pred_test))\n",
    "    print('MAE:',metrics.mean_absolute_error(y_test, y_pred_test))\n",
    "    print('MSE:',metrics.mean_squared_error(y_test, y_pred_test))\n",
    "    print('RMSE:',np.sqrt(metrics.mean_squared_error(y_test, y_pred_test)))\n",
    "\n",
    "    \n",
    "    plt.figure(figsize=(7, 7))\n",
    "    \n",
    "    ax1 = sns.distplot(y_train, hist=False, color=\"r\", label=\"Actual Value\")\n",
    "    sns.distplot(y_pred_test, hist=False, color=\"g\", label=\"Predict Values\" , ax=ax1)\n",
    "\n",
    "    plt.title('Actual vs Predict Values')\n",
    "    plt.xlabel('Price')\n",
    "    plt.ylabel('Proportion of Houses')\n",
    "\n",
    "    plt.legend()\n",
    "    plt.show()"
   ]
  },
  {
   "cell_type": "markdown",
   "metadata": {},
   "source": [
    "### 1. Linear Regression"
   ]
  },
  {
   "cell_type": "code",
   "execution_count": 11,
   "metadata": {},
   "outputs": [
    {
     "data": {
      "text/plain": [
       "LinearRegression()"
      ]
     },
     "execution_count": 11,
     "metadata": {},
     "output_type": "execute_result"
    }
   ],
   "source": [
    "linreg = LinearRegression()\n",
    "linreg.fit(x_train_scaled, y_train)"
   ]
  },
  {
   "cell_type": "code",
   "execution_count": 12,
   "metadata": {},
   "outputs": [
    {
     "name": "stdout",
     "output_type": "stream",
     "text": [
      "__Training__\n",
      "R-squared: 0.8263566563656388\n",
      "MAE: 558346473.2595018\n",
      "MSE: 1.2027506082793795e+18\n",
      "RMSE: 1096699871.5598445\n",
      "__Validation__\n",
      "R-squared: 0.6732913451243294\n",
      "MAE: 630368208.1995871\n",
      "MSE: 2.5380649077865e+18\n",
      "RMSE: 1593130536.9575024\n"
     ]
    },
    {
     "name": "stderr",
     "output_type": "stream",
     "text": [
      "C:\\Users\\ASUS\\AppData\\Local\\Programs\\Python\\Python39\\lib\\site-packages\\seaborn\\distributions.py:2557: FutureWarning: `distplot` is a deprecated function and will be removed in a future version. Please adapt your code to use either `displot` (a figure-level function with similar flexibility) or `kdeplot` (an axes-level function for kernel density plots).\n",
      "  warnings.warn(msg, FutureWarning)\n",
      "C:\\Users\\ASUS\\AppData\\Local\\Programs\\Python\\Python39\\lib\\site-packages\\seaborn\\distributions.py:2557: FutureWarning: `distplot` is a deprecated function and will be removed in a future version. Please adapt your code to use either `displot` (a figure-level function with similar flexibility) or `kdeplot` (an axes-level function for kernel density plots).\n",
      "  warnings.warn(msg, FutureWarning)\n"
     ]
    },
    {
     "data": {
      "image/png": "[encoded data removed]",
      "text/plain": [
       "<Figure size 504x504 with 1 Axes>"
      ]
     },
     "metadata": {
      "needs_background": "light"
     },
     "output_type": "display_data"
    }
   ],
   "source": [
    "evaluation(linreg)"
   ]
  },
  {
   "cell_type": "markdown",
   "metadata": {},
   "source": [
    "Before we checking this regression model performance, I would like to provide a simple explanation of the model's evaluation metrics :\n",
    "- `R-squared` : This metric is measure of the linear relationship between X and Y. This metric interprets how strong the relationship between  independent variables is with target variable, or how well the independent variable can predict the target variable. If R-square value is close to 1, it's mean the stronger the relationship between model feature.\n",
    "\n",
    "- `MAE` : This is the easiest to understand, because this metric measures the average value of absolute error. Generally used on datasets that have many outliers. The lower mae value that indicates a good model performance.\n",
    "\n",
    "- `MSE` : This metric measures the average value of squared error. This metric is more popularly used than mae, because this metric punishes large values ​​or does not tolerate outliers, so as to produce better measurements. The lower mse value that indicates a good model performance.\n",
    "\n",
    "- `RMSE` : This metric measures the standard deviation of the residuals value, this metric interprets how varied the location of the residual value is, the closer to 0 indicates a good model performance.\n",
    "\n",
    "\n",
    "As we see, that there is a bad model performance on test set, and also an increase in any error value metric, so there indicates has an overfitting issue. Next, we try to apply ridge and lasso to improve this linear regression performance, because they  can reduce multicollinearity issues. This method is applied to the linear regression method, so it can also be called `Ridge Regression` and `Lasso Regression`"
   ]
  },
  {
   "cell_type": "markdown",
   "metadata": {},
   "source": [
    "### 2. Ridge Regression"
   ]
  },
  {
   "cell_type": "code",
   "execution_count": 13,
   "metadata": {},
   "outputs": [
    {
     "data": {
      "text/plain": [
       "Ridge(alpha=100000)"
      ]
     },
     "execution_count": 13,
     "metadata": {},
     "output_type": "execute_result"
    }
   ],
   "source": [
    "ridge = Ridge(alpha = 100000)\n",
    "ridge.fit(x_train_scaled,y_train)"
   ]
  },
  {
   "cell_type": "code",
   "execution_count": 14,
   "metadata": {},
   "outputs": [
    {
     "name": "stdout",
     "output_type": "stream",
     "text": [
      "__Training__\n",
      "R-squared: 0.816788170323038\n",
      "MAE: 535971207.28942853\n",
      "MSE: 1.2690272772675333e+18\n",
      "RMSE: 1126511108.36402\n",
      "__Validation__\n",
      "R-squared: 0.714063950196598\n",
      "MAE: 574891837.7838053\n",
      "MSE: 2.2213193407847823e+18\n",
      "RMSE: 1490409118.5928721\n"
     ]
    },
    {
     "name": "stderr",
     "output_type": "stream",
     "text": [
      "C:\\Users\\ASUS\\AppData\\Local\\Programs\\Python\\Python39\\lib\\site-packages\\seaborn\\distributions.py:2557: FutureWarning: `distplot` is a deprecated function and will be removed in a future version. Please adapt your code to use either `displot` (a figure-level function with similar flexibility) or `kdeplot` (an axes-level function for kernel density plots).\n",
      "  warnings.warn(msg, FutureWarning)\n",
      "C:\\Users\\ASUS\\AppData\\Local\\Programs\\Python\\Python39\\lib\\site-packages\\seaborn\\distributions.py:2557: FutureWarning: `distplot` is a deprecated function and will be removed in a future version. Please adapt your code to use either `displot` (a figure-level function with similar flexibility) or `kdeplot` (an axes-level function for kernel density plots).\n",
      "  warnings.warn(msg, FutureWarning)\n"
     ]
    },
    {
     "data": {
      "image/png": "[encoded data removed]",
      "text/plain": [
       "<Figure size 504x504 with 1 Axes>"
      ]
     },
     "metadata": {
      "needs_background": "light"
     },
     "output_type": "display_data"
    }
   ],
   "source": [
    "evaluation(ridge)"
   ]
  },
  {
   "cell_type": "markdown",
   "metadata": {},
   "source": [
    "In this method, the R-squared performance  shows more stable results than linear regression and doesn't indicate multicollinearity issues. Although there is an increase in the error value."
   ]
  },
  {
   "cell_type": "markdown",
   "metadata": {},
   "source": [
    "### 3. Lasso Regression"
   ]
  },
  {
   "cell_type": "code",
   "execution_count": 15,
   "metadata": {},
   "outputs": [
    {
     "data": {
      "text/plain": [
       "Lasso(alpha=0.1)"
      ]
     },
     "execution_count": 15,
     "metadata": {},
     "output_type": "execute_result"
    }
   ],
   "source": [
    "lasso = Lasso(alpha = 0.1)\n",
    "lasso.fit(x_train_scaled, y_train)"
   ]
  },
  {
   "cell_type": "code",
   "execution_count": 16,
   "metadata": {},
   "outputs": [
    {
     "name": "stdout",
     "output_type": "stream",
     "text": [
      "__Training__\n",
      "R-squared: 0.8263566563656388\n",
      "MAE: 558346473.0922744\n",
      "MSE: 1.2027506082793792e+18\n",
      "RMSE: 1096699871.5598445\n",
      "__Validation__\n",
      "R-squared: 0.6732913452174202\n",
      "MAE: 630368208.0369736\n",
      "MSE: 2.5380649070633165e+18\n",
      "RMSE: 1593130536.7305331\n"
     ]
    },
    {
     "name": "stderr",
     "output_type": "stream",
     "text": [
      "C:\\Users\\ASUS\\AppData\\Local\\Programs\\Python\\Python39\\lib\\site-packages\\seaborn\\distributions.py:2557: FutureWarning: `distplot` is a deprecated function and will be removed in a future version. Please adapt your code to use either `displot` (a figure-level function with similar flexibility) or `kdeplot` (an axes-level function for kernel density plots).\n",
      "  warnings.warn(msg, FutureWarning)\n",
      "C:\\Users\\ASUS\\AppData\\Local\\Programs\\Python\\Python39\\lib\\site-packages\\seaborn\\distributions.py:2557: FutureWarning: `distplot` is a deprecated function and will be removed in a future version. Please adapt your code to use either `displot` (a figure-level function with similar flexibility) or `kdeplot` (an axes-level function for kernel density plots).\n",
      "  warnings.warn(msg, FutureWarning)\n"
     ]
    },
    {
     "data": {
      "image/png": "[encoded data removed]",
      "text/plain": [
       "<Figure size 504x504 with 1 Axes>"
      ]
     },
     "metadata": {
      "needs_background": "light"
     },
     "output_type": "display_data"
    }
   ],
   "source": [
    "evaluation(lasso)"
   ]
  },
  {
   "cell_type": "markdown",
   "metadata": {},
   "source": [
    "It turns out that the results still show a performance similar to linear regression. Then next we can try another basic method, `KNN`."
   ]
  },
  {
   "cell_type": "markdown",
   "metadata": {},
   "source": [
    "### 4. KNN"
   ]
  },
  {
   "cell_type": "code",
   "execution_count": 17,
   "metadata": {},
   "outputs": [
    {
     "data": {
      "text/plain": [
       "KNeighborsRegressor()"
      ]
     },
     "execution_count": 17,
     "metadata": {},
     "output_type": "execute_result"
    }
   ],
   "source": [
    "knn = KNeighborsRegressor()\n",
    "knn.fit(x_train_scaled, y_train)"
   ]
  },
  {
   "cell_type": "code",
   "execution_count": 18,
   "metadata": {},
   "outputs": [
    {
     "name": "stdout",
     "output_type": "stream",
     "text": [
      "__Training__\n",
      "R-squared: 0.7624891609901118\n",
      "MAE: 412099694.4444444\n",
      "MSE: 1.6451324888883336e+18\n",
      "RMSE: 1282627182.3442435\n",
      "__Validation__\n",
      "R-squared: 0.7229605329061792\n",
      "MAE: 524052872.9281768\n",
      "MSE: 2.1522054558679557e+18\n",
      "RMSE: 1467039691.3062563\n"
     ]
    },
    {
     "name": "stderr",
     "output_type": "stream",
     "text": [
      "C:\\Users\\ASUS\\AppData\\Local\\Programs\\Python\\Python39\\lib\\site-packages\\seaborn\\distributions.py:2557: FutureWarning: `distplot` is a deprecated function and will be removed in a future version. Please adapt your code to use either `displot` (a figure-level function with similar flexibility) or `kdeplot` (an axes-level function for kernel density plots).\n",
      "  warnings.warn(msg, FutureWarning)\n",
      "C:\\Users\\ASUS\\AppData\\Local\\Programs\\Python\\Python39\\lib\\site-packages\\seaborn\\distributions.py:2557: FutureWarning: `distplot` is a deprecated function and will be removed in a future version. Please adapt your code to use either `displot` (a figure-level function with similar flexibility) or `kdeplot` (an axes-level function for kernel density plots).\n",
      "  warnings.warn(msg, FutureWarning)\n"
     ]
    },
    {
     "data": {
      "image/png": "[encoded data removed]",
      "text/plain": [
       "<Figure size 504x504 with 1 Axes>"
      ]
     },
     "metadata": {
      "needs_background": "light"
     },
     "output_type": "display_data"
    }
   ],
   "source": [
    "evaluation(knn)"
   ]
  },
  {
   "cell_type": "markdown",
   "metadata": {},
   "source": [
    "Up to this stage, this method is the most stable method from other methods. In this dataset, we will not use `Decision tree` model because it usually tends to be overfitting, and is devoted for classification problems. So we will try with `Random Forest` because that method will try several tree models, so that will reduce multicollinearity issues and bring up the best performing model."
   ]
  },
  {
   "cell_type": "markdown",
   "metadata": {},
   "source": [
    "### 5. Random Forest"
   ]
  },
  {
   "cell_type": "code",
   "execution_count": 19,
   "metadata": {},
   "outputs": [
    {
     "data": {
      "text/plain": [
       "RandomForestRegressor()"
      ]
     },
     "execution_count": 19,
     "metadata": {},
     "output_type": "execute_result"
    }
   ],
   "source": [
    "rf = RandomForestRegressor()\n",
    "rf.fit(x_train_scaled, y_train)"
   ]
  },
  {
   "cell_type": "code",
   "execution_count": 20,
   "metadata": {},
   "outputs": [
    {
     "name": "stdout",
     "output_type": "stream",
     "text": [
      "__Training__\n",
      "R-squared: 0.944115189564562\n",
      "MAE: 175261384.70601928\n",
      "MSE: 3.87089354178389e+17\n",
      "RMSE: 622165053.8067764\n",
      "__Validation__\n",
      "R-squared: 0.8048223151811419\n",
      "MAE: 482823787.0539529\n",
      "MSE: 1.5162550034380716e+18\n",
      "RMSE: 1231363067.2706046\n"
     ]
    },
    {
     "name": "stderr",
     "output_type": "stream",
     "text": [
      "C:\\Users\\ASUS\\AppData\\Local\\Programs\\Python\\Python39\\lib\\site-packages\\seaborn\\distributions.py:2557: FutureWarning: `distplot` is a deprecated function and will be removed in a future version. Please adapt your code to use either `displot` (a figure-level function with similar flexibility) or `kdeplot` (an axes-level function for kernel density plots).\n",
      "  warnings.warn(msg, FutureWarning)\n",
      "C:\\Users\\ASUS\\AppData\\Local\\Programs\\Python\\Python39\\lib\\site-packages\\seaborn\\distributions.py:2557: FutureWarning: `distplot` is a deprecated function and will be removed in a future version. Please adapt your code to use either `displot` (a figure-level function with similar flexibility) or `kdeplot` (an axes-level function for kernel density plots).\n",
      "  warnings.warn(msg, FutureWarning)\n"
     ]
    },
    {
     "data": {
      "image/png": "[encoded data removed]",
      "text/plain": [
       "<Figure size 504x504 with 1 Axes>"
      ]
     },
     "metadata": {
      "needs_background": "light"
     },
     "output_type": "display_data"
    }
   ],
   "source": [
    "evaluation(rf)"
   ]
  },
  {
   "cell_type": "markdown",
   "metadata": {},
   "source": [
    "It turns out that the performance is quite large but less stable, and there is still having a multicollinearity issues. Because the model performance is still far from our expected, so we will try a method that is popular for its good performance which is also based on the `Decision Tree` method, that `XGBoost`."
   ]
  },
  {
   "cell_type": "markdown",
   "metadata": {},
   "source": [
    "### 6. XGBoost"
   ]
  },
  {
   "cell_type": "code",
   "execution_count": 21,
   "metadata": {},
   "outputs": [
    {
     "data": {
      "text/plain": [
       "XGBRegressor(base_score=0.5, booster='gbtree', colsample_bylevel=1,\n",
       "             colsample_bynode=1, colsample_bytree=1, gamma=0, gpu_id=-1,\n",
       "             importance_type='gain', interaction_constraints='',\n",
       "             learning_rate=0.300000012, max_delta_step=0, max_depth=6,\n",
       "             min_child_weight=1, missing=nan, monotone_constraints='()',\n",
       "             n_estimators=100, n_jobs=12, num_parallel_tree=1, random_state=0,\n",
       "             reg_alpha=0, reg_lambda=1, scale_pos_weight=1, subsample=1,\n",
       "             tree_method='exact', validate_parameters=1, verbosity=None)"
      ]
     },
     "execution_count": 21,
     "metadata": {},
     "output_type": "execute_result"
    }
   ],
   "source": [
    "xgb = XGBRegressor()\n",
    "xgb.fit(x_train_scaled, y_train)"
   ]
  },
  {
   "cell_type": "code",
   "execution_count": 22,
   "metadata": {},
   "outputs": [
    {
     "name": "stdout",
     "output_type": "stream",
     "text": [
      "__Training__\n",
      "R-squared: 0.9996641520321408\n",
      "MAE: 25836170.555555556\n",
      "MSE: 2326270268572041.0\n",
      "RMSE: 48231424.07779436\n",
      "__Validation__\n",
      "R-squared: 0.5980840753079848\n",
      "MAE: 572193614.1436464\n",
      "MSE: 3.1223191951543547e+18\n",
      "RMSE: 1767008544.1656344\n"
     ]
    },
    {
     "name": "stderr",
     "output_type": "stream",
     "text": [
      "C:\\Users\\ASUS\\AppData\\Local\\Programs\\Python\\Python39\\lib\\site-packages\\seaborn\\distributions.py:2557: FutureWarning: `distplot` is a deprecated function and will be removed in a future version. Please adapt your code to use either `displot` (a figure-level function with similar flexibility) or `kdeplot` (an axes-level function for kernel density plots).\n",
      "  warnings.warn(msg, FutureWarning)\n",
      "C:\\Users\\ASUS\\AppData\\Local\\Programs\\Python\\Python39\\lib\\site-packages\\seaborn\\distributions.py:2557: FutureWarning: `distplot` is a deprecated function and will be removed in a future version. Please adapt your code to use either `displot` (a figure-level function with similar flexibility) or `kdeplot` (an axes-level function for kernel density plots).\n",
      "  warnings.warn(msg, FutureWarning)\n"
     ]
    },
    {
     "data": {
      "image/png": "[encoded data removed]",
      "text/plain": [
       "<Figure size 504x504 with 1 Axes>"
      ]
     },
     "metadata": {
      "needs_background": "light"
     },
     "output_type": "display_data"
    }
   ],
   "source": [
    "evaluation(xgb)"
   ]
  },
  {
   "cell_type": "markdown",
   "metadata": {},
   "source": [
    "it's turned out that show large performance but still unstable, and still show multicollinearity issues. We can keep trying to improve performance on a method that is still basic from tree model but is more advanced than `XGBoost`, namely `LightGBM`. "
   ]
  },
  {
   "cell_type": "markdown",
   "metadata": {},
   "source": [
    "### 7. LightGBM"
   ]
  },
  {
   "cell_type": "code",
   "execution_count": 23,
   "metadata": {},
   "outputs": [
    {
     "data": {
      "text/plain": [
       "LGBMRegressor()"
      ]
     },
     "execution_count": 23,
     "metadata": {},
     "output_type": "execute_result"
    }
   ],
   "source": [
    "lgb = LGBMRegressor()\n",
    "lgb.fit(x_train_scaled, y_train)"
   ]
  },
  {
   "cell_type": "code",
   "execution_count": 24,
   "metadata": {},
   "outputs": [
    {
     "name": "stdout",
     "output_type": "stream",
     "text": [
      "__Training__\n",
      "R-squared: 0.806571922715061\n",
      "MAE: 335426650.4281205\n",
      "MSE: 1.339790703999865e+18\n",
      "RMSE: 1157493284.6456885\n",
      "__Validation__\n",
      "R-squared: 0.7010167829558633\n",
      "MAE: 557462317.2601297\n",
      "MSE: 2.3226774065278894e+18\n",
      "RMSE: 1524033269.4950886\n"
     ]
    },
    {
     "name": "stderr",
     "output_type": "stream",
     "text": [
      "C:\\Users\\ASUS\\AppData\\Local\\Programs\\Python\\Python39\\lib\\site-packages\\seaborn\\distributions.py:2557: FutureWarning: `distplot` is a deprecated function and will be removed in a future version. Please adapt your code to use either `displot` (a figure-level function with similar flexibility) or `kdeplot` (an axes-level function for kernel density plots).\n",
      "  warnings.warn(msg, FutureWarning)\n",
      "C:\\Users\\ASUS\\AppData\\Local\\Programs\\Python\\Python39\\lib\\site-packages\\seaborn\\distributions.py:2557: FutureWarning: `distplot` is a deprecated function and will be removed in a future version. Please adapt your code to use either `displot` (a figure-level function with similar flexibility) or `kdeplot` (an axes-level function for kernel density plots).\n",
      "  warnings.warn(msg, FutureWarning)\n"
     ]
    },
    {
     "data": {
      "image/png": "[encoded data removed]",
      "text/plain": [
       "<Figure size 504x504 with 1 Axes>"
      ]
     },
     "metadata": {
      "needs_background": "light"
     },
     "output_type": "display_data"
    }
   ],
   "source": [
    "evaluation(lgb)"
   ]
  },
  {
   "cell_type": "markdown",
   "metadata": {},
   "source": [
    "This model turns out that quite capable to produce a fairly good model performance. "
   ]
  },
  {
   "cell_type": "markdown",
   "metadata": {},
   "source": [
    "## Model Comparison"
   ]
  },
  {
   "cell_type": "code",
   "execution_count": 25,
   "metadata": {},
   "outputs": [],
   "source": [
    "result = pd.DataFrame({\n",
    "    'Model' : ['Linear Regression','Ridge Regression','Lasso Regression','KNN','Random Forest', 'XGBoost', 'LightGBM'],\n",
    "    'R-squared' :[0.6732913451243276*100, 0.714063950196598*100, 0.6732913452174213*100, 0.7229611701231738*100, 0.7921627614443715*100, 0.5980840753079848*100, 0.7036921466659144*100],\n",
    "})"
   ]
  },
  {
   "cell_type": "code",
   "execution_count": 26,
   "metadata": {},
   "outputs": [
    {
     "data": {
      "text/html": [
       "<div>\n",
       "<style scoped>\n",
       "    .dataframe tbody tr th:only-of-type {\n",
       "        vertical-align: middle;\n",
       "    }\n",
       "\n",
       "    .dataframe tbody tr th {\n",
       "        vertical-align: top;\n",
       "    }\n",
       "\n",
       "    .dataframe thead th {\n",
       "        text-align: right;\n",
       "    }\n",
       "</style>\n",
       "<table border=\"1\" class=\"dataframe\">\n",
       "  <thead>\n",
       "    <tr style=\"text-align: right;\">\n",
       "      <th></th>\n",
       "      <th>Model</th>\n",
       "      <th>R-squared</th>\n",
       "    </tr>\n",
       "  </thead>\n",
       "  <tbody>\n",
       "    <tr>\n",
       "      <th>0</th>\n",
       "      <td>Random Forest</td>\n",
       "      <td>79.216276</td>\n",
       "    </tr>\n",
       "    <tr>\n",
       "      <th>1</th>\n",
       "      <td>KNN</td>\n",
       "      <td>72.296117</td>\n",
       "    </tr>\n",
       "    <tr>\n",
       "      <th>2</th>\n",
       "      <td>Ridge Regression</td>\n",
       "      <td>71.406395</td>\n",
       "    </tr>\n",
       "    <tr>\n",
       "      <th>3</th>\n",
       "      <td>LightGBM</td>\n",
       "      <td>70.369215</td>\n",
       "    </tr>\n",
       "    <tr>\n",
       "      <th>4</th>\n",
       "      <td>Lasso Regression</td>\n",
       "      <td>67.329135</td>\n",
       "    </tr>\n",
       "    <tr>\n",
       "      <th>5</th>\n",
       "      <td>Linear Regression</td>\n",
       "      <td>67.329135</td>\n",
       "    </tr>\n",
       "    <tr>\n",
       "      <th>6</th>\n",
       "      <td>XGBoost</td>\n",
       "      <td>59.808408</td>\n",
       "    </tr>\n",
       "  </tbody>\n",
       "</table>\n",
       "</div>"
      ],
      "text/plain": [
       "               Model  R-squared\n",
       "0      Random Forest  79.216276\n",
       "1                KNN  72.296117\n",
       "2   Ridge Regression  71.406395\n",
       "3           LightGBM  70.369215\n",
       "4   Lasso Regression  67.329135\n",
       "5  Linear Regression  67.329135\n",
       "6            XGBoost  59.808408"
      ]
     },
     "execution_count": 26,
     "metadata": {},
     "output_type": "execute_result"
    }
   ],
   "source": [
    "result.sort_values(by='R-squared',ascending= False).reset_index(drop= True)"
   ]
  },
  {
   "cell_type": "markdown",
   "metadata": {},
   "source": [
    "After we have tried several methods, then we will compare based on the performance of the test set. The poor performance of the `XGBoost` model may be because the data we have is still small and has many outliers. So next, we will choose the 3 best methods by the best performance because we priotizing the final result. For more explain, Let's make an analogy that is students in class.\n",
    "<br>\n",
    "\n",
    "In a class, there are students who are able to learn 10 pictures in a fast time, but there are also students who are able to learn 10 pictures but at a slow time. Here I want to prioritize the final result, no matter how long it takes. So we will choose `Random Forest`, `KNN`, and `Ridge Regression` because it has better performance, although it has some take longer for hyperparameter tuning, with the hope that it will be improve the  model performance."
   ]
  },
  {
   "cell_type": "markdown",
   "metadata": {},
   "source": [
    "## Hyperparameter Tuning "
   ]
  },
  {
   "cell_type": "markdown",
   "metadata": {},
   "source": [
    "### 1. Random Forest"
   ]
  },
  {
   "cell_type": "code",
   "execution_count": 27,
   "metadata": {},
   "outputs": [
    {
     "data": {
      "text/plain": [
       "{'bootstrap': True,\n",
       " 'ccp_alpha': 0.0,\n",
       " 'criterion': 'mse',\n",
       " 'max_depth': None,\n",
       " 'max_features': 'auto',\n",
       " 'max_leaf_nodes': None,\n",
       " 'max_samples': None,\n",
       " 'min_impurity_decrease': 0.0,\n",
       " 'min_impurity_split': None,\n",
       " 'min_samples_leaf': 1,\n",
       " 'min_samples_split': 2,\n",
       " 'min_weight_fraction_leaf': 0.0,\n",
       " 'n_estimators': 100,\n",
       " 'n_jobs': None,\n",
       " 'oob_score': False,\n",
       " 'random_state': None,\n",
       " 'verbose': 0,\n",
       " 'warm_start': False}"
      ]
     },
     "execution_count": 27,
     "metadata": {},
     "output_type": "execute_result"
    }
   ],
   "source": [
    "# Getting the parameters\n",
    "rf.get_params()"
   ]
  },
  {
   "cell_type": "markdown",
   "metadata": {},
   "source": [
    "To find out the best parameters we need to be used, we should check our model documentation. If we read the documentation, we can imagine what parameters are suitable for our model. In our case, we want to reduce overfitting issues, although we have to know that the side effect is it will change the overall model accuracy. But we can at least find a balance, where our model is stable and doesn't overfit too much. \n",
    "<br>\n",
    "\n",
    "The parameters that we're going to tune :\n",
    "\n",
    "- `n_estimator`, A parameter that determines the number of trees in the forest. More trees are means more models to try, so that's possible to find the best performing model\n",
    "- `max_depth`, the number of maximum depth of the tree. we can limit up the tress to grow, because as it grows, usually the model performance will continue increasing.\n",
    "- `max_features`, The number of features to consider when looking for the best split. There are 2 methods to be used, first is `Auto/None`. This will simply take all the features which make sense in every tree. Here we simply do not put any restrictions on the individual tree. And second is `sqrt`, This option will take square root of the total number of features in individual run, so it's only takes some features.\n",
    "- `bootstrap`, Indicates whether bootstrap samples are used when building trees. If False, the whole dataset is used to build each tree.\n",
    "- `min_samples_leaf`, The minimum number of samples required to be at a leaf node. This may have the effect of smoothing the model, especially in regression.\n",
    "- `min_samples_split`, A parameter that tells the decision tree in a random forest the minimum required number of observations in any given node in order to split it. The default value of the minimum_sample_split is 2. Having a default value is 2 poses the issue that a tree often keeps on splitting until the nodes are completely pure. As a result, the tree grows in size and therefore overfits the data.\n",
    "<br>\n",
    "\n",
    "For more documentation is here\n",
    "https://scikit-learn.org/stable/modules/generated/sklearn.ensemble.RandomForestRegressor.html\n",
    "\n"
   ]
  },
  {
   "cell_type": "code",
   "execution_count": 28,
   "metadata": {},
   "outputs": [
    {
     "name": "stdout",
     "output_type": "stream",
     "text": [
      "Fitting 5 folds for each of 500 candidates, totalling 2500 fits\n"
     ]
    },
    {
     "data": {
      "text/plain": [
       "RandomizedSearchCV(cv=5, estimator=RandomForestRegressor(), n_iter=500,\n",
       "                   n_jobs=-1,\n",
       "                   param_distributions={'bootstrap': [True, False],\n",
       "                                        'max_depth': [10, 20, 30, 40, 50, 60,\n",
       "                                                      70, 80, 90, 100],\n",
       "                                        'max_features': ['auto', 'sqrt'],\n",
       "                                        'min_samples_leaf': [5, 9, 10, 15, 20,\n",
       "                                                             25],\n",
       "                                        'min_samples_split': [2, 5, 10, 15, 20],\n",
       "                                        'n_estimators': [10, 20, 40, 60, 80,\n",
       "                                                         100, 120, 150, 180,\n",
       "                                                         200, 300, 350]},\n",
       "                   random_state=42, verbose=1)"
      ]
     },
     "execution_count": 28,
     "metadata": {},
     "output_type": "execute_result"
    }
   ],
   "source": [
    "# Setting the parameters\n",
    "rf_grid = {'n_estimators': [10, 20, 40, 60, 80, 100, 120, 150, 180, 200, 300, 350],\n",
    "               'max_depth': [10, 20, 30, 40, 50, 60, 70, 80, 90, 100],\n",
    "               'max_features': ['auto', 'sqrt'],\n",
    "               'bootstrap': [True, False],\n",
    "               'min_samples_split': [2, 5, 10, 15, 20],\n",
    "               'min_samples_leaf': [5, 9, 10, 15, 20, 25]\n",
    "}\n",
    "\n",
    "rf_rcv = RandomizedSearchCV(rf, rf_grid, n_iter = 500, cv = 5, verbose=1, random_state=42, n_jobs = -1)\n",
    "rf_rcv.fit(x_train_scaled, y_train)"
   ]
  },
  {
   "cell_type": "code",
   "execution_count": 29,
   "metadata": {},
   "outputs": [
    {
     "data": {
      "text/plain": [
       "{'n_estimators': 20,\n",
       " 'min_samples_split': 5,\n",
       " 'min_samples_leaf': 5,\n",
       " 'max_features': 'sqrt',\n",
       " 'max_depth': 10,\n",
       " 'bootstrap': True}"
      ]
     },
     "execution_count": 29,
     "metadata": {},
     "output_type": "execute_result"
    }
   ],
   "source": [
    "# Showing the best parameters\n",
    "rf_rcv.best_params_"
   ]
  },
  {
   "cell_type": "code",
   "execution_count": 30,
   "metadata": {},
   "outputs": [
    {
     "data": {
      "text/plain": [
       "RandomForestRegressor(max_depth=60, max_features='sqrt', min_samples_leaf=5,\n",
       "                      min_samples_split=10, n_estimators=10)"
      ]
     },
     "execution_count": 30,
     "metadata": {},
     "output_type": "execute_result"
    }
   ],
   "source": [
    "# Best paremeters deployment\n",
    "rf_tuned = RandomForestRegressor(n_estimators =  10, min_samples_split =  10, min_samples_leaf =  5, max_features = 'sqrt', max_depth = 60, bootstrap = True)\n",
    "rf_tuned.fit(x_train_scaled, y_train)"
   ]
  },
  {
   "cell_type": "code",
   "execution_count": 31,
   "metadata": {},
   "outputs": [
    {
     "name": "stdout",
     "output_type": "stream",
     "text": [
      "__Training__\n",
      "R-squared: 0.7544268899254419\n",
      "MAE: 401362389.68669856\n",
      "MSE: 1.700976273188891e+18\n",
      "RMSE: 1304214810.983563\n",
      "__Validation__\n",
      "R-squared: 0.7867149416190446\n",
      "MAE: 501518143.0175274\n",
      "MSE: 1.6569237268535235e+18\n",
      "RMSE: 1287215493.5571291\n"
     ]
    },
    {
     "name": "stderr",
     "output_type": "stream",
     "text": [
      "C:\\Users\\ASUS\\AppData\\Local\\Programs\\Python\\Python39\\lib\\site-packages\\seaborn\\distributions.py:2557: FutureWarning: `distplot` is a deprecated function and will be removed in a future version. Please adapt your code to use either `displot` (a figure-level function with similar flexibility) or `kdeplot` (an axes-level function for kernel density plots).\n",
      "  warnings.warn(msg, FutureWarning)\n",
      "C:\\Users\\ASUS\\AppData\\Local\\Programs\\Python\\Python39\\lib\\site-packages\\seaborn\\distributions.py:2557: FutureWarning: `distplot` is a deprecated function and will be removed in a future version. Please adapt your code to use either `displot` (a figure-level function with similar flexibility) or `kdeplot` (an axes-level function for kernel density plots).\n",
      "  warnings.warn(msg, FutureWarning)\n"
     ]
    },
    {
     "data": {
      "image/png": "[encoded data removed]",
      "text/plain": [
       "<Figure size 504x504 with 1 Axes>"
      ]
     },
     "metadata": {
      "needs_background": "light"
     },
     "output_type": "display_data"
    }
   ],
   "source": [
    "evaluation(rf_tuned)"
   ]
  },
  {
   "cell_type": "markdown",
   "metadata": {},
   "source": [
    "### 2. KNN"
   ]
  },
  {
   "cell_type": "code",
   "execution_count": 32,
   "metadata": {},
   "outputs": [
    {
     "data": {
      "text/plain": [
       "{'algorithm': 'auto',\n",
       " 'leaf_size': 30,\n",
       " 'metric': 'minkowski',\n",
       " 'metric_params': None,\n",
       " 'n_jobs': None,\n",
       " 'n_neighbors': 5,\n",
       " 'p': 2,\n",
       " 'weights': 'uniform'}"
      ]
     },
     "execution_count": 32,
     "metadata": {},
     "output_type": "execute_result"
    }
   ],
   "source": [
    "# Getting the parameters\n",
    "knn.get_params()"
   ]
  },
  {
   "cell_type": "markdown",
   "metadata": {},
   "source": [
    "The parameters that we need are including :\n",
    "- `n_neighbors`, Indicate the number of neighbors to use by default for kneighbors queries.\n",
    "- `leaf_size`, Leaf size passed to BallTree or KDTree. This can affect the speed of the construction and query, as well as the memory required to store the tree.\n",
    "- `weights`, Indicate Weight function used in prediction. There are 2 method to be used, first `uniform`, make all points in each neighborhood are weighted equally. And Second is `distance`, weight points by the inverse of their distance. in this case, closer neighbors of a query point will have a greater influence than neighbors which are further away.\n",
    "- `algorithm`, Indicate what algorithm used to compute the nearest neighbors.\n",
    "<br>\n",
    "\n",
    "For more documentation is here https://scikit-learn.org/stable/modules/generated/sklearn.neighbors.KNeighborsRegressor.html"
   ]
  },
  {
   "cell_type": "code",
   "execution_count": 33,
   "metadata": {},
   "outputs": [
    {
     "name": "stderr",
     "output_type": "stream",
     "text": [
      "C:\\Users\\ASUS\\AppData\\Local\\Programs\\Python\\Python39\\lib\\site-packages\\sklearn\\model_selection\\_search.py:285: UserWarning: The total space of parameters 384 is smaller than n_iter=500. Running 384 iterations. For exhaustive searches, use GridSearchCV.\n",
      "  warnings.warn(\n"
     ]
    },
    {
     "name": "stdout",
     "output_type": "stream",
     "text": [
      "Fitting 5 folds for each of 384 candidates, totalling 1920 fits\n"
     ]
    },
    {
     "data": {
      "text/plain": [
       "RandomizedSearchCV(cv=5, estimator=KNeighborsRegressor(), n_iter=500, n_jobs=-1,\n",
       "                   param_distributions={'algorithm': ['auto', 'ball_tree',\n",
       "                                                      'kd_tree', 'brute'],\n",
       "                                        'leaf_size': [1, 2, 3, 5],\n",
       "                                        'n_neighbors': [10, 20, 40, 60, 80, 100,\n",
       "                                                        120, 150, 180, 200, 300,\n",
       "                                                        350],\n",
       "                                        'weights': ['uniform', 'distance']},\n",
       "                   random_state=42, verbose=1)"
      ]
     },
     "execution_count": 33,
     "metadata": {},
     "output_type": "execute_result"
    }
   ],
   "source": [
    "# Setting the parameters\n",
    "knn_grid = {'n_neighbors': [10, 20, 40, 60, 80, 100, 120, 150, 180, 200, 300, 350],\n",
    "            'leaf_size':[1,2,3,5],\n",
    "            'weights':['uniform', 'distance'],\n",
    "            'algorithm':['auto', 'ball_tree','kd_tree','brute']\n",
    "}\n",
    "\n",
    "knn_rcv = RandomizedSearchCV(knn, knn_grid, n_iter = 500, cv = 5, verbose=1, random_state=42, n_jobs = -1)\n",
    "knn_rcv.fit(x_train_scaled, y_train)"
   ]
  },
  {
   "cell_type": "code",
   "execution_count": 34,
   "metadata": {},
   "outputs": [
    {
     "data": {
      "text/plain": [
       "{'weights': 'distance',\n",
       " 'n_neighbors': 10,\n",
       " 'leaf_size': 2,\n",
       " 'algorithm': 'ball_tree'}"
      ]
     },
     "execution_count": 34,
     "metadata": {},
     "output_type": "execute_result"
    }
   ],
   "source": [
    "# Showing the best parameters\n",
    "knn_rcv.best_params_"
   ]
  },
  {
   "cell_type": "code",
   "execution_count": 35,
   "metadata": {},
   "outputs": [
    {
     "data": {
      "text/plain": [
       "KNeighborsRegressor(n_neighbors=20)"
      ]
     },
     "execution_count": 35,
     "metadata": {},
     "output_type": "execute_result"
    }
   ],
   "source": [
    "# Best parameters deployment\n",
    "knn_tuned = KNeighborsRegressor(n_neighbors = 20)\n",
    "knn_tuned.fit(x_train_scaled,y_train)"
   ]
  },
  {
   "cell_type": "code",
   "execution_count": 36,
   "metadata": {},
   "outputs": [
    {
     "name": "stdout",
     "output_type": "stream",
     "text": [
      "__Training__\n",
      "R-squared: 0.6168478417024864\n",
      "MAE: 506874458.3333333\n",
      "MSE: 2.6539254647518746e+18\n",
      "RMSE: 1629087310.3526018\n",
      "__Validation__\n",
      "R-squared: 0.6606916866548689\n",
      "MAE: 572099337.0165746\n",
      "MSE: 2.6359464622975135e+18\n",
      "RMSE: 1623559811.7400892\n"
     ]
    },
    {
     "name": "stderr",
     "output_type": "stream",
     "text": [
      "C:\\Users\\ASUS\\AppData\\Local\\Programs\\Python\\Python39\\lib\\site-packages\\seaborn\\distributions.py:2557: FutureWarning: `distplot` is a deprecated function and will be removed in a future version. Please adapt your code to use either `displot` (a figure-level function with similar flexibility) or `kdeplot` (an axes-level function for kernel density plots).\n",
      "  warnings.warn(msg, FutureWarning)\n",
      "C:\\Users\\ASUS\\AppData\\Local\\Programs\\Python\\Python39\\lib\\site-packages\\seaborn\\distributions.py:2557: FutureWarning: `distplot` is a deprecated function and will be removed in a future version. Please adapt your code to use either `displot` (a figure-level function with similar flexibility) or `kdeplot` (an axes-level function for kernel density plots).\n",
      "  warnings.warn(msg, FutureWarning)\n"
     ]
    },
    {
     "data": {
      "image/png": "[encoded data removed]",
      "text/plain": [
       "<Figure size 504x504 with 1 Axes>"
      ]
     },
     "metadata": {
      "needs_background": "light"
     },
     "output_type": "display_data"
    }
   ],
   "source": [
    "evaluation(knn_tuned)"
   ]
  },
  {
   "cell_type": "markdown",
   "metadata": {},
   "source": [
    "### 3. Ridge Regression"
   ]
  },
  {
   "cell_type": "code",
   "execution_count": 37,
   "metadata": {},
   "outputs": [
    {
     "data": {
      "text/plain": [
       "{'alpha': 100000,\n",
       " 'copy_X': True,\n",
       " 'fit_intercept': True,\n",
       " 'max_iter': None,\n",
       " 'normalize': False,\n",
       " 'random_state': None,\n",
       " 'solver': 'auto',\n",
       " 'tol': 0.001}"
      ]
     },
     "execution_count": 37,
     "metadata": {},
     "output_type": "execute_result"
    }
   ],
   "source": [
    "# Getting the parameters\n",
    "ridge.get_params()"
   ]
  },
  {
   "cell_type": "markdown",
   "metadata": {},
   "source": [
    "We will use `alpha` for ridge hyperparameter tuning, because alpha are the regularization parameters. Regularization improves the conditioning of the problem and reduces the variance of the estimates. Larger values specify stronger regularization.\n",
    "<br>\n",
    "\n",
    "For more documentation is here https://scikit-learn.org/stable/modules/generated/sklearn.linear_model.Ridge.html"
   ]
  },
  {
   "cell_type": "code",
   "execution_count": 38,
   "metadata": {},
   "outputs": [
    {
     "name": "stdout",
     "output_type": "stream",
     "text": [
      "Fitting 5 folds for each of 12 candidates, totalling 60 fits\n"
     ]
    },
    {
     "name": "stderr",
     "output_type": "stream",
     "text": [
      "C:\\Users\\ASUS\\AppData\\Local\\Programs\\Python\\Python39\\lib\\site-packages\\sklearn\\model_selection\\_search.py:285: UserWarning: The total space of parameters 12 is smaller than n_iter=500. Running 12 iterations. For exhaustive searches, use GridSearchCV.\n",
      "  warnings.warn(\n"
     ]
    },
    {
     "data": {
      "text/plain": [
       "RandomizedSearchCV(cv=5, estimator=Ridge(alpha=100000), n_iter=500, n_jobs=-1,\n",
       "                   param_distributions={'alpha': [100000, 10000, 1000, 100, 10,\n",
       "                                                  1, 0.1, 0.01, 0.001, 0.0001,\n",
       "                                                  1e-05, 1e-06]},\n",
       "                   random_state=42, verbose=1)"
      ]
     },
     "execution_count": 38,
     "metadata": {},
     "output_type": "execute_result"
    }
   ],
   "source": [
    "# Setting the parameters\n",
    "ridge_grid = {'alpha': [100000,10000,1000,100,10,1,0.1,0.01,0.001,0.0001,0.00001,0.000001]\n",
    "}\n",
    "\n",
    "ridge_rcv = RandomizedSearchCV(ridge, ridge_grid, n_iter = 500, cv = 5, verbose=1, random_state=42, n_jobs = -1)\n",
    "ridge_rcv.fit(x_train_scaled, y_train)"
   ]
  },
  {
   "cell_type": "code",
   "execution_count": 39,
   "metadata": {},
   "outputs": [
    {
     "data": {
      "text/plain": [
       "{'alpha': 100}"
      ]
     },
     "execution_count": 39,
     "metadata": {},
     "output_type": "execute_result"
    }
   ],
   "source": [
    "# Show the best parameters\n",
    "ridge_rcv.best_params_"
   ]
  },
  {
   "cell_type": "code",
   "execution_count": 40,
   "metadata": {},
   "outputs": [
    {
     "data": {
      "text/plain": [
       "Ridge(alpha=100)"
      ]
     },
     "execution_count": 40,
     "metadata": {},
     "output_type": "execute_result"
    }
   ],
   "source": [
    "# Best parameters deployment\n",
    "ridge_tuned = Ridge(alpha= 100)\n",
    "ridge_tuned.fit(x_train_scaled,y_train)"
   ]
  },
  {
   "cell_type": "code",
   "execution_count": 41,
   "metadata": {},
   "outputs": [
    {
     "name": "stdout",
     "output_type": "stream",
     "text": [
      "__Training__\n",
      "R-squared: 0.816788170323038\n",
      "MAE: 535971207.28942853\n",
      "MSE: 1.2690272772675333e+18\n",
      "RMSE: 1126511108.36402\n",
      "__Validation__\n",
      "R-squared: 0.714063950196598\n",
      "MAE: 574891837.7838053\n",
      "MSE: 2.2213193407847823e+18\n",
      "RMSE: 1490409118.5928721\n"
     ]
    },
    {
     "name": "stderr",
     "output_type": "stream",
     "text": [
      "C:\\Users\\ASUS\\AppData\\Local\\Programs\\Python\\Python39\\lib\\site-packages\\seaborn\\distributions.py:2557: FutureWarning: `distplot` is a deprecated function and will be removed in a future version. Please adapt your code to use either `displot` (a figure-level function with similar flexibility) or `kdeplot` (an axes-level function for kernel density plots).\n",
      "  warnings.warn(msg, FutureWarning)\n",
      "C:\\Users\\ASUS\\AppData\\Local\\Programs\\Python\\Python39\\lib\\site-packages\\seaborn\\distributions.py:2557: FutureWarning: `distplot` is a deprecated function and will be removed in a future version. Please adapt your code to use either `displot` (a figure-level function with similar flexibility) or `kdeplot` (an axes-level function for kernel density plots).\n",
      "  warnings.warn(msg, FutureWarning)\n"
     ]
    },
    {
     "data": {
      "image/png": "[encoded data removed]",
      "text/plain": [
       "<Figure size 504x504 with 1 Axes>"
      ]
     },
     "metadata": {
      "needs_background": "light"
     },
     "output_type": "display_data"
    }
   ],
   "source": [
    "evaluation(ridge)"
   ]
  },
  {
   "cell_type": "markdown",
   "metadata": {},
   "source": [
    "## Tuned Model Comparison"
   ]
  },
  {
   "cell_type": "code",
   "execution_count": 42,
   "metadata": {},
   "outputs": [],
   "source": [
    "result_tuned = pd.DataFrame({\n",
    "    'Model' : ['Random Forest','KNN','Ridge Regression'],\n",
    "    'R-squared' :[0.8364638366409367*100,0.6606972187807085*100,0.7140639501965977*100],\n",
    "})\n",
    "\n",
    "result_tuned = result_tuned.sort_values(by='R-squared',ascending= False).reset_index(drop = True)"
   ]
  },
  {
   "cell_type": "code",
   "execution_count": 43,
   "metadata": {},
   "outputs": [
    {
     "data": {
      "text/html": [
       "<div>\n",
       "<style scoped>\n",
       "    .dataframe tbody tr th:only-of-type {\n",
       "        vertical-align: middle;\n",
       "    }\n",
       "\n",
       "    .dataframe tbody tr th {\n",
       "        vertical-align: top;\n",
       "    }\n",
       "\n",
       "    .dataframe thead th {\n",
       "        text-align: right;\n",
       "    }\n",
       "</style>\n",
       "<table border=\"1\" class=\"dataframe\">\n",
       "  <thead>\n",
       "    <tr style=\"text-align: right;\">\n",
       "      <th></th>\n",
       "      <th>Model</th>\n",
       "      <th>R-squared</th>\n",
       "    </tr>\n",
       "  </thead>\n",
       "  <tbody>\n",
       "    <tr>\n",
       "      <th>0</th>\n",
       "      <td>Random Forest</td>\n",
       "      <td>83.646384</td>\n",
       "    </tr>\n",
       "    <tr>\n",
       "      <th>1</th>\n",
       "      <td>Ridge Regression</td>\n",
       "      <td>71.406395</td>\n",
       "    </tr>\n",
       "    <tr>\n",
       "      <th>2</th>\n",
       "      <td>KNN</td>\n",
       "      <td>66.069722</td>\n",
       "    </tr>\n",
       "  </tbody>\n",
       "</table>\n",
       "</div>"
      ],
      "text/plain": [
       "              Model  R-squared\n",
       "0     Random Forest  83.646384\n",
       "1  Ridge Regression  71.406395\n",
       "2               KNN  66.069722"
      ]
     },
     "execution_count": 43,
     "metadata": {},
     "output_type": "execute_result"
    }
   ],
   "source": [
    "result_tuned"
   ]
  },
  {
   "cell_type": "markdown",
   "metadata": {},
   "source": [
    "After some hyperparameter tuning, it turned out that parameters are able to improve for 'Random Forest' and 'Ridge Regression' performance, although not for the 'KNN' model where was decrease performance. So based on the table above, we can define that `Random Forest` as the method applied to this dataset."
   ]
  },
  {
   "cell_type": "markdown",
   "metadata": {},
   "source": [
    "## Feature Importance"
   ]
  },
  {
   "cell_type": "markdown",
   "metadata": {},
   "source": [
    "Last but not least, we want to see the most of feature importance in this dataset. We can call function named feature_importances_. The more bigger feature importance, the more important it is."
   ]
  },
  {
   "cell_type": "code",
   "execution_count": null,
   "metadata": {},
   "outputs": [],
   "source": [
    "fe_imp = pd.DataFrame(zip(x.columns, rf_tuned.feature_importances_))\n",
    "fe_imp = fe_imp.rename({0:'Features', 1:'Importance'}, axis = 'columns')\n",
    "fe_imp = fe_imp.sort_values(by=['Importance'], ascending = [False]).reset_index(drop = True)"
   ]
  },
  {
   "cell_type": "code",
   "execution_count": null,
   "metadata": {},
   "outputs": [
    {
     "data": {
      "text/html": [
       "<div>\n",
       "<style scoped>\n",
       "    .dataframe tbody tr th:only-of-type {\n",
       "        vertical-align: middle;\n",
       "    }\n",
       "\n",
       "    .dataframe tbody tr th {\n",
       "        vertical-align: top;\n",
       "    }\n",
       "\n",
       "    .dataframe thead th {\n",
       "        text-align: right;\n",
       "    }\n",
       "</style>\n",
       "<table border=\"1\" class=\"dataframe\">\n",
       "  <thead>\n",
       "    <tr style=\"text-align: right;\">\n",
       "      <th></th>\n",
       "      <th>Features</th>\n",
       "      <th>Importance</th>\n",
       "    </tr>\n",
       "  </thead>\n",
       "  <tbody>\n",
       "    <tr>\n",
       "      <th>0</th>\n",
       "      <td>surface_area</td>\n",
       "      <td>0.006528</td>\n",
       "    </tr>\n",
       "    <tr>\n",
       "      <th>1</th>\n",
       "      <td>tenure</td>\n",
       "      <td>0.001920</td>\n",
       "    </tr>\n",
       "    <tr>\n",
       "      <th>2</th>\n",
       "      <td>parking_area</td>\n",
       "      <td>0.000970</td>\n",
       "    </tr>\n",
       "    <tr>\n",
       "      <th>3</th>\n",
       "      <td>building_area</td>\n",
       "      <td>0.000068</td>\n",
       "    </tr>\n",
       "    <tr>\n",
       "      <th>4</th>\n",
       "      <td>bathroom</td>\n",
       "      <td>0.000002</td>\n",
       "    </tr>\n",
       "    <tr>\n",
       "      <th>5</th>\n",
       "      <td>address</td>\n",
       "      <td>0.000000</td>\n",
       "    </tr>\n",
       "    <tr>\n",
       "      <th>6</th>\n",
       "      <td>bedroom</td>\n",
       "      <td>0.000000</td>\n",
       "    </tr>\n",
       "  </tbody>\n",
       "</table>\n",
       "</div>"
      ],
      "text/plain": [
       "        Features  Importance\n",
       "0   surface_area    0.006528\n",
       "1         tenure    0.001920\n",
       "2   parking_area    0.000970\n",
       "3  building_area    0.000068\n",
       "4       bathroom    0.000002\n",
       "5        address    0.000000\n",
       "6        bedroom    0.000000"
      ]
     },
     "execution_count": 54,
     "metadata": {},
     "output_type": "execute_result"
    }
   ],
   "source": [
    "fe_imp"
   ]
  },
  {
   "cell_type": "markdown",
   "metadata": {},
   "source": [
    "What we can see?\n",
    "\n",
    "1. Based on the feature importance table above, 'surface area' is still the most feature that has an effect on the target feature, but it turns out that in this model, 'tenure' and 'parking area' are the features that have quite effect on the target feature.\n",
    "2. As before, the supporting facilities like bedrooms and bathrooms aren't important yet, but it turns out that in this model, 'address' isn't too much effect the target feature. So, 'Surface Area' and 'Tenure' statuses are the most important features for determining the selling value of a house in Cimahi and its surroundings."
   ]
  },
  {
   "cell_type": "markdown",
   "metadata": {},
   "source": [
    "## Conclusion"
   ]
  },
  {
   "cell_type": "markdown",
   "metadata": {},
   "source": [
    "- The regression model that we choose to model our data is `Random Forest Regressor`. We have verified in the test set that this model shows a high accuracy and less overfitting issues compared to other models.\n",
    "- The top feature that affects the selling price of houses in Cimahi and its surrounding is 'Surface Area'. So Cimahi people think'the bigger surface area, the higher land or house value'.\n",
    "- Surprisingly, that tenure statuses has a quite high effect to house price, so we can assume that if the house is legal and is private ownership, it will be an added value and more higher the selling price value.\n",
    "- Last, it turns out that 'Address' doesn't have an effect on the house selling price, maybe because Cimahi people are just seeing the Surface Area, no matter where the location is.\n",
    "\n",
    "Thank you very much for your attention and time, I hope this research can provide useful information :)"
   ]
  }
 ],
 "metadata": {
  "interpreter": {
   "hash": "8da01e5a71448ea74f54d88afa8911010d1d12e23bc7e103d40d5def4a09152c"
  },
  "kernelspec": {
   "display_name": "Python 3.9.2 64-bit",
   "language": "python",
   "name": "python3"
  },
  "language_info": {
   "codemirror_mode": {
    "name": "ipython",
    "version": 3
   },
   "file_extension": ".py",
   "mimetype": "text/x-python",
   "name": "python",
   "nbconvert_exporter": "python",
   "pygments_lexer": "ipython3",
   "version": "3.9.2"
  },
  "orig_nbformat": 4
 },
 "nbformat": 4,
 "nbformat_minor": 2
}
